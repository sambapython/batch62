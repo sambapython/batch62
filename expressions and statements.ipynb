{
 "cells": [
  {
   "cell_type": "code",
   "execution_count": 1,
   "metadata": {},
   "outputs": [
    {
     "name": "stdout",
     "output_type": "stream",
     "text": [
      "410\n"
     ]
    }
   ],
   "source": [
    "a=10\n",
    "b=20\n",
    "print(a+b**2)"
   ]
  },
  {
   "cell_type": "code",
   "execution_count": 2,
   "metadata": {},
   "outputs": [
    {
     "name": "stdout",
     "output_type": "stream",
     "text": [
      "900\n"
     ]
    }
   ],
   "source": [
    "a=10\n",
    "b=20\n",
    "print((a+b)**2)"
   ]
  },
  {
   "cell_type": "code",
   "execution_count": 3,
   "metadata": {},
   "outputs": [
    {
     "ename": "SyntaxError",
     "evalue": "invalid syntax (<ipython-input-3-8975d1e1e111>, line 3)",
     "output_type": "error",
     "traceback": [
      "\u001b[0;36m  File \u001b[0;32m\"<ipython-input-3-8975d1e1e111>\"\u001b[0;36m, line \u001b[0;32m3\u001b[0m\n\u001b[0;31m    print(a**2+b**2+2ab)\u001b[0m\n\u001b[0m                      ^\u001b[0m\n\u001b[0;31mSyntaxError\u001b[0m\u001b[0;31m:\u001b[0m invalid syntax\n"
     ]
    }
   ],
   "source": [
    "a=10\n",
    "b=20\n",
    "print(a**2+b**2+2ab)"
   ]
  },
  {
   "cell_type": "code",
   "execution_count": 4,
   "metadata": {},
   "outputs": [
    {
     "name": "stdout",
     "output_type": "stream",
     "text": [
      "900\n"
     ]
    }
   ],
   "source": [
    "a=10\n",
    "b=20\n",
    "print(a**2+b**2+2*a*b)"
   ]
  },
  {
   "cell_type": "code",
   "execution_count": 5,
   "metadata": {},
   "outputs": [
    {
     "name": "stdout",
     "output_type": "stream",
     "text": [
      "Enter a value:python\n",
      "python <class 'str'>\n"
     ]
    }
   ],
   "source": [
    "a=input(\"Enter a value:\")\n",
    "print(a, type(a))"
   ]
  },
  {
   "cell_type": "code",
   "execution_count": 6,
   "metadata": {},
   "outputs": [
    {
     "name": "stdout",
     "output_type": "stream",
     "text": [
      "10 <class 'int'>\n"
     ]
    }
   ],
   "source": [
    "a=10\n",
    "print(a,type(a))"
   ]
  },
  {
   "cell_type": "code",
   "execution_count": 7,
   "metadata": {},
   "outputs": [
    {
     "name": "stdout",
     "output_type": "stream",
     "text": [
      "10 <class 'str'>\n"
     ]
    }
   ],
   "source": [
    "a=\"10\"\n",
    "print(a,type(a))"
   ]
  },
  {
   "cell_type": "code",
   "execution_count": 8,
   "metadata": {},
   "outputs": [
    {
     "name": "stdout",
     "output_type": "stream",
     "text": [
      "True <class 'bool'>\n"
     ]
    }
   ],
   "source": [
    "a=True\n",
    "print(a,type(a))"
   ]
  },
  {
   "cell_type": "code",
   "execution_count": 9,
   "metadata": {},
   "outputs": [
    {
     "name": "stdout",
     "output_type": "stream",
     "text": [
      "True <class 'str'>\n"
     ]
    }
   ],
   "source": [
    "a=\"True\"\n",
    "print(a,type(a))"
   ]
  },
  {
   "cell_type": "code",
   "execution_count": 10,
   "metadata": {},
   "outputs": [
    {
     "name": "stdout",
     "output_type": "stream",
     "text": [
      "[1, 2, 3, 4] <class 'list'>\n"
     ]
    }
   ],
   "source": [
    "a=[1,2,3,4]\n",
    "print(a, type(a))"
   ]
  },
  {
   "cell_type": "code",
   "execution_count": 12,
   "metadata": {},
   "outputs": [
    {
     "name": "stdout",
     "output_type": "stream",
     "text": [
      "[1,2,3,4] <class 'str'>\n"
     ]
    }
   ],
   "source": [
    "a='[1,2,3,4]'\n",
    "print(a, type(a))"
   ]
  },
  {
   "cell_type": "code",
   "execution_count": 13,
   "metadata": {},
   "outputs": [
    {
     "name": "stdout",
     "output_type": "stream",
     "text": [
      "enter a value:10\n",
      "Enter b value:20\n",
      "1020\n"
     ]
    }
   ],
   "source": [
    "a=input(\"enter a value:\")\n",
    "b=input(\"Enter b value:\")\n",
    "print(a+b)"
   ]
  },
  {
   "cell_type": "code",
   "execution_count": 14,
   "metadata": {},
   "outputs": [
    {
     "data": {
      "text/plain": [
       "'1020'"
      ]
     },
     "execution_count": 14,
     "metadata": {},
     "output_type": "execute_result"
    }
   ],
   "source": [
    "a=\"10\"\n",
    "v=\"20\"\n",
    "a+v"
   ]
  },
  {
   "cell_type": "code",
   "execution_count": 16,
   "metadata": {},
   "outputs": [
    {
     "name": "stdout",
     "output_type": "stream",
     "text": [
      "10 <class 'int'>\n"
     ]
    }
   ],
   "source": [
    "a=\"10\"\n",
    "b=int(a)\n",
    "print(b,type(b))"
   ]
  },
  {
   "cell_type": "code",
   "execution_count": 17,
   "metadata": {},
   "outputs": [
    {
     "ename": "ValueError",
     "evalue": "invalid literal for int() with base 10: '10.23'",
     "output_type": "error",
     "traceback": [
      "\u001b[0;31m---------------------------------------------------------------------------\u001b[0m",
      "\u001b[0;31mValueError\u001b[0m                                Traceback (most recent call last)",
      "\u001b[0;32m<ipython-input-17-e6f6d59f416c>\u001b[0m in \u001b[0;36m<module>\u001b[0;34m()\u001b[0m\n\u001b[1;32m      1\u001b[0m \u001b[0ma\u001b[0m\u001b[0;34m=\u001b[0m\u001b[0;34m\"10.23\"\u001b[0m\u001b[0;34m\u001b[0m\u001b[0m\n\u001b[0;32m----> 2\u001b[0;31m \u001b[0mb\u001b[0m\u001b[0;34m=\u001b[0m\u001b[0mint\u001b[0m\u001b[0;34m(\u001b[0m\u001b[0ma\u001b[0m\u001b[0;34m)\u001b[0m\u001b[0;34m\u001b[0m\u001b[0m\n\u001b[0m\u001b[1;32m      3\u001b[0m \u001b[0mprint\u001b[0m\u001b[0;34m(\u001b[0m\u001b[0mb\u001b[0m\u001b[0;34m,\u001b[0m\u001b[0mtype\u001b[0m\u001b[0;34m(\u001b[0m\u001b[0mb\u001b[0m\u001b[0;34m)\u001b[0m\u001b[0;34m)\u001b[0m\u001b[0;34m\u001b[0m\u001b[0m\n",
      "\u001b[0;31mValueError\u001b[0m: invalid literal for int() with base 10: '10.23'"
     ]
    }
   ],
   "source": [
    "a=\"10.23\"\n",
    "b=int(a)\n",
    "print(b,type(b))"
   ]
  },
  {
   "cell_type": "code",
   "execution_count": 18,
   "metadata": {},
   "outputs": [
    {
     "name": "stdout",
     "output_type": "stream",
     "text": [
      "10.23 <class 'float'>\n"
     ]
    }
   ],
   "source": [
    "a=\"10.23\"\n",
    "b=float(a)\n",
    "print(b,type(b))"
   ]
  },
  {
   "cell_type": "code",
   "execution_count": 19,
   "metadata": {},
   "outputs": [
    {
     "ename": "ValueError",
     "evalue": "could not convert string to float: '10.23asdf'",
     "output_type": "error",
     "traceback": [
      "\u001b[0;31m---------------------------------------------------------------------------\u001b[0m",
      "\u001b[0;31mValueError\u001b[0m                                Traceback (most recent call last)",
      "\u001b[0;32m<ipython-input-19-2cdf561c0368>\u001b[0m in \u001b[0;36m<module>\u001b[0;34m()\u001b[0m\n\u001b[1;32m      1\u001b[0m \u001b[0ma\u001b[0m\u001b[0;34m=\u001b[0m\u001b[0;34m\"10.23asdf\"\u001b[0m\u001b[0;34m\u001b[0m\u001b[0m\n\u001b[0;32m----> 2\u001b[0;31m \u001b[0mb\u001b[0m\u001b[0;34m=\u001b[0m\u001b[0mfloat\u001b[0m\u001b[0;34m(\u001b[0m\u001b[0ma\u001b[0m\u001b[0;34m)\u001b[0m\u001b[0;34m\u001b[0m\u001b[0m\n\u001b[0m\u001b[1;32m      3\u001b[0m \u001b[0mprint\u001b[0m\u001b[0;34m(\u001b[0m\u001b[0mb\u001b[0m\u001b[0;34m,\u001b[0m\u001b[0mtype\u001b[0m\u001b[0;34m(\u001b[0m\u001b[0mb\u001b[0m\u001b[0;34m)\u001b[0m\u001b[0;34m)\u001b[0m\u001b[0;34m\u001b[0m\u001b[0m\n",
      "\u001b[0;31mValueError\u001b[0m: could not convert string to float: '10.23asdf'"
     ]
    }
   ],
   "source": [
    "a=\"10.23asdf\"\n",
    "b=float(a)\n",
    "print(b,type(b))"
   ]
  },
  {
   "cell_type": "code",
   "execution_count": 20,
   "metadata": {},
   "outputs": [
    {
     "name": "stdout",
     "output_type": "stream",
     "text": [
      "enter a value:1234\n"
     ]
    }
   ],
   "source": [
    "a=input(\"enter a value:\")"
   ]
  },
  {
   "cell_type": "code",
   "execution_count": 21,
   "metadata": {},
   "outputs": [
    {
     "name": "stdout",
     "output_type": "stream",
     "text": [
      "enter a value:12\n"
     ]
    }
   ],
   "source": [
    "a=input(\"enter a value:\")\n",
    "b=int(a)"
   ]
  },
  {
   "cell_type": "code",
   "execution_count": 22,
   "metadata": {},
   "outputs": [
    {
     "name": "stdout",
     "output_type": "stream",
     "text": [
      "enter a value:12.34\n"
     ]
    },
    {
     "ename": "ValueError",
     "evalue": "invalid literal for int() with base 10: '12.34'",
     "output_type": "error",
     "traceback": [
      "\u001b[0;31m---------------------------------------------------------------------------\u001b[0m",
      "\u001b[0;31mValueError\u001b[0m                                Traceback (most recent call last)",
      "\u001b[0;32m<ipython-input-22-ab57227bc4a0>\u001b[0m in \u001b[0;36m<module>\u001b[0;34m()\u001b[0m\n\u001b[1;32m      1\u001b[0m \u001b[0ma\u001b[0m\u001b[0;34m=\u001b[0m\u001b[0minput\u001b[0m\u001b[0;34m(\u001b[0m\u001b[0;34m\"enter a value:\"\u001b[0m\u001b[0;34m)\u001b[0m\u001b[0;34m\u001b[0m\u001b[0m\n\u001b[0;32m----> 2\u001b[0;31m \u001b[0mb\u001b[0m\u001b[0;34m=\u001b[0m\u001b[0mint\u001b[0m\u001b[0;34m(\u001b[0m\u001b[0ma\u001b[0m\u001b[0;34m)\u001b[0m\u001b[0;34m\u001b[0m\u001b[0m\n\u001b[0m",
      "\u001b[0;31mValueError\u001b[0m: invalid literal for int() with base 10: '12.34'"
     ]
    }
   ],
   "source": [
    "a=input(\"enter a value:\")\n",
    "b=int(a)"
   ]
  },
  {
   "cell_type": "code",
   "execution_count": 23,
   "metadata": {},
   "outputs": [
    {
     "name": "stdout",
     "output_type": "stream",
     "text": [
      "enter a value:werr34\n"
     ]
    },
    {
     "ename": "ValueError",
     "evalue": "invalid literal for int() with base 10: 'werr34'",
     "output_type": "error",
     "traceback": [
      "\u001b[0;31m---------------------------------------------------------------------------\u001b[0m",
      "\u001b[0;31mValueError\u001b[0m                                Traceback (most recent call last)",
      "\u001b[0;32m<ipython-input-23-ab57227bc4a0>\u001b[0m in \u001b[0;36m<module>\u001b[0;34m()\u001b[0m\n\u001b[1;32m      1\u001b[0m \u001b[0ma\u001b[0m\u001b[0;34m=\u001b[0m\u001b[0minput\u001b[0m\u001b[0;34m(\u001b[0m\u001b[0;34m\"enter a value:\"\u001b[0m\u001b[0;34m)\u001b[0m\u001b[0;34m\u001b[0m\u001b[0m\n\u001b[0;32m----> 2\u001b[0;31m \u001b[0mb\u001b[0m\u001b[0;34m=\u001b[0m\u001b[0mint\u001b[0m\u001b[0;34m(\u001b[0m\u001b[0ma\u001b[0m\u001b[0;34m)\u001b[0m\u001b[0;34m\u001b[0m\u001b[0m\n\u001b[0m",
      "\u001b[0;31mValueError\u001b[0m: invalid literal for int() with base 10: 'werr34'"
     ]
    }
   ],
   "source": [
    "a=input(\"enter a value:\")\n",
    "b=int(a)"
   ]
  },
  {
   "cell_type": "code",
   "execution_count": 24,
   "metadata": {},
   "outputs": [
    {
     "name": "stdout",
     "output_type": "stream",
     "text": [
      "enter a value:12.34\n"
     ]
    }
   ],
   "source": [
    "a=input(\"enter a value:\")\n",
    "b=float(a)"
   ]
  },
  {
   "cell_type": "code",
   "execution_count": 25,
   "metadata": {},
   "outputs": [
    {
     "name": "stdout",
     "output_type": "stream",
     "text": [
      "enter a value:12.34wrt\n"
     ]
    },
    {
     "ename": "ValueError",
     "evalue": "could not convert string to float: '12.34wrt'",
     "output_type": "error",
     "traceback": [
      "\u001b[0;31m---------------------------------------------------------------------------\u001b[0m",
      "\u001b[0;31mValueError\u001b[0m                                Traceback (most recent call last)",
      "\u001b[0;32m<ipython-input-25-7ba6287c3140>\u001b[0m in \u001b[0;36m<module>\u001b[0;34m()\u001b[0m\n\u001b[1;32m      1\u001b[0m \u001b[0ma\u001b[0m\u001b[0;34m=\u001b[0m\u001b[0minput\u001b[0m\u001b[0;34m(\u001b[0m\u001b[0;34m\"enter a value:\"\u001b[0m\u001b[0;34m)\u001b[0m\u001b[0;34m\u001b[0m\u001b[0m\n\u001b[0;32m----> 2\u001b[0;31m \u001b[0mb\u001b[0m\u001b[0;34m=\u001b[0m\u001b[0mfloat\u001b[0m\u001b[0;34m(\u001b[0m\u001b[0ma\u001b[0m\u001b[0;34m)\u001b[0m\u001b[0;34m\u001b[0m\u001b[0m\n\u001b[0m",
      "\u001b[0;31mValueError\u001b[0m: could not convert string to float: '12.34wrt'"
     ]
    }
   ],
   "source": [
    "a=input(\"enter a value:\")\n",
    "b=float(a)"
   ]
  },
  {
   "cell_type": "code",
   "execution_count": 27,
   "metadata": {},
   "outputs": [
    {
     "name": "stdout",
     "output_type": "stream",
     "text": [
      "enter a value:12\n",
      "12.0 <class 'float'>\n"
     ]
    }
   ],
   "source": [
    "a=input(\"enter a value:\")\n",
    "b=float(a)\n",
    "print(b, type(b))"
   ]
  },
  {
   "cell_type": "code",
   "execution_count": 28,
   "metadata": {},
   "outputs": [
    {
     "data": {
      "text/plain": [
       "1.8"
      ]
     },
     "execution_count": 28,
     "metadata": {},
     "output_type": "execute_result"
    }
   ],
   "source": [
    "9/5"
   ]
  },
  {
   "cell_type": "code",
   "execution_count": 29,
   "metadata": {},
   "outputs": [
    {
     "name": "stdout",
     "output_type": "stream",
     "text": [
      "enter temparature in celcius:30\n"
     ]
    }
   ],
   "source": [
    "a=input(\"enter temparature in celcius:\")\n",
    "c=float(a)\n",
    "f= c * (9/5) +32"
   ]
  },
  {
   "cell_type": "code",
   "execution_count": 30,
   "metadata": {},
   "outputs": [
    {
     "name": "stdout",
     "output_type": "stream",
     "text": [
      "86.0\n"
     ]
    }
   ],
   "source": [
    "print(f)"
   ]
  },
  {
   "cell_type": "code",
   "execution_count": 31,
   "metadata": {},
   "outputs": [
    {
     "name": "stdout",
     "output_type": "stream",
     "text": [
      "enter temparature in celcius:30\n"
     ]
    }
   ],
   "source": [
    "a=input(\"enter temparature in celcius:\")\n",
    "c=float(a)\n",
    "f= c * 9/5 +32\n",
    "print(f)"
   ]
  },
  {
   "cell_type": "code",
   "execution_count": 32,
   "metadata": {},
   "outputs": [
    {
     "name": "stdout",
     "output_type": "stream",
     "text": [
      "86.0\n"
     ]
    }
   ],
   "source": [
    "print(f)"
   ]
  },
  {
   "cell_type": "code",
   "execution_count": 33,
   "metadata": {},
   "outputs": [],
   "source": [
    "# Today very 'cool' in \"Hyderabad\""
   ]
  },
  {
   "cell_type": "code",
   "execution_count": 34,
   "metadata": {},
   "outputs": [
    {
     "name": "stdout",
     "output_type": "stream",
     "text": [
      "\n"
     ]
    }
   ],
   "source": [
    "\"\"\"\n",
    "this is for multiline comment\n",
    "\"\"\"\n",
    "print()"
   ]
  },
  {
   "cell_type": "code",
   "execution_count": 35,
   "metadata": {},
   "outputs": [
    {
     "name": "stdout",
     "output_type": "stream",
     "text": [
      "\n"
     ]
    }
   ],
   "source": [
    "'''\n",
    "this is for multiline comment\n",
    "\n",
    "'''\n",
    "\n",
    "print()"
   ]
  },
  {
   "cell_type": "code",
   "execution_count": 36,
   "metadata": {},
   "outputs": [
    {
     "ename": "SyntaxError",
     "evalue": "invalid syntax (<ipython-input-36-97bfdcfcdc70>, line 1)",
     "output_type": "error",
     "traceback": [
      "\u001b[0;36m  File \u001b[0;32m\"<ipython-input-36-97bfdcfcdc70>\"\u001b[0;36m, line \u001b[0;32m1\u001b[0m\n\u001b[0;31m    print(\"Today very 'cool' in \"Hyderabad\"\")\u001b[0m\n\u001b[0m                                         ^\u001b[0m\n\u001b[0;31mSyntaxError\u001b[0m\u001b[0;31m:\u001b[0m invalid syntax\n"
     ]
    }
   ],
   "source": [
    "print(\"Today very 'cool' in \"Hyderabad\"\")"
   ]
  },
  {
   "cell_type": "code",
   "execution_count": 37,
   "metadata": {},
   "outputs": [
    {
     "name": "stdout",
     "output_type": "stream",
     "text": [
      "Today very 'cool' in \"Hyderabad\"\n"
     ]
    }
   ],
   "source": [
    "print(\"Today very 'cool' in \\\"Hyderabad\\\"\")"
   ]
  },
  {
   "cell_type": "code",
   "execution_count": 38,
   "metadata": {},
   "outputs": [
    {
     "name": "stdout",
     "output_type": "stream",
     "text": [
      "Today very 'cool' in \"Hyderabad\"\n"
     ]
    }
   ],
   "source": [
    "print('Today very \\'cool\\' in \"Hyderabad\"')"
   ]
  },
  {
   "cell_type": "code",
   "execution_count": 39,
   "metadata": {},
   "outputs": [
    {
     "name": "stdout",
     "output_type": "stream",
     "text": [
      "enter costprice:2000\n",
      "enter dicsount:100\n",
      "enter profit:200\n",
      "the product details: cost price--> 2000.0\n"
     ]
    }
   ],
   "source": [
    "# take a costprice and discount and profit from the user and calculate the MRP and sales price.\n",
    "cp = input(\"enter costprice:\")\n",
    "dis = input(\"enter dicsount:\")\n",
    "pro = input(\"enter profit:\")\n",
    "cp = float(cp)\n",
    "dis = float(dis)\n",
    "pro = float(pro)\n",
    "mrp = cp+dis+pro\n",
    "sp = mrp-dis\n",
    "print(\"the product details: cost price-->\",cp)"
   ]
  },
  {
   "cell_type": "code",
   "execution_count": 40,
   "metadata": {},
   "outputs": [
    {
     "name": "stdout",
     "output_type": "stream",
     "text": [
      "the product details: cost price:cp\n"
     ]
    }
   ],
   "source": [
    "print(\"the product details: cost price:cp\")"
   ]
  },
  {
   "cell_type": "code",
   "execution_count": 41,
   "metadata": {},
   "outputs": [
    {
     "name": "stdout",
     "output_type": "stream",
     "text": [
      "the product details: cost price:{cp}\n"
     ]
    }
   ],
   "source": [
    "print(\"the product details: cost price:{cp}\")"
   ]
  },
  {
   "cell_type": "code",
   "execution_count": 42,
   "metadata": {},
   "outputs": [
    {
     "name": "stdout",
     "output_type": "stream",
     "text": [
      "the product details: cost price:2000.0\n"
     ]
    }
   ],
   "source": [
    "print(f\"the product details: cost price:{cp}\")"
   ]
  },
  {
   "cell_type": "code",
   "execution_count": 43,
   "metadata": {},
   "outputs": [
    {
     "name": "stdout",
     "output_type": "stream",
     "text": [
      "enter costprice:2000\n",
      "enter dicsount:100\n",
      "enter profit:200\n",
      "the product details: cost price:2000.0\n",
      "sales price:2200.0\n",
      "MRP:2300.0\n",
      "profit:200.0\n",
      "discount:100.0\n"
     ]
    }
   ],
   "source": [
    "# take a costprice and discount and profit from the user and calculate the MRP and sales price.\n",
    "cp = input(\"enter costprice:\")\n",
    "dis = input(\"enter dicsount:\")\n",
    "pro = input(\"enter profit:\")\n",
    "cp = float(cp)\n",
    "dis = float(dis)\n",
    "pro = float(pro)\n",
    "mrp = cp+dis+pro\n",
    "sp = mrp-dis\n",
    "print(f\"the product details: cost price:{cp}\\nsales price:{sp}\\nMRP:{mrp}\\nprofit:{pro}\\ndiscount:{dis}\")"
   ]
  },
  {
   "cell_type": "code",
   "execution_count": 45,
   "metadata": {},
   "outputs": [
    {
     "name": "stdout",
     "output_type": "stream",
     "text": [
      "3.3333333333333335\n"
     ]
    }
   ],
   "source": [
    "n=10/3\n",
    "print(n)"
   ]
  },
  {
   "cell_type": "code",
   "execution_count": 46,
   "metadata": {},
   "outputs": [
    {
     "name": "stdout",
     "output_type": "stream",
     "text": [
      "3.33\n"
     ]
    }
   ],
   "source": [
    "n=10/3\n",
    "print(round(n,2))"
   ]
  },
  {
   "cell_type": "code",
   "execution_count": 47,
   "metadata": {},
   "outputs": [
    {
     "name": "stdout",
     "output_type": "stream",
     "text": [
      "the jayaram details are: Age:2, Weight:13.46, Height:5.67834\n"
     ]
    }
   ],
   "source": [
    "# format specifiers..\n",
    "name=\"jayaram\"\n",
    "age=2.3456\n",
    "weight=13.456789\n",
    "height=5.67834\n",
    "# the jayaram details are: Age:2, Weight:13.46, Height:5.67834\n",
    "print(\"the jayaram details are: Age:2, Weight:13.46, Height:5.67834\")"
   ]
  },
  {
   "cell_type": "code",
   "execution_count": 48,
   "metadata": {},
   "outputs": [
    {
     "name": "stdout",
     "output_type": "stream",
     "text": [
      "10\n"
     ]
    }
   ],
   "source": [
    "l=[10,20,3,4,6,7,8]\n",
    "print(10)"
   ]
  },
  {
   "cell_type": "code",
   "execution_count": 49,
   "metadata": {},
   "outputs": [
    {
     "name": "stdout",
     "output_type": "stream",
     "text": [
      "the jayaram details are:\n"
     ]
    }
   ],
   "source": [
    "name=\"jayaram\"\n",
    "age=2.3456\n",
    "weight=13.456789\n",
    "height=5.67834\n",
    "# the jayaram details are: Age:2, Weight:13.46, Height:5.67834\n",
    "print(\"the jayaram details are:\")"
   ]
  },
  {
   "cell_type": "code",
   "execution_count": 50,
   "metadata": {},
   "outputs": [
    {
     "name": "stdout",
     "output_type": "stream",
     "text": [
      "the jayaram details are:\n"
     ]
    }
   ],
   "source": [
    "name=\"jayaram\"\n",
    "age=2.3456\n",
    "weight=13.456789\n",
    "height=5.67834\n",
    "# the jayaram details are: Age:2, Weight:13.46, Height:5.67834\n",
    "print(f\"the {name} details are:\")"
   ]
  },
  {
   "cell_type": "code",
   "execution_count": 51,
   "metadata": {},
   "outputs": [
    {
     "name": "stdout",
     "output_type": "stream",
     "text": [
      "the jayaram details are: Age:\n"
     ]
    }
   ],
   "source": [
    "name=\"jayaram\"\n",
    "age=2.3456\n",
    "weight=13.456789\n",
    "height=5.67834\n",
    "# the jayaram details are: Age:2, Weight:13.46, Height:5.67834\n",
    "print(f\"the {name} details are: Age:\")"
   ]
  },
  {
   "cell_type": "code",
   "execution_count": 52,
   "metadata": {},
   "outputs": [
    {
     "name": "stdout",
     "output_type": "stream",
     "text": [
      "the jayaram details are: Age:2.3456\n"
     ]
    }
   ],
   "source": [
    "name=\"jayaram\"\n",
    "age=2.3456\n",
    "weight=13.456789\n",
    "height=5.67834\n",
    "# the jayaram details are: Age:2, Weight:13.46, Height:5.67834\n",
    "print(f\"the {name} details are: Age:{age}\")"
   ]
  },
  {
   "cell_type": "code",
   "execution_count": 53,
   "metadata": {},
   "outputs": [
    {
     "name": "stdout",
     "output_type": "stream",
     "text": [
      "12\n"
     ]
    }
   ],
   "source": [
    "f=12.34\n",
    "print(int(f))"
   ]
  },
  {
   "cell_type": "code",
   "execution_count": 54,
   "metadata": {},
   "outputs": [
    {
     "name": "stdout",
     "output_type": "stream",
     "text": [
      "the jayaram details are: Age:2\n"
     ]
    }
   ],
   "source": [
    "name=\"jayaram\"\n",
    "age=2.3456\n",
    "weight=13.456789\n",
    "height=5.67834\n",
    "# the jayaram details are: Age:2, Weight:13.46, Height:5.67834\n",
    "print(f\"the {name} details are: Age:{int(age)}\")"
   ]
  },
  {
   "cell_type": "code",
   "execution_count": 55,
   "metadata": {},
   "outputs": [
    {
     "name": "stdout",
     "output_type": "stream",
     "text": [
      "the jayaram details are: Age:2, Weight:\n"
     ]
    }
   ],
   "source": [
    "name=\"jayaram\"\n",
    "age=2.3456\n",
    "weight=13.456789\n",
    "height=5.67834\n",
    "# the jayaram details are: Age:2, Weight:13.46, Height:5.67834\n",
    "print(f\"the {name} details are: Age:{int(age)}, Weight:\")"
   ]
  },
  {
   "cell_type": "code",
   "execution_count": 56,
   "metadata": {},
   "outputs": [
    {
     "name": "stdout",
     "output_type": "stream",
     "text": [
      "the jayaram details are: Age:2, Weight:13.456789\n"
     ]
    }
   ],
   "source": [
    "name=\"jayaram\"\n",
    "age=2.3456\n",
    "weight=13.456789\n",
    "height=5.67834\n",
    "# the jayaram details are: Age:2, Weight:13.46, Height:5.67834\n",
    "print(f\"the {name} details are: Age:{int(age)}, Weight:{weight}\")"
   ]
  },
  {
   "cell_type": "code",
   "execution_count": 57,
   "metadata": {},
   "outputs": [
    {
     "name": "stdout",
     "output_type": "stream",
     "text": [
      "the jayaram details are: Age:2, Weight:13.46\n"
     ]
    }
   ],
   "source": [
    "name=\"jayaram\"\n",
    "age=2.3456\n",
    "weight=13.456789\n",
    "height=5.67834\n",
    "# the jayaram details are: Age:2, Weight:13.46, Height:5.67834\n",
    "print(f\"the {name} details are: Age:{int(age)}, Weight:{round(weight,2)}\")"
   ]
  },
  {
   "cell_type": "code",
   "execution_count": 58,
   "metadata": {},
   "outputs": [
    {
     "name": "stdout",
     "output_type": "stream",
     "text": [
      "the jayaram details are: Age:2, Weight:13.46, Height:5.67834\n"
     ]
    }
   ],
   "source": [
    "name=\"jayaram\"\n",
    "age=2.3456\n",
    "weight=13.456789\n",
    "height=5.67834\n",
    "# the jayaram details are: Age:2, Weight:13.46, Height:5.67834\n",
    "print(f\"the {name} details are: Age:{int(age)}, Weight:{round(weight,2)}, Height:{height}\")"
   ]
  },
  {
   "cell_type": "code",
   "execution_count": 59,
   "metadata": {},
   "outputs": [
    {
     "name": "stdout",
     "output_type": "stream",
     "text": [
      "the jayaram details are: Age:2, Weight:13.46, Height:5.67834\n",
      "The jayarma details are\n"
     ]
    }
   ],
   "source": [
    "name=\"jayaram\"\n",
    "age=2.3456\n",
    "weight=13.456789\n",
    "height=5.67834\n",
    "# the jayaram details are: Age:2, Weight:13.46, Height:5.67834\n",
    "print(f\"the {name} details are: Age:{int(age)}, Weight:{round(weight,2)}, Height:{height}\")\n",
    "print(\"The jayarma details are\")"
   ]
  },
  {
   "cell_type": "code",
   "execution_count": 60,
   "metadata": {},
   "outputs": [
    {
     "name": "stdout",
     "output_type": "stream",
     "text": [
      "the jayaram details are: Age:2, Weight:13.46, Height:5.67834\n",
      "The %s details are jayaram\n"
     ]
    }
   ],
   "source": [
    "name=\"jayaram\"\n",
    "age=2.3456\n",
    "weight=13.456789\n",
    "height=5.67834\n",
    "# the jayaram details are: Age:2, Weight:13.46, Height:5.67834\n",
    "print(f\"the {name} details are: Age:{int(age)}, Weight:{round(weight,2)}, Height:{height}\")\n",
    "print(\"The %s details are\",name)"
   ]
  },
  {
   "cell_type": "code",
   "execution_count": 61,
   "metadata": {},
   "outputs": [
    {
     "ename": "SyntaxError",
     "evalue": "invalid syntax (<ipython-input-61-d09a82114afe>, line 7)",
     "output_type": "error",
     "traceback": [
      "\u001b[0;36m  File \u001b[0;32m\"<ipython-input-61-d09a82114afe>\"\u001b[0;36m, line \u001b[0;32m7\u001b[0m\n\u001b[0;31m    print(\"The %s details are\"name)\u001b[0m\n\u001b[0m                                 ^\u001b[0m\n\u001b[0;31mSyntaxError\u001b[0m\u001b[0;31m:\u001b[0m invalid syntax\n"
     ]
    }
   ],
   "source": [
    "name=\"jayaram\"\n",
    "age=2.3456\n",
    "weight=13.456789\n",
    "height=5.67834\n",
    "# the jayaram details are: Age:2, Weight:13.46, Height:5.67834\n",
    "print(f\"the {name} details are: Age:{int(age)}, Weight:{round(weight,2)}, Height:{height}\")\n",
    "print(\"The %s details are\"name)"
   ]
  },
  {
   "cell_type": "code",
   "execution_count": 62,
   "metadata": {},
   "outputs": [
    {
     "name": "stdout",
     "output_type": "stream",
     "text": [
      "the jayaram details are: Age:2, Weight:13.46, Height:5.67834\n",
      "The %s details are jayaram\n"
     ]
    }
   ],
   "source": [
    "name=\"jayaram\"\n",
    "age=2.3456\n",
    "weight=13.456789\n",
    "height=5.67834\n",
    "# the jayaram details are: Age:2, Weight:13.46, Height:5.67834\n",
    "print(f\"the {name} details are: Age:{int(age)}, Weight:{round(weight,2)}, Height:{height}\")\n",
    "print(\"The %s details are\",name)"
   ]
  },
  {
   "cell_type": "code",
   "execution_count": 63,
   "metadata": {},
   "outputs": [
    {
     "name": "stdout",
     "output_type": "stream",
     "text": [
      "the jayaram details are: Age:2, Weight:13.46, Height:5.67834\n",
      "The jayaram details are\n"
     ]
    }
   ],
   "source": [
    "name=\"jayaram\"\n",
    "age=2.3456\n",
    "weight=13.456789\n",
    "height=5.67834\n",
    "# the jayaram details are: Age:2, Weight:13.46, Height:5.67834\n",
    "print(f\"the {name} details are: Age:{int(age)}, Weight:{round(weight,2)}, Height:{height}\")\n",
    "print(\"The %s details are\"%name)"
   ]
  },
  {
   "cell_type": "code",
   "execution_count": 64,
   "metadata": {},
   "outputs": [
    {
     "name": "stdout",
     "output_type": "stream",
     "text": [
      "the jayaram details are: Age:2, Weight:13.46, Height:5.67834\n",
      "The jayaram details are: Age:2.3456\n"
     ]
    }
   ],
   "source": [
    "name=\"jayaram\"\n",
    "age=2.3456\n",
    "weight=13.456789\n",
    "height=5.67834\n",
    "# the jayaram details are: Age:2, Weight:13.46, Height:5.67834\n",
    "print(f\"the {name} details are: Age:{int(age)}, Weight:{round(weight,2)}, Height:{height}\")\n",
    "print(\"The %s details are: Age:%s\"%(name,age))"
   ]
  },
  {
   "cell_type": "code",
   "execution_count": 65,
   "metadata": {},
   "outputs": [
    {
     "name": "stdout",
     "output_type": "stream",
     "text": [
      "the jayaram details are: Age:2, Weight:13.46, Height:5.67834\n",
      "The jayaram details are: Age:2\n"
     ]
    }
   ],
   "source": [
    "name=\"jayaram\"\n",
    "age=2.3456\n",
    "weight=13.456789\n",
    "height=5.67834\n",
    "# the jayaram details are: Age:2, Weight:13.46, Height:5.67834\n",
    "print(f\"the {name} details are: Age:{int(age)}, Weight:{round(weight,2)}, Height:{height}\")\n",
    "print(\"The %s details are: Age:%d\"%(name,age))"
   ]
  },
  {
   "cell_type": "code",
   "execution_count": 66,
   "metadata": {},
   "outputs": [
    {
     "name": "stdout",
     "output_type": "stream",
     "text": [
      "the jayaram details are: Age:2, Weight:13.46, Height:5.67834\n",
      "The jayaram details are: Age:2, Weight:13.456789\n"
     ]
    }
   ],
   "source": [
    "name=\"jayaram\"\n",
    "age=2.3456\n",
    "weight=13.456789\n",
    "height=5.67834\n",
    "# the jayaram details are: Age:2, Weight:13.46, Height:5.67834\n",
    "print(f\"the {name} details are: Age:{int(age)}, Weight:{round(weight,2)}, Height:{height}\")\n",
    "print(\"The %s details are: Age:%d, Weight:%s\"%(name,age,weight))"
   ]
  },
  {
   "cell_type": "code",
   "execution_count": 67,
   "metadata": {},
   "outputs": [
    {
     "name": "stdout",
     "output_type": "stream",
     "text": [
      "the jayaram details are: Age:2, Weight:13.46, Height:5.67834\n",
      "The jayaram details are: Age:2, Weight:13.456789\n"
     ]
    }
   ],
   "source": [
    "name=\"jayaram\"\n",
    "age=2.3456\n",
    "weight=13.456789\n",
    "height=5.67834\n",
    "# the jayaram details are: Age:2, Weight:13.46, Height:5.67834\n",
    "print(f\"the {name} details are: Age:{int(age)}, Weight:{round(weight,2)}, Height:{height}\")\n",
    "print(\"The %s details are: Age:%d, Weight:%f\"%(name,age,weight))"
   ]
  },
  {
   "cell_type": "code",
   "execution_count": 68,
   "metadata": {},
   "outputs": [
    {
     "name": "stdout",
     "output_type": "stream",
     "text": [
      "the jayaram details are: Age:2, Weight:13.46, Height:5.67834\n",
      "The jayaram details are: Age:2, Weight:13.46\n"
     ]
    }
   ],
   "source": [
    "name=\"jayaram\"\n",
    "age=2.3456\n",
    "weight=13.456789\n",
    "height=5.67834\n",
    "# the jayaram details are: Age:2, Weight:13.46, Height:5.67834\n",
    "print(f\"the {name} details are: Age:{int(age)}, Weight:{round(weight,2)}, Height:{height}\")\n",
    "print(\"The %s details are: Age:%d, Weight:%.2f\"%(name,age,weight))"
   ]
  },
  {
   "cell_type": "code",
   "execution_count": 69,
   "metadata": {},
   "outputs": [
    {
     "name": "stdout",
     "output_type": "stream",
     "text": [
      "the jayaram details are: Age:2, Weight:13.46, Height:5.67834\n",
      "The jayaram details are: Age:2, Weight:13.46, Height:5.67834\n"
     ]
    }
   ],
   "source": [
    "name=\"jayaram\"\n",
    "age=2.3456\n",
    "weight=13.456789\n",
    "height=5.67834\n",
    "# the jayaram details are: Age:2, Weight:13.46, Height:5.67834\n",
    "print(f\"the {name} details are: Age:{int(age)}, Weight:{round(weight,2)}, Height:{height}\")\n",
    "print(\"The %s details are: Age:%d, Weight:%.2f, Height:%s\"%(name,age,weight,height))"
   ]
  },
  {
   "cell_type": "code",
   "execution_count": 70,
   "metadata": {},
   "outputs": [
    {
     "name": "stdout",
     "output_type": "stream",
     "text": [
      "hello hi\n"
     ]
    }
   ],
   "source": [
    "print(\"hello\",\"hi\")"
   ]
  },
  {
   "cell_type": "code",
   "execution_count": 71,
   "metadata": {},
   "outputs": [
    {
     "name": "stdout",
     "output_type": "stream",
     "text": [
      "hello;hi\n"
     ]
    }
   ],
   "source": [
    "print(\"hello\",\"hi\",sep=\";\")"
   ]
  },
  {
   "cell_type": "code",
   "execution_count": 72,
   "metadata": {},
   "outputs": [
    {
     "name": "stdout",
     "output_type": "stream",
     "text": [
      "hi\n",
      "hello\n"
     ]
    }
   ],
   "source": [
    "print(\"hi\")\n",
    "print(\"hello\")"
   ]
  },
  {
   "cell_type": "code",
   "execution_count": 73,
   "metadata": {},
   "outputs": [
    {
     "name": "stdout",
     "output_type": "stream",
     "text": [
      "hello\n",
      "hi\n"
     ]
    }
   ],
   "source": [
    "print(\"hello\\nhi\")"
   ]
  },
  {
   "cell_type": "code",
   "execution_count": 74,
   "metadata": {},
   "outputs": [],
   "source": [
    "print?"
   ]
  },
  {
   "cell_type": "code",
   "execution_count": 75,
   "metadata": {},
   "outputs": [
    {
     "name": "stdout",
     "output_type": "stream",
     "text": [
      "hi\n",
      "hello\n"
     ]
    }
   ],
   "source": [
    "print(\"hi\")\n",
    "print(\"hello\")"
   ]
  },
  {
   "cell_type": "code",
   "execution_count": 76,
   "metadata": {},
   "outputs": [
    {
     "name": "stdout",
     "output_type": "stream",
     "text": [
      "hi hello\n"
     ]
    }
   ],
   "source": [
    "print(\"hi\",end=\" \")\n",
    "print(\"hello\")"
   ]
  },
  {
   "cell_type": "code",
   "execution_count": 77,
   "metadata": {},
   "outputs": [
    {
     "ename": "SyntaxError",
     "evalue": "EOL while scanning string literal (<ipython-input-77-d3cf28e14b7e>, line 1)",
     "output_type": "error",
     "traceback": [
      "\u001b[0;36m  File \u001b[0;32m\"<ipython-input-77-d3cf28e14b7e>\"\u001b[0;36m, line \u001b[0;32m1\u001b[0m\n\u001b[0;31m    print(\"sdfklsdjf;lkp jweroij iswjfiosjd sdijfsdnmkosd\u001b[0m\n\u001b[0m                                                          ^\u001b[0m\n\u001b[0;31mSyntaxError\u001b[0m\u001b[0;31m:\u001b[0m EOL while scanning string literal\n"
     ]
    }
   ],
   "source": [
    "print(\"sdfklsdjf;lkp jweroij iswjfiosjd sdijfsdnmkosd \n",
    "      f oiksdjfoiksjfoiksdjoifjsdipo sdjfiosdjfisodjfoids osdjoifjsdaoifjsdoiapju\")"
   ]
  },
  {
   "cell_type": "code",
   "execution_count": 78,
   "metadata": {},
   "outputs": [
    {
     "name": "stdout",
     "output_type": "stream",
     "text": [
      "sdfklsdjf;lkp jweroij iswjfiosjd sdijfsdnmkosd      f oiksdjfoiksjfoiksdjoifjsdipo sdjfiosdjfisodjfoids osdjoifjsdaoifjsdoiapju\n"
     ]
    }
   ],
   "source": [
    "print(\"sdfklsdjf;lkp jweroij iswjfiosjd sdijfsdnmkosd\\\n",
    "      f oiksdjfoiksjfoiksdjoifjsdipo sdjfiosdjfisodjfoids osdjoifjsdaoifjsdoiapju\")"
   ]
  },
  {
   "cell_type": "code",
   "execution_count": null,
   "metadata": {},
   "outputs": [],
   "source": []
  }
 ],
 "metadata": {
  "kernelspec": {
   "display_name": "Python 3",
   "language": "python",
   "name": "python3"
  },
  "language_info": {
   "codemirror_mode": {
    "name": "ipython",
    "version": 3
   },
   "file_extension": ".py",
   "mimetype": "text/x-python",
   "name": "python",
   "nbconvert_exporter": "python",
   "pygments_lexer": "ipython3",
   "version": "3.7.0"
  }
 },
 "nbformat": 4,
 "nbformat_minor": 2
}
