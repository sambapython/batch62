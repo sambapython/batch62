{
 "cells": [
  {
   "cell_type": "code",
   "execution_count": 1,
   "metadata": {},
   "outputs": [],
   "source": [
    "f=open(\"data.txt\",\"w\")"
   ]
  },
  {
   "cell_type": "code",
   "execution_count": 2,
   "metadata": {},
   "outputs": [
    {
     "data": {
      "text/plain": [
       "9"
      ]
     },
     "execution_count": 2,
     "metadata": {},
     "output_type": "execute_result"
    }
   ],
   "source": [
    "f.write(\"some data\")"
   ]
  },
  {
   "cell_type": "code",
   "execution_count": 3,
   "metadata": {},
   "outputs": [],
   "source": [
    "f.close() # f.flush()"
   ]
  },
  {
   "cell_type": "code",
   "execution_count": 4,
   "metadata": {},
   "outputs": [
    {
     "ename": "ValueError",
     "evalue": "I/O operation on closed file.",
     "output_type": "error",
     "traceback": [
      "\u001b[0;31m---------------------------------------------------------------------------\u001b[0m",
      "\u001b[0;31mValueError\u001b[0m                                Traceback (most recent call last)",
      "\u001b[0;32m<ipython-input-4-8e8e5ea8faef>\u001b[0m in \u001b[0;36m<module>\u001b[0;34m()\u001b[0m\n\u001b[0;32m----> 1\u001b[0;31m \u001b[0mf\u001b[0m\u001b[0;34m.\u001b[0m\u001b[0mwrite\u001b[0m\u001b[0;34m(\u001b[0m\u001b[0;34m\"some more data\"\u001b[0m\u001b[0;34m)\u001b[0m\u001b[0;34m\u001b[0m\u001b[0m\n\u001b[0m",
      "\u001b[0;31mValueError\u001b[0m: I/O operation on closed file."
     ]
    }
   ],
   "source": [
    "f.write(\"some more data\")"
   ]
  },
  {
   "cell_type": "code",
   "execution_count": 5,
   "metadata": {},
   "outputs": [],
   "source": [
    "f=open(\"data.txt\",\"w\")"
   ]
  },
  {
   "cell_type": "code",
   "execution_count": 6,
   "metadata": {},
   "outputs": [
    {
     "data": {
      "text/plain": [
       "9"
      ]
     },
     "execution_count": 6,
     "metadata": {},
     "output_type": "execute_result"
    }
   ],
   "source": [
    "f.write(\"some data\")"
   ]
  },
  {
   "cell_type": "code",
   "execution_count": 7,
   "metadata": {},
   "outputs": [],
   "source": [
    "f.flush()"
   ]
  },
  {
   "cell_type": "code",
   "execution_count": 8,
   "metadata": {},
   "outputs": [
    {
     "data": {
      "text/plain": [
       "14"
      ]
     },
     "execution_count": 8,
     "metadata": {},
     "output_type": "execute_result"
    }
   ],
   "source": [
    "f.write(\"some more data\")"
   ]
  },
  {
   "cell_type": "code",
   "execution_count": 10,
   "metadata": {},
   "outputs": [],
   "source": [
    "f.close()"
   ]
  },
  {
   "cell_type": "code",
   "execution_count": 1,
   "metadata": {},
   "outputs": [
    {
     "ename": "TypeError",
     "evalue": "write() argument must be str, not list",
     "output_type": "error",
     "traceback": [
      "\u001b[0;31m---------------------------------------------------------------------------\u001b[0m",
      "\u001b[0;31mTypeError\u001b[0m                                 Traceback (most recent call last)",
      "\u001b[0;32m<ipython-input-1-f4d37a2c3353>\u001b[0m in \u001b[0;36m<module>\u001b[0;34m()\u001b[0m\n\u001b[1;32m      1\u001b[0m \u001b[0mdata\u001b[0m\u001b[0;34m=\u001b[0m\u001b[0;34m[\u001b[0m\u001b[0;34m\"apple\"\u001b[0m\u001b[0;34m,\u001b[0m\u001b[0;34m\"orange\"\u001b[0m\u001b[0;34m,\u001b[0m\u001b[0;34m\"grape\"\u001b[0m\u001b[0;34m,\u001b[0m\u001b[0;34m\"banana\"\u001b[0m\u001b[0;34m]\u001b[0m\u001b[0;34m\u001b[0m\u001b[0m\n\u001b[1;32m      2\u001b[0m \u001b[0mf\u001b[0m\u001b[0;34m=\u001b[0m\u001b[0mopen\u001b[0m\u001b[0;34m(\u001b[0m\u001b[0;34m\"data.txt\"\u001b[0m\u001b[0;34m,\u001b[0m\u001b[0;34m\"w\"\u001b[0m\u001b[0;34m)\u001b[0m\u001b[0;34m\u001b[0m\u001b[0m\n\u001b[0;32m----> 3\u001b[0;31m \u001b[0mf\u001b[0m\u001b[0;34m.\u001b[0m\u001b[0mwrite\u001b[0m\u001b[0;34m(\u001b[0m\u001b[0mdata\u001b[0m\u001b[0;34m)\u001b[0m\u001b[0;34m\u001b[0m\u001b[0m\n\u001b[0m\u001b[1;32m      4\u001b[0m \u001b[0mf\u001b[0m\u001b[0;34m.\u001b[0m\u001b[0mclose\u001b[0m\u001b[0;34m(\u001b[0m\u001b[0;34m)\u001b[0m\u001b[0;34m\u001b[0m\u001b[0m\n",
      "\u001b[0;31mTypeError\u001b[0m: write() argument must be str, not list"
     ]
    }
   ],
   "source": [
    "data=[\"apple\",\"orange\",\"grape\",\"banana\"]\n",
    "f=open(\"data.txt\",\"w\")\n",
    "f.write(data)\n",
    "f.close()"
   ]
  },
  {
   "cell_type": "code",
   "execution_count": 2,
   "metadata": {},
   "outputs": [],
   "source": [
    "data=[\"apple\",\"orange\",\"grape\",\"banana\"]\n",
    "f=open(\"data.txt\",\"w\")\n",
    "f.writelines(data)\n",
    "f.close()"
   ]
  },
  {
   "cell_type": "code",
   "execution_count": 3,
   "metadata": {},
   "outputs": [],
   "source": [
    "data=[\"apple\\n\",\"orange\\n\",\"grape\\n\",\"banana\\n\"]\n",
    "f=open(\"data.txt\",\"w\")\n",
    "f.writelines(data)\n",
    "f.close()"
   ]
  },
  {
   "cell_type": "code",
   "execution_count": 4,
   "metadata": {},
   "outputs": [
    {
     "ename": "TypeError",
     "evalue": "write() argument must be str, not int",
     "output_type": "error",
     "traceback": [
      "\u001b[0;31m---------------------------------------------------------------------------\u001b[0m",
      "\u001b[0;31mTypeError\u001b[0m                                 Traceback (most recent call last)",
      "\u001b[0;32m<ipython-input-4-11ec90c6ce5f>\u001b[0m in \u001b[0;36m<module>\u001b[0;34m()\u001b[0m\n\u001b[1;32m      1\u001b[0m \u001b[0mdata\u001b[0m\u001b[0;34m=\u001b[0m\u001b[0;34m[\u001b[0m\u001b[0;34m\"apple\"\u001b[0m\u001b[0;34m,\u001b[0m\u001b[0;34m\"orange\"\u001b[0m\u001b[0;34m,\u001b[0m\u001b[0;34m\"grape\"\u001b[0m\u001b[0;34m,\u001b[0m\u001b[0;34m\"banana\"\u001b[0m\u001b[0;34m,\u001b[0m\u001b[0;36m1\u001b[0m\u001b[0;34m,\u001b[0m\u001b[0;36m2\u001b[0m\u001b[0;34m,\u001b[0m\u001b[0;36m3\u001b[0m\u001b[0;34m,\u001b[0m\u001b[0;36m4\u001b[0m\u001b[0;34m]\u001b[0m\u001b[0;34m\u001b[0m\u001b[0m\n\u001b[1;32m      2\u001b[0m \u001b[0mf\u001b[0m\u001b[0;34m=\u001b[0m\u001b[0mopen\u001b[0m\u001b[0;34m(\u001b[0m\u001b[0;34m\"data.txt\"\u001b[0m\u001b[0;34m,\u001b[0m\u001b[0;34m\"w\"\u001b[0m\u001b[0;34m)\u001b[0m\u001b[0;34m\u001b[0m\u001b[0m\n\u001b[0;32m----> 3\u001b[0;31m \u001b[0mf\u001b[0m\u001b[0;34m.\u001b[0m\u001b[0mwritelines\u001b[0m\u001b[0;34m(\u001b[0m\u001b[0mdata\u001b[0m\u001b[0;34m)\u001b[0m\u001b[0;34m\u001b[0m\u001b[0m\n\u001b[0m\u001b[1;32m      4\u001b[0m \u001b[0mf\u001b[0m\u001b[0;34m.\u001b[0m\u001b[0mclose\u001b[0m\u001b[0;34m(\u001b[0m\u001b[0;34m)\u001b[0m\u001b[0;34m\u001b[0m\u001b[0m\n",
      "\u001b[0;31mTypeError\u001b[0m: write() argument must be str, not int"
     ]
    }
   ],
   "source": [
    "data=[\"apple\",\"orange\",\"grape\",\"banana\",1,2,3,4]\n",
    "f=open(\"data.txt\",\"w\")\n",
    "f.writelines(data)\n",
    "f.close()"
   ]
  },
  {
   "cell_type": "code",
   "execution_count": 5,
   "metadata": {},
   "outputs": [
    {
     "ename": "TypeError",
     "evalue": "write() argument must be str, not dict",
     "output_type": "error",
     "traceback": [
      "\u001b[0;31m---------------------------------------------------------------------------\u001b[0m",
      "\u001b[0;31mTypeError\u001b[0m                                 Traceback (most recent call last)",
      "\u001b[0;32m<ipython-input-5-d76c72d0e3e9>\u001b[0m in \u001b[0;36m<module>\u001b[0;34m()\u001b[0m\n\u001b[1;32m      1\u001b[0m \u001b[0mdata\u001b[0m\u001b[0;34m=\u001b[0m\u001b[0;34m[\u001b[0m\u001b[0;34m{\u001b[0m\u001b[0;34m\"name\"\u001b[0m\u001b[0;34m:\u001b[0m\u001b[0;34m\"jay\"\u001b[0m\u001b[0;34m,\u001b[0m\u001b[0;34m\"genade\"\u001b[0m\u001b[0;34m:\u001b[0m\u001b[0;34m\"M\"\u001b[0m\u001b[0;34m}\u001b[0m\u001b[0;34m,\u001b[0m\u001b[0;34m{\u001b[0m\u001b[0;34m\"name\"\u001b[0m\u001b[0;34m:\u001b[0m\u001b[0;34m\"vedhanvesh\"\u001b[0m\u001b[0;34m,\u001b[0m\u001b[0;34m\"gender\"\u001b[0m\u001b[0;34m:\u001b[0m\u001b[0;34m\"M\"\u001b[0m\u001b[0;34m}\u001b[0m\u001b[0;34m]\u001b[0m\u001b[0;34m\u001b[0m\u001b[0m\n\u001b[1;32m      2\u001b[0m \u001b[0mf\u001b[0m\u001b[0;34m=\u001b[0m\u001b[0mopen\u001b[0m\u001b[0;34m(\u001b[0m\u001b[0;34m\"data.txt\"\u001b[0m\u001b[0;34m,\u001b[0m\u001b[0;34m\"w\"\u001b[0m\u001b[0;34m)\u001b[0m\u001b[0;34m\u001b[0m\u001b[0m\n\u001b[0;32m----> 3\u001b[0;31m \u001b[0mf\u001b[0m\u001b[0;34m.\u001b[0m\u001b[0mwritelines\u001b[0m\u001b[0;34m(\u001b[0m\u001b[0mdata\u001b[0m\u001b[0;34m)\u001b[0m\u001b[0;34m\u001b[0m\u001b[0m\n\u001b[0m\u001b[1;32m      4\u001b[0m \u001b[0mf\u001b[0m\u001b[0;34m.\u001b[0m\u001b[0mclose\u001b[0m\u001b[0;34m(\u001b[0m\u001b[0;34m)\u001b[0m\u001b[0;34m\u001b[0m\u001b[0m\n",
      "\u001b[0;31mTypeError\u001b[0m: write() argument must be str, not dict"
     ]
    }
   ],
   "source": [
    "data=[{\"name\":\"jay\",\"genade\":\"M\"},{\"name\":\"vedhanvesh\",\"gender\":\"M\"}]\n",
    "f=open(\"data.txt\",\"w\")\n",
    "f.writelines(data)\n",
    "f.close()"
   ]
  },
  {
   "cell_type": "code",
   "execution_count": 6,
   "metadata": {},
   "outputs": [],
   "source": [
    "data=[{\"name\":\"jay\",\"genade\":\"M\"},{\"name\":\"vedhanvesh\",\"gender\":\"M\"}]\n",
    "f=open(\"data.txt\",\"w\")\n",
    "f.write(str(data))\n",
    "f.close()"
   ]
  },
  {
   "cell_type": "code",
   "execution_count": 7,
   "metadata": {},
   "outputs": [
    {
     "name": "stdout",
     "output_type": "stream",
     "text": [
      "[{'name': 'jay', 'genade': 'M'}, {'name': 'vedhanvesh', 'gender': 'M'}]\n"
     ]
    }
   ],
   "source": [
    "f=open(\"data.txt\",\"r\")\n",
    "data=f.read()\n",
    "f.close()\n",
    "print(data)"
   ]
  },
  {
   "cell_type": "code",
   "execution_count": 8,
   "metadata": {},
   "outputs": [
    {
     "name": "stdout",
     "output_type": "stream",
     "text": [
      "[{'name': 'jay', 'genade': 'M'}, {'name': 'vedhanvesh', 'gender': 'M'}] <class 'str'>\n"
     ]
    }
   ],
   "source": [
    "f=open(\"data.txt\",\"r\")\n",
    "data=f.read()\n",
    "f.close()\n",
    "print(data,type(data))"
   ]
  },
  {
   "cell_type": "code",
   "execution_count": 9,
   "metadata": {},
   "outputs": [],
   "source": [
    "import pickle\n",
    "data=[{\"name\":\"jay\",\"genade\":\"M\"},{\"name\":\"vedhanvesh\",\"gender\":\"M\"}]\n",
    "f=open(\"data.txt\",\"wb\")\n",
    "pickle.dump(data,f)\n",
    "f.close()"
   ]
  },
  {
   "cell_type": "code",
   "execution_count": 11,
   "metadata": {},
   "outputs": [
    {
     "name": "stdout",
     "output_type": "stream",
     "text": [
      "b'\\x80\\x03]q\\x00(}q\\x01(X\\x04\\x00\\x00\\x00nameq\\x02X\\x03\\x00\\x00\\x00jayq\\x03X\\x06\\x00\\x00\\x00genadeq\\x04X\\x01\\x00\\x00\\x00Mq\\x05u}q\\x06(h\\x02X\\n\\x00\\x00\\x00vedhanveshq\\x07X\\x06\\x00\\x00\\x00genderq\\x08h\\x05ue.' <class 'bytes'>\n"
     ]
    }
   ],
   "source": [
    "f=open(\"data.txt\",\"rb\")\n",
    "data=f.read()\n",
    "f.close()\n",
    "print(data, type(data))"
   ]
  },
  {
   "cell_type": "code",
   "execution_count": 12,
   "metadata": {},
   "outputs": [
    {
     "name": "stdout",
     "output_type": "stream",
     "text": [
      "[{'name': 'jay', 'genade': 'M'}, {'name': 'vedhanvesh', 'gender': 'M'}] <class 'list'>\n"
     ]
    }
   ],
   "source": [
    "f=open(\"data.txt\",\"rb\")\n",
    "data=pickle.load(f)\n",
    "f.close()\n",
    "print(data, type(data))"
   ]
  },
  {
   "cell_type": "code",
   "execution_count": 17,
   "metadata": {},
   "outputs": [],
   "source": [
    "data=[{\"name\":\"jay\",\"genade\":\"M\"},{\"name\":\"vedhanvesh\",\"gender\":\"M\"}]\n",
    "f=open(\"data.json\",\"w\")\n",
    "import json\n",
    "json.dump(data,f)\n",
    "f.close()"
   ]
  },
  {
   "cell_type": "code",
   "execution_count": 20,
   "metadata": {},
   "outputs": [
    {
     "name": "stdout",
     "output_type": "stream",
     "text": [
      "[{'name': 'jay', 'genade': 'M'}, {'name': 'vedhanvesh', 'gender': 'M'}]\n"
     ]
    }
   ],
   "source": [
    "f=open(\"data.json\")\n",
    "data=json.load(f)\n",
    "print(data)"
   ]
  },
  {
   "cell_type": "code",
   "execution_count": 21,
   "metadata": {},
   "outputs": [],
   "source": [
    "data=[{\"name\":\"jay\",\"genade\":\"M\"},{\"name\":\"vedhanvesh\",\"gender\":\"M\"}]\n",
    "f=open(\"data.yaml\",\"w\")\n",
    "import yaml\n",
    "yaml.dump(data,f)\n",
    "f.close()"
   ]
  },
  {
   "cell_type": "code",
   "execution_count": 22,
   "metadata": {},
   "outputs": [
    {
     "name": "stdout",
     "output_type": "stream",
     "text": [
      "[{'genade': 'M', 'name': 'jay'}, {'gender': 'M', 'name': 'vedhanvesh'}] <class 'list'>\n"
     ]
    }
   ],
   "source": [
    "f=open(\"data.yaml\")\n",
    "data=yaml.load(f)\n",
    "print(data, type(data))"
   ]
  },
  {
   "cell_type": "code",
   "execution_count": 23,
   "metadata": {},
   "outputs": [],
   "source": [
    "import pandas as pd\n"
   ]
  },
  {
   "cell_type": "code",
   "execution_count": 24,
   "metadata": {},
   "outputs": [],
   "source": [
    "df = pd.read_csv(\"survey-data.csv\")"
   ]
  },
  {
   "cell_type": "code",
   "execution_count": 27,
   "metadata": {},
   "outputs": [
    {
     "data": {
      "text/plain": [
       "Index(['Year', 'Industry_aggregation_NZSIOC', 'Industry_code_NZSIOC',\n",
       "       'Industry_name_NZSIOC', 'Units', 'Variable_code', 'Variable_name',\n",
       "       'Variable_category', 'Value', 'Industry_code_ANZSIC06'],\n",
       "      dtype='object')"
      ]
     },
     "execution_count": 27,
     "metadata": {},
     "output_type": "execute_result"
    }
   ],
   "source": [
    "df.columns"
   ]
  },
  {
   "cell_type": "code",
   "execution_count": 29,
   "metadata": {},
   "outputs": [
    {
     "data": {
      "text/html": [
       "<div>\n",
       "<style scoped>\n",
       "    .dataframe tbody tr th:only-of-type {\n",
       "        vertical-align: middle;\n",
       "    }\n",
       "\n",
       "    .dataframe tbody tr th {\n",
       "        vertical-align: top;\n",
       "    }\n",
       "\n",
       "    .dataframe thead th {\n",
       "        text-align: right;\n",
       "    }\n",
       "</style>\n",
       "<table border=\"1\" class=\"dataframe\">\n",
       "  <thead>\n",
       "    <tr style=\"text-align: right;\">\n",
       "      <th></th>\n",
       "      <th>Year</th>\n",
       "      <th>Industry_aggregation_NZSIOC</th>\n",
       "      <th>Industry_code_NZSIOC</th>\n",
       "      <th>Industry_name_NZSIOC</th>\n",
       "      <th>Units</th>\n",
       "      <th>Variable_code</th>\n",
       "      <th>Variable_name</th>\n",
       "      <th>Variable_category</th>\n",
       "      <th>Value</th>\n",
       "      <th>Industry_code_ANZSIC06</th>\n",
       "    </tr>\n",
       "  </thead>\n",
       "  <tbody>\n",
       "    <tr>\n",
       "      <th>0</th>\n",
       "      <td>2018</td>\n",
       "      <td>Level 1</td>\n",
       "      <td>99999</td>\n",
       "      <td>All industries</td>\n",
       "      <td>Dollars (millions)</td>\n",
       "      <td>H01</td>\n",
       "      <td>Total income</td>\n",
       "      <td>Financial performance</td>\n",
       "      <td>691859</td>\n",
       "      <td>ANZSIC06 divisions A-S (excluding classes K633...</td>\n",
       "    </tr>\n",
       "    <tr>\n",
       "      <th>1</th>\n",
       "      <td>2018</td>\n",
       "      <td>Level 1</td>\n",
       "      <td>99999</td>\n",
       "      <td>All industries</td>\n",
       "      <td>Dollars (millions)</td>\n",
       "      <td>H04</td>\n",
       "      <td>Sales, government funding, grants and subsidies</td>\n",
       "      <td>Financial performance</td>\n",
       "      <td>605766</td>\n",
       "      <td>ANZSIC06 divisions A-S (excluding classes K633...</td>\n",
       "    </tr>\n",
       "    <tr>\n",
       "      <th>2</th>\n",
       "      <td>2018</td>\n",
       "      <td>Level 1</td>\n",
       "      <td>99999</td>\n",
       "      <td>All industries</td>\n",
       "      <td>Dollars (millions)</td>\n",
       "      <td>H05</td>\n",
       "      <td>Interest, dividends and donations</td>\n",
       "      <td>Financial performance</td>\n",
       "      <td>63509</td>\n",
       "      <td>ANZSIC06 divisions A-S (excluding classes K633...</td>\n",
       "    </tr>\n",
       "    <tr>\n",
       "      <th>3</th>\n",
       "      <td>2018</td>\n",
       "      <td>Level 1</td>\n",
       "      <td>99999</td>\n",
       "      <td>All industries</td>\n",
       "      <td>Dollars (millions)</td>\n",
       "      <td>H07</td>\n",
       "      <td>Non-operating income</td>\n",
       "      <td>Financial performance</td>\n",
       "      <td>22583</td>\n",
       "      <td>ANZSIC06 divisions A-S (excluding classes K633...</td>\n",
       "    </tr>\n",
       "    <tr>\n",
       "      <th>4</th>\n",
       "      <td>2018</td>\n",
       "      <td>Level 1</td>\n",
       "      <td>99999</td>\n",
       "      <td>All industries</td>\n",
       "      <td>Dollars (millions)</td>\n",
       "      <td>H08</td>\n",
       "      <td>Total expenditure</td>\n",
       "      <td>Financial performance</td>\n",
       "      <td>597623</td>\n",
       "      <td>ANZSIC06 divisions A-S (excluding classes K633...</td>\n",
       "    </tr>\n",
       "  </tbody>\n",
       "</table>\n",
       "</div>"
      ],
      "text/plain": [
       "   Year Industry_aggregation_NZSIOC Industry_code_NZSIOC Industry_name_NZSIOC  \\\n",
       "0  2018                     Level 1                99999       All industries   \n",
       "1  2018                     Level 1                99999       All industries   \n",
       "2  2018                     Level 1                99999       All industries   \n",
       "3  2018                     Level 1                99999       All industries   \n",
       "4  2018                     Level 1                99999       All industries   \n",
       "\n",
       "                Units Variable_code  \\\n",
       "0  Dollars (millions)           H01   \n",
       "1  Dollars (millions)           H04   \n",
       "2  Dollars (millions)           H05   \n",
       "3  Dollars (millions)           H07   \n",
       "4  Dollars (millions)           H08   \n",
       "\n",
       "                                     Variable_name      Variable_category  \\\n",
       "0                                     Total income  Financial performance   \n",
       "1  Sales, government funding, grants and subsidies  Financial performance   \n",
       "2                Interest, dividends and donations  Financial performance   \n",
       "3                             Non-operating income  Financial performance   \n",
       "4                                Total expenditure  Financial performance   \n",
       "\n",
       "    Value                             Industry_code_ANZSIC06  \n",
       "0  691859  ANZSIC06 divisions A-S (excluding classes K633...  \n",
       "1  605766  ANZSIC06 divisions A-S (excluding classes K633...  \n",
       "2   63509  ANZSIC06 divisions A-S (excluding classes K633...  \n",
       "3   22583  ANZSIC06 divisions A-S (excluding classes K633...  \n",
       "4  597623  ANZSIC06 divisions A-S (excluding classes K633...  "
      ]
     },
     "execution_count": 29,
     "metadata": {},
     "output_type": "execute_result"
    }
   ],
   "source": [
    "df.head()"
   ]
  },
  {
   "cell_type": "code",
   "execution_count": 30,
   "metadata": {},
   "outputs": [
    {
     "data": {
      "text/html": [
       "<div>\n",
       "<style scoped>\n",
       "    .dataframe tbody tr th:only-of-type {\n",
       "        vertical-align: middle;\n",
       "    }\n",
       "\n",
       "    .dataframe tbody tr th {\n",
       "        vertical-align: top;\n",
       "    }\n",
       "\n",
       "    .dataframe thead th {\n",
       "        text-align: right;\n",
       "    }\n",
       "</style>\n",
       "<table border=\"1\" class=\"dataframe\">\n",
       "  <thead>\n",
       "    <tr style=\"text-align: right;\">\n",
       "      <th></th>\n",
       "      <th>Year</th>\n",
       "      <th>Industry_aggregation_NZSIOC</th>\n",
       "      <th>Industry_code_NZSIOC</th>\n",
       "      <th>Industry_name_NZSIOC</th>\n",
       "      <th>Units</th>\n",
       "      <th>Variable_code</th>\n",
       "      <th>Variable_name</th>\n",
       "      <th>Variable_category</th>\n",
       "      <th>Value</th>\n",
       "      <th>Industry_code_ANZSIC06</th>\n",
       "    </tr>\n",
       "  </thead>\n",
       "  <tbody>\n",
       "    <tr>\n",
       "      <th>27805</th>\n",
       "      <td>2013</td>\n",
       "      <td>Level 3</td>\n",
       "      <td>ZZ11</td>\n",
       "      <td>Food product manufacturing</td>\n",
       "      <td>Percentage</td>\n",
       "      <td>H37</td>\n",
       "      <td>Quick ratio</td>\n",
       "      <td>Financial ratios</td>\n",
       "      <td>52</td>\n",
       "      <td>ANZSIC06 groups C111, C112, C113, C114, C115, ...</td>\n",
       "    </tr>\n",
       "    <tr>\n",
       "      <th>27806</th>\n",
       "      <td>2013</td>\n",
       "      <td>Level 3</td>\n",
       "      <td>ZZ11</td>\n",
       "      <td>Food product manufacturing</td>\n",
       "      <td>Percentage</td>\n",
       "      <td>H38</td>\n",
       "      <td>Margin on sales of goods for resale</td>\n",
       "      <td>Financial ratios</td>\n",
       "      <td>40</td>\n",
       "      <td>ANZSIC06 groups C111, C112, C113, C114, C115, ...</td>\n",
       "    </tr>\n",
       "    <tr>\n",
       "      <th>27807</th>\n",
       "      <td>2013</td>\n",
       "      <td>Level 3</td>\n",
       "      <td>ZZ11</td>\n",
       "      <td>Food product manufacturing</td>\n",
       "      <td>Percentage</td>\n",
       "      <td>H39</td>\n",
       "      <td>Return on equity</td>\n",
       "      <td>Financial ratios</td>\n",
       "      <td>12</td>\n",
       "      <td>ANZSIC06 groups C111, C112, C113, C114, C115, ...</td>\n",
       "    </tr>\n",
       "    <tr>\n",
       "      <th>27808</th>\n",
       "      <td>2013</td>\n",
       "      <td>Level 3</td>\n",
       "      <td>ZZ11</td>\n",
       "      <td>Food product manufacturing</td>\n",
       "      <td>Percentage</td>\n",
       "      <td>H40</td>\n",
       "      <td>Return on total assets</td>\n",
       "      <td>Financial ratios</td>\n",
       "      <td>5</td>\n",
       "      <td>ANZSIC06 groups C111, C112, C113, C114, C115, ...</td>\n",
       "    </tr>\n",
       "    <tr>\n",
       "      <th>27809</th>\n",
       "      <td>2013</td>\n",
       "      <td>Level 3</td>\n",
       "      <td>ZZ11</td>\n",
       "      <td>Food product manufacturing</td>\n",
       "      <td>Percentage</td>\n",
       "      <td>H41</td>\n",
       "      <td>Liabilities structure</td>\n",
       "      <td>Financial ratios</td>\n",
       "      <td>46</td>\n",
       "      <td>ANZSIC06 groups C111, C112, C113, C114, C115, ...</td>\n",
       "    </tr>\n",
       "  </tbody>\n",
       "</table>\n",
       "</div>"
      ],
      "text/plain": [
       "       Year Industry_aggregation_NZSIOC Industry_code_NZSIOC  \\\n",
       "27805  2013                     Level 3                 ZZ11   \n",
       "27806  2013                     Level 3                 ZZ11   \n",
       "27807  2013                     Level 3                 ZZ11   \n",
       "27808  2013                     Level 3                 ZZ11   \n",
       "27809  2013                     Level 3                 ZZ11   \n",
       "\n",
       "             Industry_name_NZSIOC       Units Variable_code  \\\n",
       "27805  Food product manufacturing  Percentage           H37   \n",
       "27806  Food product manufacturing  Percentage           H38   \n",
       "27807  Food product manufacturing  Percentage           H39   \n",
       "27808  Food product manufacturing  Percentage           H40   \n",
       "27809  Food product manufacturing  Percentage           H41   \n",
       "\n",
       "                             Variable_name Variable_category Value  \\\n",
       "27805                          Quick ratio  Financial ratios    52   \n",
       "27806  Margin on sales of goods for resale  Financial ratios    40   \n",
       "27807                     Return on equity  Financial ratios    12   \n",
       "27808               Return on total assets  Financial ratios     5   \n",
       "27809                Liabilities structure  Financial ratios    46   \n",
       "\n",
       "                                  Industry_code_ANZSIC06  \n",
       "27805  ANZSIC06 groups C111, C112, C113, C114, C115, ...  \n",
       "27806  ANZSIC06 groups C111, C112, C113, C114, C115, ...  \n",
       "27807  ANZSIC06 groups C111, C112, C113, C114, C115, ...  \n",
       "27808  ANZSIC06 groups C111, C112, C113, C114, C115, ...  \n",
       "27809  ANZSIC06 groups C111, C112, C113, C114, C115, ...  "
      ]
     },
     "execution_count": 30,
     "metadata": {},
     "output_type": "execute_result"
    }
   ],
   "source": [
    "df.tail()"
   ]
  },
  {
   "cell_type": "code",
   "execution_count": 31,
   "metadata": {},
   "outputs": [
    {
     "data": {
      "text/html": [
       "<div>\n",
       "<style scoped>\n",
       "    .dataframe tbody tr th:only-of-type {\n",
       "        vertical-align: middle;\n",
       "    }\n",
       "\n",
       "    .dataframe tbody tr th {\n",
       "        vertical-align: top;\n",
       "    }\n",
       "\n",
       "    .dataframe thead th {\n",
       "        text-align: right;\n",
       "    }\n",
       "</style>\n",
       "<table border=\"1\" class=\"dataframe\">\n",
       "  <thead>\n",
       "    <tr style=\"text-align: right;\">\n",
       "      <th></th>\n",
       "      <th>Year</th>\n",
       "    </tr>\n",
       "  </thead>\n",
       "  <tbody>\n",
       "    <tr>\n",
       "      <th>count</th>\n",
       "      <td>27810.000000</td>\n",
       "    </tr>\n",
       "    <tr>\n",
       "      <th>mean</th>\n",
       "      <td>2015.500000</td>\n",
       "    </tr>\n",
       "    <tr>\n",
       "      <th>std</th>\n",
       "      <td>1.707856</td>\n",
       "    </tr>\n",
       "    <tr>\n",
       "      <th>min</th>\n",
       "      <td>2013.000000</td>\n",
       "    </tr>\n",
       "    <tr>\n",
       "      <th>25%</th>\n",
       "      <td>2014.000000</td>\n",
       "    </tr>\n",
       "    <tr>\n",
       "      <th>50%</th>\n",
       "      <td>2015.500000</td>\n",
       "    </tr>\n",
       "    <tr>\n",
       "      <th>75%</th>\n",
       "      <td>2017.000000</td>\n",
       "    </tr>\n",
       "    <tr>\n",
       "      <th>max</th>\n",
       "      <td>2018.000000</td>\n",
       "    </tr>\n",
       "  </tbody>\n",
       "</table>\n",
       "</div>"
      ],
      "text/plain": [
       "               Year\n",
       "count  27810.000000\n",
       "mean    2015.500000\n",
       "std        1.707856\n",
       "min     2013.000000\n",
       "25%     2014.000000\n",
       "50%     2015.500000\n",
       "75%     2017.000000\n",
       "max     2018.000000"
      ]
     },
     "execution_count": 31,
     "metadata": {},
     "output_type": "execute_result"
    }
   ],
   "source": [
    "df.describe()"
   ]
  },
  {
   "cell_type": "code",
   "execution_count": 32,
   "metadata": {},
   "outputs": [
    {
     "data": {
      "text/plain": [
       "Index(['Year', 'Industry_aggregation_NZSIOC', 'Industry_code_NZSIOC',\n",
       "       'Industry_name_NZSIOC', 'Units', 'Variable_code', 'Variable_name',\n",
       "       'Variable_category', 'Value', 'Industry_code_ANZSIC06'],\n",
       "      dtype='object')"
      ]
     },
     "execution_count": 32,
     "metadata": {},
     "output_type": "execute_result"
    }
   ],
   "source": [
    "df.columns"
   ]
  },
  {
   "cell_type": "code",
   "execution_count": 33,
   "metadata": {},
   "outputs": [
    {
     "data": {
      "text/html": [
       "<div>\n",
       "<style scoped>\n",
       "    .dataframe tbody tr th:only-of-type {\n",
       "        vertical-align: middle;\n",
       "    }\n",
       "\n",
       "    .dataframe tbody tr th {\n",
       "        vertical-align: top;\n",
       "    }\n",
       "\n",
       "    .dataframe thead th {\n",
       "        text-align: right;\n",
       "    }\n",
       "</style>\n",
       "<table border=\"1\" class=\"dataframe\">\n",
       "  <thead>\n",
       "    <tr style=\"text-align: right;\">\n",
       "      <th></th>\n",
       "      <th>Year</th>\n",
       "      <th>Industry_aggregation_NZSIOC</th>\n",
       "      <th>Industry_code_NZSIOC</th>\n",
       "      <th>Industry_name_NZSIOC</th>\n",
       "      <th>Units</th>\n",
       "      <th>Variable_code</th>\n",
       "      <th>Variable_name</th>\n",
       "      <th>Variable_category</th>\n",
       "      <th>Value</th>\n",
       "      <th>Industry_code_ANZSIC06</th>\n",
       "    </tr>\n",
       "  </thead>\n",
       "  <tbody>\n",
       "    <tr>\n",
       "      <th>0</th>\n",
       "      <td>2018</td>\n",
       "      <td>Level 1</td>\n",
       "      <td>99999</td>\n",
       "      <td>All industries</td>\n",
       "      <td>Dollars (millions)</td>\n",
       "      <td>H01</td>\n",
       "      <td>Total income</td>\n",
       "      <td>Financial performance</td>\n",
       "      <td>691859</td>\n",
       "      <td>ANZSIC06 divisions A-S (excluding classes K633...</td>\n",
       "    </tr>\n",
       "    <tr>\n",
       "      <th>31</th>\n",
       "      <td>2018</td>\n",
       "      <td>Level 1</td>\n",
       "      <td>AA</td>\n",
       "      <td>Agriculture, Forestry and Fishing</td>\n",
       "      <td>Dollars (millions)</td>\n",
       "      <td>H01</td>\n",
       "      <td>Total income</td>\n",
       "      <td>Financial performance</td>\n",
       "      <td>44753</td>\n",
       "      <td>ANZSIC06 division A</td>\n",
       "    </tr>\n",
       "    <tr>\n",
       "      <th>62</th>\n",
       "      <td>2018</td>\n",
       "      <td>Level 3</td>\n",
       "      <td>AA11</td>\n",
       "      <td>Horticulture and Fruit Growing</td>\n",
       "      <td>Dollars (millions)</td>\n",
       "      <td>H01</td>\n",
       "      <td>Total income</td>\n",
       "      <td>Financial performance</td>\n",
       "      <td>4432</td>\n",
       "      <td>ANZSIC06 groups A011, A012, and A013</td>\n",
       "    </tr>\n",
       "    <tr>\n",
       "      <th>92</th>\n",
       "      <td>2018</td>\n",
       "      <td>Level 4</td>\n",
       "      <td>AA111</td>\n",
       "      <td>Horticulture and Fruit Growing</td>\n",
       "      <td>Dollars (millions)</td>\n",
       "      <td>H01</td>\n",
       "      <td>Total income</td>\n",
       "      <td>Financial performance</td>\n",
       "      <td>4432</td>\n",
       "      <td>ANZSIC06 groups A011, A012, and A013</td>\n",
       "    </tr>\n",
       "    <tr>\n",
       "      <th>122</th>\n",
       "      <td>2018</td>\n",
       "      <td>Level 3</td>\n",
       "      <td>AA12</td>\n",
       "      <td>Sheep, Beef Cattle and Grain Farming</td>\n",
       "      <td>Dollars (millions)</td>\n",
       "      <td>H01</td>\n",
       "      <td>Total income</td>\n",
       "      <td>Financial performance</td>\n",
       "      <td>11555</td>\n",
       "      <td>ANZSIC06 groups A014 and A015</td>\n",
       "    </tr>\n",
       "    <tr>\n",
       "      <th>152</th>\n",
       "      <td>2018</td>\n",
       "      <td>Level 4</td>\n",
       "      <td>AA121</td>\n",
       "      <td>Sheep, Beef Cattle and Grain Farming</td>\n",
       "      <td>Dollars (millions)</td>\n",
       "      <td>H01</td>\n",
       "      <td>Total income</td>\n",
       "      <td>Financial performance</td>\n",
       "      <td>11555</td>\n",
       "      <td>ANZSIC06 groups A014 and A015</td>\n",
       "    </tr>\n",
       "    <tr>\n",
       "      <th>182</th>\n",
       "      <td>2018</td>\n",
       "      <td>Level 3</td>\n",
       "      <td>AA13</td>\n",
       "      <td>Dairy Cattle Farming</td>\n",
       "      <td>Dollars (millions)</td>\n",
       "      <td>H01</td>\n",
       "      <td>Total income</td>\n",
       "      <td>Financial performance</td>\n",
       "      <td>13537</td>\n",
       "      <td>ANZSIC06 group A016</td>\n",
       "    </tr>\n",
       "    <tr>\n",
       "      <th>212</th>\n",
       "      <td>2018</td>\n",
       "      <td>Level 4</td>\n",
       "      <td>AA131</td>\n",
       "      <td>Dairy Cattle Farming</td>\n",
       "      <td>Dollars (millions)</td>\n",
       "      <td>H01</td>\n",
       "      <td>Total income</td>\n",
       "      <td>Financial performance</td>\n",
       "      <td>13537</td>\n",
       "      <td>ANZSIC06 group A016</td>\n",
       "    </tr>\n",
       "    <tr>\n",
       "      <th>242</th>\n",
       "      <td>2018</td>\n",
       "      <td>Level 3</td>\n",
       "      <td>AA14</td>\n",
       "      <td>Poultry, Deer and Other Livestock Farming</td>\n",
       "      <td>Dollars (millions)</td>\n",
       "      <td>H01</td>\n",
       "      <td>Total income</td>\n",
       "      <td>Financial performance</td>\n",
       "      <td>2111</td>\n",
       "      <td>ANZSIC06 groups A017, A018, and A019</td>\n",
       "    </tr>\n",
       "    <tr>\n",
       "      <th>272</th>\n",
       "      <td>2018</td>\n",
       "      <td>Level 4</td>\n",
       "      <td>AA141</td>\n",
       "      <td>Poultry, Deer and Other Livestock Farming</td>\n",
       "      <td>Dollars (millions)</td>\n",
       "      <td>H01</td>\n",
       "      <td>Total income</td>\n",
       "      <td>Financial performance</td>\n",
       "      <td>2111</td>\n",
       "      <td>ANZSIC06 groups A017, A018, and A019</td>\n",
       "    </tr>\n",
       "    <tr>\n",
       "      <th>302</th>\n",
       "      <td>2018</td>\n",
       "      <td>Level 3</td>\n",
       "      <td>AA21</td>\n",
       "      <td>Forestry and Logging</td>\n",
       "      <td>Dollars (millions)</td>\n",
       "      <td>H01</td>\n",
       "      <td>Total income</td>\n",
       "      <td>Financial performance</td>\n",
       "      <td>7298</td>\n",
       "      <td>ANZSIC06 group A030</td>\n",
       "    </tr>\n",
       "    <tr>\n",
       "      <th>333</th>\n",
       "      <td>2018</td>\n",
       "      <td>Level 4</td>\n",
       "      <td>AA211</td>\n",
       "      <td>Forestry and Logging</td>\n",
       "      <td>Dollars (millions)</td>\n",
       "      <td>H01</td>\n",
       "      <td>Total income</td>\n",
       "      <td>Financial performance</td>\n",
       "      <td>7298</td>\n",
       "      <td>ANZSIC06 group A030</td>\n",
       "    </tr>\n",
       "    <tr>\n",
       "      <th>364</th>\n",
       "      <td>2018</td>\n",
       "      <td>Level 3</td>\n",
       "      <td>AA31</td>\n",
       "      <td>Fishing and Aquaculture</td>\n",
       "      <td>Dollars (millions)</td>\n",
       "      <td>H01</td>\n",
       "      <td>Total income</td>\n",
       "      <td>Financial performance</td>\n",
       "      <td>1446</td>\n",
       "      <td>ANZSIC06 groups A020 and A041</td>\n",
       "    </tr>\n",
       "    <tr>\n",
       "      <th>394</th>\n",
       "      <td>2018</td>\n",
       "      <td>Level 3</td>\n",
       "      <td>AA32</td>\n",
       "      <td>Agriculture, Forestry and Fishing Support Serv...</td>\n",
       "      <td>Dollars (millions)</td>\n",
       "      <td>H01</td>\n",
       "      <td>Total income</td>\n",
       "      <td>Financial performance</td>\n",
       "      <td>4374</td>\n",
       "      <td>ANZSIC06 groups A042, A051, and A052</td>\n",
       "    </tr>\n",
       "    <tr>\n",
       "      <th>425</th>\n",
       "      <td>2018</td>\n",
       "      <td>Level 1</td>\n",
       "      <td>BB</td>\n",
       "      <td>Mining</td>\n",
       "      <td>Dollars (millions)</td>\n",
       "      <td>H01</td>\n",
       "      <td>Total income</td>\n",
       "      <td>Financial performance</td>\n",
       "      <td>7494</td>\n",
       "      <td>ANZSIC06 division B</td>\n",
       "    </tr>\n",
       "    <tr>\n",
       "      <th>458</th>\n",
       "      <td>2018</td>\n",
       "      <td>Level 1</td>\n",
       "      <td>CC</td>\n",
       "      <td>Manufacturing</td>\n",
       "      <td>Dollars (millions)</td>\n",
       "      <td>H01</td>\n",
       "      <td>Total income</td>\n",
       "      <td>Financial performance</td>\n",
       "      <td>112031</td>\n",
       "      <td>ANZSIC06 division C</td>\n",
       "    </tr>\n",
       "    <tr>\n",
       "      <th>494</th>\n",
       "      <td>2018</td>\n",
       "      <td>Level 3</td>\n",
       "      <td>CC15</td>\n",
       "      <td>Beverage and Tobacco Product Manufacturing</td>\n",
       "      <td>Dollars (millions)</td>\n",
       "      <td>H01</td>\n",
       "      <td>Total income</td>\n",
       "      <td>Financial performance</td>\n",
       "      <td>6222</td>\n",
       "      <td>ANZSIC06 groups C121 and C122</td>\n",
       "    </tr>\n",
       "    <tr>\n",
       "      <th>530</th>\n",
       "      <td>2018</td>\n",
       "      <td>Level 4</td>\n",
       "      <td>CC151</td>\n",
       "      <td>Beverage and Tobacco Product Manufacturing</td>\n",
       "      <td>Dollars (millions)</td>\n",
       "      <td>H01</td>\n",
       "      <td>Total income</td>\n",
       "      <td>Financial performance</td>\n",
       "      <td>6222</td>\n",
       "      <td>ANZSIC06 groups C121 and C122</td>\n",
       "    </tr>\n",
       "    <tr>\n",
       "      <th>566</th>\n",
       "      <td>2018</td>\n",
       "      <td>Level 3</td>\n",
       "      <td>CC21</td>\n",
       "      <td>Textile, Leather, Clothing and Footwear Manufa...</td>\n",
       "      <td>Dollars (millions)</td>\n",
       "      <td>H01</td>\n",
       "      <td>Total income</td>\n",
       "      <td>Financial performance</td>\n",
       "      <td>2207</td>\n",
       "      <td>ANZSIC06 groups C131, C132, C133, C134, and C135</td>\n",
       "    </tr>\n",
       "    <tr>\n",
       "      <th>602</th>\n",
       "      <td>2018</td>\n",
       "      <td>Level 4</td>\n",
       "      <td>CC211</td>\n",
       "      <td>Textile and Leather Manufacturing</td>\n",
       "      <td>Dollars (millions)</td>\n",
       "      <td>H01</td>\n",
       "      <td>Total income</td>\n",
       "      <td>Financial performance</td>\n",
       "      <td>1680</td>\n",
       "      <td>ANZSIC06 groups C131, C132, and C133</td>\n",
       "    </tr>\n",
       "    <tr>\n",
       "      <th>638</th>\n",
       "      <td>2018</td>\n",
       "      <td>Level 4</td>\n",
       "      <td>CC212</td>\n",
       "      <td>Clothing, Knitted Products and Footwear Manufa...</td>\n",
       "      <td>Dollars (millions)</td>\n",
       "      <td>H01</td>\n",
       "      <td>Total income</td>\n",
       "      <td>Financial performance</td>\n",
       "      <td>527</td>\n",
       "      <td>ANZSIC06 groups C134 and C135</td>\n",
       "    </tr>\n",
       "    <tr>\n",
       "      <th>674</th>\n",
       "      <td>2018</td>\n",
       "      <td>Level 3</td>\n",
       "      <td>CC31</td>\n",
       "      <td>Wood Product Manufacturing</td>\n",
       "      <td>Dollars (millions)</td>\n",
       "      <td>H01</td>\n",
       "      <td>Total income</td>\n",
       "      <td>Financial performance</td>\n",
       "      <td>5556</td>\n",
       "      <td>ANZSIC06 groups C141 and C149</td>\n",
       "    </tr>\n",
       "    <tr>\n",
       "      <th>710</th>\n",
       "      <td>2018</td>\n",
       "      <td>Level 4</td>\n",
       "      <td>CC311</td>\n",
       "      <td>Wood Product Manufacturing</td>\n",
       "      <td>Dollars (millions)</td>\n",
       "      <td>H01</td>\n",
       "      <td>Total income</td>\n",
       "      <td>Financial performance</td>\n",
       "      <td>5556</td>\n",
       "      <td>ANZSIC06 groups C141 and C149</td>\n",
       "    </tr>\n",
       "    <tr>\n",
       "      <th>746</th>\n",
       "      <td>2018</td>\n",
       "      <td>Level 3</td>\n",
       "      <td>CC32</td>\n",
       "      <td>Pulp, Paper and Converted Paper Product Manufa...</td>\n",
       "      <td>Dollars (millions)</td>\n",
       "      <td>H01</td>\n",
       "      <td>Total income</td>\n",
       "      <td>Financial performance</td>\n",
       "      <td>3349</td>\n",
       "      <td>ANZSIC06 groups C151 and C152</td>\n",
       "    </tr>\n",
       "    <tr>\n",
       "      <th>782</th>\n",
       "      <td>2018</td>\n",
       "      <td>Level 4</td>\n",
       "      <td>CC321</td>\n",
       "      <td>Pulp, Paper and Converted Paper Product Manufa...</td>\n",
       "      <td>Dollars (millions)</td>\n",
       "      <td>H01</td>\n",
       "      <td>Total income</td>\n",
       "      <td>Financial performance</td>\n",
       "      <td>3349</td>\n",
       "      <td>ANZSIC06 groups C151 and C152</td>\n",
       "    </tr>\n",
       "    <tr>\n",
       "      <th>818</th>\n",
       "      <td>2018</td>\n",
       "      <td>Level 3</td>\n",
       "      <td>CC41</td>\n",
       "      <td>Printing</td>\n",
       "      <td>Dollars (millions)</td>\n",
       "      <td>H01</td>\n",
       "      <td>Total income</td>\n",
       "      <td>Financial performance</td>\n",
       "      <td>1549</td>\n",
       "      <td>ANZSIC06 groups C161 and C162</td>\n",
       "    </tr>\n",
       "    <tr>\n",
       "      <th>854</th>\n",
       "      <td>2018</td>\n",
       "      <td>Level 4</td>\n",
       "      <td>CC411</td>\n",
       "      <td>Printing</td>\n",
       "      <td>Dollars (millions)</td>\n",
       "      <td>H01</td>\n",
       "      <td>Total income</td>\n",
       "      <td>Financial performance</td>\n",
       "      <td>1549</td>\n",
       "      <td>ANZSIC06 groups C161 and C162</td>\n",
       "    </tr>\n",
       "    <tr>\n",
       "      <th>890</th>\n",
       "      <td>2018</td>\n",
       "      <td>Level 3</td>\n",
       "      <td>CC51</td>\n",
       "      <td>Petroleum and Coal Product Manufacturing</td>\n",
       "      <td>Dollars (millions)</td>\n",
       "      <td>H01</td>\n",
       "      <td>Total income</td>\n",
       "      <td>Financial performance</td>\n",
       "      <td>11614</td>\n",
       "      <td>ANZSIC06 group C170</td>\n",
       "    </tr>\n",
       "    <tr>\n",
       "      <th>926</th>\n",
       "      <td>2018</td>\n",
       "      <td>Level 4</td>\n",
       "      <td>CC511</td>\n",
       "      <td>Petroleum and Coal Product Manufacturing</td>\n",
       "      <td>Dollars (millions)</td>\n",
       "      <td>H01</td>\n",
       "      <td>Total income</td>\n",
       "      <td>Financial performance</td>\n",
       "      <td>11614</td>\n",
       "      <td>ANZSIC06 group C170</td>\n",
       "    </tr>\n",
       "    <tr>\n",
       "      <th>962</th>\n",
       "      <td>2018</td>\n",
       "      <td>Level 3</td>\n",
       "      <td>CC52</td>\n",
       "      <td>Basic Chemical and Chemical Product Manufacturing</td>\n",
       "      <td>Dollars (millions)</td>\n",
       "      <td>H01</td>\n",
       "      <td>Total income</td>\n",
       "      <td>Financial performance</td>\n",
       "      <td>5742</td>\n",
       "      <td>ANZSIC06 groups C181, C182, C183, C184, C185, ...</td>\n",
       "    </tr>\n",
       "    <tr>\n",
       "      <th>...</th>\n",
       "      <td>...</td>\n",
       "      <td>...</td>\n",
       "      <td>...</td>\n",
       "      <td>...</td>\n",
       "      <td>...</td>\n",
       "      <td>...</td>\n",
       "      <td>...</td>\n",
       "      <td>...</td>\n",
       "      <td>...</td>\n",
       "      <td>...</td>\n",
       "    </tr>\n",
       "    <tr>\n",
       "      <th>26859</th>\n",
       "      <td>2013</td>\n",
       "      <td>Level 4</td>\n",
       "      <td>MN112</td>\n",
       "      <td>Legal and Accounting Services</td>\n",
       "      <td>Dollars (millions)</td>\n",
       "      <td>H01</td>\n",
       "      <td>Total income</td>\n",
       "      <td>Financial performance</td>\n",
       "      <td>5319</td>\n",
       "      <td>ANZSIC06 group M693</td>\n",
       "    </tr>\n",
       "    <tr>\n",
       "      <th>26892</th>\n",
       "      <td>2013</td>\n",
       "      <td>Level 4</td>\n",
       "      <td>MN113</td>\n",
       "      <td>Advertising, Market Research and Management Se...</td>\n",
       "      <td>Dollars (millions)</td>\n",
       "      <td>H01</td>\n",
       "      <td>Total income</td>\n",
       "      <td>Financial performance</td>\n",
       "      <td>10514</td>\n",
       "      <td>ANZSIC06 groups M694, M695, and M696</td>\n",
       "    </tr>\n",
       "    <tr>\n",
       "      <th>26925</th>\n",
       "      <td>2013</td>\n",
       "      <td>Level 4</td>\n",
       "      <td>MN114</td>\n",
       "      <td>Veterinary and Other Professional Services</td>\n",
       "      <td>Dollars (millions)</td>\n",
       "      <td>H01</td>\n",
       "      <td>Total income</td>\n",
       "      <td>Financial performance</td>\n",
       "      <td>1188</td>\n",
       "      <td>ANZSIC06 groups M697 and M699</td>\n",
       "    </tr>\n",
       "    <tr>\n",
       "      <th>26958</th>\n",
       "      <td>2013</td>\n",
       "      <td>Level 4</td>\n",
       "      <td>MN115</td>\n",
       "      <td>Computer System Design and Related Services</td>\n",
       "      <td>Dollars (millions)</td>\n",
       "      <td>H01</td>\n",
       "      <td>Total income</td>\n",
       "      <td>Financial performance</td>\n",
       "      <td>6187</td>\n",
       "      <td>ANZSIC06 group M700</td>\n",
       "    </tr>\n",
       "    <tr>\n",
       "      <th>26991</th>\n",
       "      <td>2013</td>\n",
       "      <td>Level 3</td>\n",
       "      <td>MN21</td>\n",
       "      <td>Administrative and Support Services</td>\n",
       "      <td>Dollars (millions)</td>\n",
       "      <td>H01</td>\n",
       "      <td>Total income</td>\n",
       "      <td>Financial performance</td>\n",
       "      <td>8675</td>\n",
       "      <td>ANZSIC06 division N</td>\n",
       "    </tr>\n",
       "    <tr>\n",
       "      <th>27024</th>\n",
       "      <td>2013</td>\n",
       "      <td>Level 4</td>\n",
       "      <td>MN211</td>\n",
       "      <td>Travel Agency and Tour Arrangement Services</td>\n",
       "      <td>Dollars (millions)</td>\n",
       "      <td>H01</td>\n",
       "      <td>Total income</td>\n",
       "      <td>Financial performance</td>\n",
       "      <td>705</td>\n",
       "      <td>ANZSIC06 group N722</td>\n",
       "    </tr>\n",
       "    <tr>\n",
       "      <th>27057</th>\n",
       "      <td>2013</td>\n",
       "      <td>Level 4</td>\n",
       "      <td>MN212</td>\n",
       "      <td>Employment and Other Administrative Services</td>\n",
       "      <td>Dollars (millions)</td>\n",
       "      <td>H01</td>\n",
       "      <td>Total income</td>\n",
       "      <td>Financial performance</td>\n",
       "      <td>5418</td>\n",
       "      <td>ANZSIC06 groups N721 and N729</td>\n",
       "    </tr>\n",
       "    <tr>\n",
       "      <th>27090</th>\n",
       "      <td>2013</td>\n",
       "      <td>Level 4</td>\n",
       "      <td>MN213</td>\n",
       "      <td>Building Cleaning, Pest Control and Other Supp...</td>\n",
       "      <td>Dollars (millions)</td>\n",
       "      <td>H01</td>\n",
       "      <td>Total income</td>\n",
       "      <td>Financial performance</td>\n",
       "      <td>2553</td>\n",
       "      <td>ANZSIC06 groups N731 and N732</td>\n",
       "    </tr>\n",
       "    <tr>\n",
       "      <th>27123</th>\n",
       "      <td>2013</td>\n",
       "      <td>Level 1</td>\n",
       "      <td>OO</td>\n",
       "      <td>Public order, safety and regulatory services</td>\n",
       "      <td>Dollars (millions)</td>\n",
       "      <td>H01</td>\n",
       "      <td>Total income</td>\n",
       "      <td>Financial performance</td>\n",
       "      <td>1042</td>\n",
       "      <td>ANZSIC06 division O (excluding classes O753, O...</td>\n",
       "    </tr>\n",
       "    <tr>\n",
       "      <th>27154</th>\n",
       "      <td>2013</td>\n",
       "      <td>Level 3</td>\n",
       "      <td>OO21</td>\n",
       "      <td>Public order, safety and regulatory services</td>\n",
       "      <td>Dollars (millions)</td>\n",
       "      <td>H01</td>\n",
       "      <td>Total income</td>\n",
       "      <td>Financial performance</td>\n",
       "      <td>1042</td>\n",
       "      <td>ANZSIC06 groups O771 and O772 (excluding class...</td>\n",
       "    </tr>\n",
       "    <tr>\n",
       "      <th>27185</th>\n",
       "      <td>2013</td>\n",
       "      <td>Level 4</td>\n",
       "      <td>OO213</td>\n",
       "      <td>Public Order, Safety and Regulatory Services</td>\n",
       "      <td>Dollars (millions)</td>\n",
       "      <td>H01</td>\n",
       "      <td>Total income</td>\n",
       "      <td>Financial performance</td>\n",
       "      <td>1041</td>\n",
       "      <td>ANZSIC06 groups O771 and O772 (excluding class...</td>\n",
       "    </tr>\n",
       "    <tr>\n",
       "      <th>27216</th>\n",
       "      <td>2013</td>\n",
       "      <td>Level 1</td>\n",
       "      <td>PP</td>\n",
       "      <td>Education and Training</td>\n",
       "      <td>Dollars (millions)</td>\n",
       "      <td>H01</td>\n",
       "      <td>Total income</td>\n",
       "      <td>Financial performance</td>\n",
       "      <td>3402</td>\n",
       "      <td>ANZSIC06 division P</td>\n",
       "    </tr>\n",
       "    <tr>\n",
       "      <th>27246</th>\n",
       "      <td>2013</td>\n",
       "      <td>Level 4</td>\n",
       "      <td>PP111</td>\n",
       "      <td>Preschool Education</td>\n",
       "      <td>Dollars (millions)</td>\n",
       "      <td>H01</td>\n",
       "      <td>Total income</td>\n",
       "      <td>Financial performance</td>\n",
       "      <td>941</td>\n",
       "      <td>ANZSIC06 group P801</td>\n",
       "    </tr>\n",
       "    <tr>\n",
       "      <th>27276</th>\n",
       "      <td>2013</td>\n",
       "      <td>Level 4</td>\n",
       "      <td>PP112</td>\n",
       "      <td>School Education</td>\n",
       "      <td>Dollars (millions)</td>\n",
       "      <td>H01</td>\n",
       "      <td>Total income</td>\n",
       "      <td>Financial performance</td>\n",
       "      <td>561</td>\n",
       "      <td>ANZSIC06 group P802</td>\n",
       "    </tr>\n",
       "    <tr>\n",
       "      <th>27306</th>\n",
       "      <td>2013</td>\n",
       "      <td>Level 4</td>\n",
       "      <td>PP113</td>\n",
       "      <td>Tertiary Education</td>\n",
       "      <td>Dollars (millions)</td>\n",
       "      <td>H01</td>\n",
       "      <td>Total income</td>\n",
       "      <td>Financial performance</td>\n",
       "      <td>729</td>\n",
       "      <td>ANZSIC06 group P810</td>\n",
       "    </tr>\n",
       "    <tr>\n",
       "      <th>27336</th>\n",
       "      <td>2013</td>\n",
       "      <td>Level 4</td>\n",
       "      <td>PP114</td>\n",
       "      <td>Adult, Community and Other Education</td>\n",
       "      <td>Dollars (millions)</td>\n",
       "      <td>H01</td>\n",
       "      <td>Total income</td>\n",
       "      <td>Financial performance</td>\n",
       "      <td>1171</td>\n",
       "      <td>ANZSIC06 groups P821 and P822</td>\n",
       "    </tr>\n",
       "    <tr>\n",
       "      <th>27366</th>\n",
       "      <td>2013</td>\n",
       "      <td>Level 1</td>\n",
       "      <td>QQ</td>\n",
       "      <td>Health Care and Social Assistance</td>\n",
       "      <td>Dollars (millions)</td>\n",
       "      <td>H01</td>\n",
       "      <td>Total income</td>\n",
       "      <td>Financial performance</td>\n",
       "      <td>13520</td>\n",
       "      <td>ANZSIC06 division Q</td>\n",
       "    </tr>\n",
       "    <tr>\n",
       "      <th>27396</th>\n",
       "      <td>2013</td>\n",
       "      <td>Level 4</td>\n",
       "      <td>QQ111</td>\n",
       "      <td>Hospitals</td>\n",
       "      <td>Dollars (millions)</td>\n",
       "      <td>H01</td>\n",
       "      <td>Total income</td>\n",
       "      <td>Financial performance</td>\n",
       "      <td>844</td>\n",
       "      <td>ANZSIC06 group Q840</td>\n",
       "    </tr>\n",
       "    <tr>\n",
       "      <th>27426</th>\n",
       "      <td>2013</td>\n",
       "      <td>Level 4</td>\n",
       "      <td>QQ112</td>\n",
       "      <td>Medical and Other Health Care Services</td>\n",
       "      <td>Dollars (millions)</td>\n",
       "      <td>H01</td>\n",
       "      <td>Total income</td>\n",
       "      <td>Financial performance</td>\n",
       "      <td>8211</td>\n",
       "      <td>ANZSIC06 groups Q851, Q852, Q853, and Q859</td>\n",
       "    </tr>\n",
       "    <tr>\n",
       "      <th>27456</th>\n",
       "      <td>2013</td>\n",
       "      <td>Level 4</td>\n",
       "      <td>QQ113</td>\n",
       "      <td>Residential Care Services and Social Assistance</td>\n",
       "      <td>Dollars (millions)</td>\n",
       "      <td>H01</td>\n",
       "      <td>Total income</td>\n",
       "      <td>Financial performance</td>\n",
       "      <td>4464</td>\n",
       "      <td>ANZSIC06 groups Q860, Q871, and Q879</td>\n",
       "    </tr>\n",
       "    <tr>\n",
       "      <th>27486</th>\n",
       "      <td>2013</td>\n",
       "      <td>Level 1</td>\n",
       "      <td>RS</td>\n",
       "      <td>Arts, Recreation and Other Services</td>\n",
       "      <td>Dollars (millions)</td>\n",
       "      <td>H01</td>\n",
       "      <td>Total income</td>\n",
       "      <td>Financial performance</td>\n",
       "      <td>15160</td>\n",
       "      <td>ANZSIC06 divisions R and S</td>\n",
       "    </tr>\n",
       "    <tr>\n",
       "      <th>27518</th>\n",
       "      <td>2013</td>\n",
       "      <td>Level 3</td>\n",
       "      <td>RS11</td>\n",
       "      <td>Arts and Recreation Services</td>\n",
       "      <td>Dollars (millions)</td>\n",
       "      <td>H01</td>\n",
       "      <td>Total income</td>\n",
       "      <td>Financial performance</td>\n",
       "      <td>6803</td>\n",
       "      <td>ANZSIC06 division R</td>\n",
       "    </tr>\n",
       "    <tr>\n",
       "      <th>27550</th>\n",
       "      <td>2013</td>\n",
       "      <td>Level 4</td>\n",
       "      <td>RS111</td>\n",
       "      <td>Heritage and Artistic Activities</td>\n",
       "      <td>Dollars (millions)</td>\n",
       "      <td>H01</td>\n",
       "      <td>Total income</td>\n",
       "      <td>Financial performance</td>\n",
       "      <td>803</td>\n",
       "      <td>ANZSIC06 groups R891, R892, and R900</td>\n",
       "    </tr>\n",
       "    <tr>\n",
       "      <th>27582</th>\n",
       "      <td>2013</td>\n",
       "      <td>Level 4</td>\n",
       "      <td>RS112</td>\n",
       "      <td>Sport and Recreation Activities</td>\n",
       "      <td>Dollars (millions)</td>\n",
       "      <td>H01</td>\n",
       "      <td>Total income</td>\n",
       "      <td>Financial performance</td>\n",
       "      <td>2519</td>\n",
       "      <td>ANZSIC06 groups R911, R912, and R913</td>\n",
       "    </tr>\n",
       "    <tr>\n",
       "      <th>27614</th>\n",
       "      <td>2013</td>\n",
       "      <td>Level 4</td>\n",
       "      <td>RS113</td>\n",
       "      <td>Gambling Activities</td>\n",
       "      <td>Dollars (millions)</td>\n",
       "      <td>H01</td>\n",
       "      <td>Total income</td>\n",
       "      <td>Financial performance</td>\n",
       "      <td>3480</td>\n",
       "      <td>ANZSIC06 group R920</td>\n",
       "    </tr>\n",
       "    <tr>\n",
       "      <th>27646</th>\n",
       "      <td>2013</td>\n",
       "      <td>Level 3</td>\n",
       "      <td>RS21</td>\n",
       "      <td>Other Services</td>\n",
       "      <td>Dollars (millions)</td>\n",
       "      <td>H01</td>\n",
       "      <td>Total income</td>\n",
       "      <td>Financial performance</td>\n",
       "      <td>8358</td>\n",
       "      <td>ANZSIC06 division S (excluding classes S9540, ...</td>\n",
       "    </tr>\n",
       "    <tr>\n",
       "      <th>27678</th>\n",
       "      <td>2013</td>\n",
       "      <td>Level 4</td>\n",
       "      <td>RS211</td>\n",
       "      <td>Repair and Maintenance</td>\n",
       "      <td>Dollars (millions)</td>\n",
       "      <td>H01</td>\n",
       "      <td>Total income</td>\n",
       "      <td>Financial performance</td>\n",
       "      <td>4323</td>\n",
       "      <td>ANZSIC06 groups S941, S942, and S949</td>\n",
       "    </tr>\n",
       "    <tr>\n",
       "      <th>27710</th>\n",
       "      <td>2013</td>\n",
       "      <td>Level 4</td>\n",
       "      <td>RS212</td>\n",
       "      <td>Personal Care, Funeral and Other Personal Serv...</td>\n",
       "      <td>Dollars (millions)</td>\n",
       "      <td>H01</td>\n",
       "      <td>Total income</td>\n",
       "      <td>Financial performance</td>\n",
       "      <td>1644</td>\n",
       "      <td>ANZSIC06 groups S951, S952, and S953</td>\n",
       "    </tr>\n",
       "    <tr>\n",
       "      <th>27742</th>\n",
       "      <td>2013</td>\n",
       "      <td>Level 4</td>\n",
       "      <td>RS214</td>\n",
       "      <td>Civil, Professional and Other Interest Groups</td>\n",
       "      <td>Dollars (millions)</td>\n",
       "      <td>H01</td>\n",
       "      <td>Total income</td>\n",
       "      <td>Financial performance</td>\n",
       "      <td>2390</td>\n",
       "      <td>ANZSIC06 group S955</td>\n",
       "    </tr>\n",
       "    <tr>\n",
       "      <th>27774</th>\n",
       "      <td>2013</td>\n",
       "      <td>Level 3</td>\n",
       "      <td>ZZ11</td>\n",
       "      <td>Food product manufacturing</td>\n",
       "      <td>Dollars (millions)</td>\n",
       "      <td>H01</td>\n",
       "      <td>Total income</td>\n",
       "      <td>Financial performance</td>\n",
       "      <td>36411</td>\n",
       "      <td>ANZSIC06 groups C111, C112, C113, C114, C115, ...</td>\n",
       "    </tr>\n",
       "  </tbody>\n",
       "</table>\n",
       "<p>834 rows × 10 columns</p>\n",
       "</div>"
      ],
      "text/plain": [
       "       Year Industry_aggregation_NZSIOC Industry_code_NZSIOC  \\\n",
       "0      2018                     Level 1                99999   \n",
       "31     2018                     Level 1                   AA   \n",
       "62     2018                     Level 3                 AA11   \n",
       "92     2018                     Level 4                AA111   \n",
       "122    2018                     Level 3                 AA12   \n",
       "152    2018                     Level 4                AA121   \n",
       "182    2018                     Level 3                 AA13   \n",
       "212    2018                     Level 4                AA131   \n",
       "242    2018                     Level 3                 AA14   \n",
       "272    2018                     Level 4                AA141   \n",
       "302    2018                     Level 3                 AA21   \n",
       "333    2018                     Level 4                AA211   \n",
       "364    2018                     Level 3                 AA31   \n",
       "394    2018                     Level 3                 AA32   \n",
       "425    2018                     Level 1                   BB   \n",
       "458    2018                     Level 1                   CC   \n",
       "494    2018                     Level 3                 CC15   \n",
       "530    2018                     Level 4                CC151   \n",
       "566    2018                     Level 3                 CC21   \n",
       "602    2018                     Level 4                CC211   \n",
       "638    2018                     Level 4                CC212   \n",
       "674    2018                     Level 3                 CC31   \n",
       "710    2018                     Level 4                CC311   \n",
       "746    2018                     Level 3                 CC32   \n",
       "782    2018                     Level 4                CC321   \n",
       "818    2018                     Level 3                 CC41   \n",
       "854    2018                     Level 4                CC411   \n",
       "890    2018                     Level 3                 CC51   \n",
       "926    2018                     Level 4                CC511   \n",
       "962    2018                     Level 3                 CC52   \n",
       "...     ...                         ...                  ...   \n",
       "26859  2013                     Level 4                MN112   \n",
       "26892  2013                     Level 4                MN113   \n",
       "26925  2013                     Level 4                MN114   \n",
       "26958  2013                     Level 4                MN115   \n",
       "26991  2013                     Level 3                 MN21   \n",
       "27024  2013                     Level 4                MN211   \n",
       "27057  2013                     Level 4                MN212   \n",
       "27090  2013                     Level 4                MN213   \n",
       "27123  2013                     Level 1                   OO   \n",
       "27154  2013                     Level 3                 OO21   \n",
       "27185  2013                     Level 4                OO213   \n",
       "27216  2013                     Level 1                   PP   \n",
       "27246  2013                     Level 4                PP111   \n",
       "27276  2013                     Level 4                PP112   \n",
       "27306  2013                     Level 4                PP113   \n",
       "27336  2013                     Level 4                PP114   \n",
       "27366  2013                     Level 1                   QQ   \n",
       "27396  2013                     Level 4                QQ111   \n",
       "27426  2013                     Level 4                QQ112   \n",
       "27456  2013                     Level 4                QQ113   \n",
       "27486  2013                     Level 1                   RS   \n",
       "27518  2013                     Level 3                 RS11   \n",
       "27550  2013                     Level 4                RS111   \n",
       "27582  2013                     Level 4                RS112   \n",
       "27614  2013                     Level 4                RS113   \n",
       "27646  2013                     Level 3                 RS21   \n",
       "27678  2013                     Level 4                RS211   \n",
       "27710  2013                     Level 4                RS212   \n",
       "27742  2013                     Level 4                RS214   \n",
       "27774  2013                     Level 3                 ZZ11   \n",
       "\n",
       "                                    Industry_name_NZSIOC               Units  \\\n",
       "0                                         All industries  Dollars (millions)   \n",
       "31                     Agriculture, Forestry and Fishing  Dollars (millions)   \n",
       "62                        Horticulture and Fruit Growing  Dollars (millions)   \n",
       "92                        Horticulture and Fruit Growing  Dollars (millions)   \n",
       "122                 Sheep, Beef Cattle and Grain Farming  Dollars (millions)   \n",
       "152                 Sheep, Beef Cattle and Grain Farming  Dollars (millions)   \n",
       "182                                 Dairy Cattle Farming  Dollars (millions)   \n",
       "212                                 Dairy Cattle Farming  Dollars (millions)   \n",
       "242            Poultry, Deer and Other Livestock Farming  Dollars (millions)   \n",
       "272            Poultry, Deer and Other Livestock Farming  Dollars (millions)   \n",
       "302                                 Forestry and Logging  Dollars (millions)   \n",
       "333                                 Forestry and Logging  Dollars (millions)   \n",
       "364                              Fishing and Aquaculture  Dollars (millions)   \n",
       "394    Agriculture, Forestry and Fishing Support Serv...  Dollars (millions)   \n",
       "425                                               Mining  Dollars (millions)   \n",
       "458                                        Manufacturing  Dollars (millions)   \n",
       "494           Beverage and Tobacco Product Manufacturing  Dollars (millions)   \n",
       "530           Beverage and Tobacco Product Manufacturing  Dollars (millions)   \n",
       "566    Textile, Leather, Clothing and Footwear Manufa...  Dollars (millions)   \n",
       "602                    Textile and Leather Manufacturing  Dollars (millions)   \n",
       "638    Clothing, Knitted Products and Footwear Manufa...  Dollars (millions)   \n",
       "674                           Wood Product Manufacturing  Dollars (millions)   \n",
       "710                           Wood Product Manufacturing  Dollars (millions)   \n",
       "746    Pulp, Paper and Converted Paper Product Manufa...  Dollars (millions)   \n",
       "782    Pulp, Paper and Converted Paper Product Manufa...  Dollars (millions)   \n",
       "818                                             Printing  Dollars (millions)   \n",
       "854                                             Printing  Dollars (millions)   \n",
       "890             Petroleum and Coal Product Manufacturing  Dollars (millions)   \n",
       "926             Petroleum and Coal Product Manufacturing  Dollars (millions)   \n",
       "962    Basic Chemical and Chemical Product Manufacturing  Dollars (millions)   \n",
       "...                                                  ...                 ...   \n",
       "26859                      Legal and Accounting Services  Dollars (millions)   \n",
       "26892  Advertising, Market Research and Management Se...  Dollars (millions)   \n",
       "26925         Veterinary and Other Professional Services  Dollars (millions)   \n",
       "26958        Computer System Design and Related Services  Dollars (millions)   \n",
       "26991                Administrative and Support Services  Dollars (millions)   \n",
       "27024        Travel Agency and Tour Arrangement Services  Dollars (millions)   \n",
       "27057       Employment and Other Administrative Services  Dollars (millions)   \n",
       "27090  Building Cleaning, Pest Control and Other Supp...  Dollars (millions)   \n",
       "27123       Public order, safety and regulatory services  Dollars (millions)   \n",
       "27154       Public order, safety and regulatory services  Dollars (millions)   \n",
       "27185       Public Order, Safety and Regulatory Services  Dollars (millions)   \n",
       "27216                             Education and Training  Dollars (millions)   \n",
       "27246                                Preschool Education  Dollars (millions)   \n",
       "27276                                   School Education  Dollars (millions)   \n",
       "27306                                 Tertiary Education  Dollars (millions)   \n",
       "27336               Adult, Community and Other Education  Dollars (millions)   \n",
       "27366                  Health Care and Social Assistance  Dollars (millions)   \n",
       "27396                                          Hospitals  Dollars (millions)   \n",
       "27426             Medical and Other Health Care Services  Dollars (millions)   \n",
       "27456    Residential Care Services and Social Assistance  Dollars (millions)   \n",
       "27486                Arts, Recreation and Other Services  Dollars (millions)   \n",
       "27518                       Arts and Recreation Services  Dollars (millions)   \n",
       "27550                   Heritage and Artistic Activities  Dollars (millions)   \n",
       "27582                    Sport and Recreation Activities  Dollars (millions)   \n",
       "27614                                Gambling Activities  Dollars (millions)   \n",
       "27646                                     Other Services  Dollars (millions)   \n",
       "27678                             Repair and Maintenance  Dollars (millions)   \n",
       "27710  Personal Care, Funeral and Other Personal Serv...  Dollars (millions)   \n",
       "27742      Civil, Professional and Other Interest Groups  Dollars (millions)   \n",
       "27774                         Food product manufacturing  Dollars (millions)   \n",
       "\n",
       "      Variable_code Variable_name      Variable_category   Value  \\\n",
       "0               H01  Total income  Financial performance  691859   \n",
       "31              H01  Total income  Financial performance   44753   \n",
       "62              H01  Total income  Financial performance    4432   \n",
       "92              H01  Total income  Financial performance    4432   \n",
       "122             H01  Total income  Financial performance   11555   \n",
       "152             H01  Total income  Financial performance   11555   \n",
       "182             H01  Total income  Financial performance   13537   \n",
       "212             H01  Total income  Financial performance   13537   \n",
       "242             H01  Total income  Financial performance    2111   \n",
       "272             H01  Total income  Financial performance    2111   \n",
       "302             H01  Total income  Financial performance    7298   \n",
       "333             H01  Total income  Financial performance    7298   \n",
       "364             H01  Total income  Financial performance    1446   \n",
       "394             H01  Total income  Financial performance    4374   \n",
       "425             H01  Total income  Financial performance    7494   \n",
       "458             H01  Total income  Financial performance  112031   \n",
       "494             H01  Total income  Financial performance    6222   \n",
       "530             H01  Total income  Financial performance    6222   \n",
       "566             H01  Total income  Financial performance    2207   \n",
       "602             H01  Total income  Financial performance    1680   \n",
       "638             H01  Total income  Financial performance     527   \n",
       "674             H01  Total income  Financial performance    5556   \n",
       "710             H01  Total income  Financial performance    5556   \n",
       "746             H01  Total income  Financial performance    3349   \n",
       "782             H01  Total income  Financial performance    3349   \n",
       "818             H01  Total income  Financial performance    1549   \n",
       "854             H01  Total income  Financial performance    1549   \n",
       "890             H01  Total income  Financial performance   11614   \n",
       "926             H01  Total income  Financial performance   11614   \n",
       "962             H01  Total income  Financial performance    5742   \n",
       "...             ...           ...                    ...     ...   \n",
       "26859           H01  Total income  Financial performance    5319   \n",
       "26892           H01  Total income  Financial performance   10514   \n",
       "26925           H01  Total income  Financial performance    1188   \n",
       "26958           H01  Total income  Financial performance    6187   \n",
       "26991           H01  Total income  Financial performance    8675   \n",
       "27024           H01  Total income  Financial performance     705   \n",
       "27057           H01  Total income  Financial performance    5418   \n",
       "27090           H01  Total income  Financial performance    2553   \n",
       "27123           H01  Total income  Financial performance    1042   \n",
       "27154           H01  Total income  Financial performance    1042   \n",
       "27185           H01  Total income  Financial performance    1041   \n",
       "27216           H01  Total income  Financial performance    3402   \n",
       "27246           H01  Total income  Financial performance     941   \n",
       "27276           H01  Total income  Financial performance     561   \n",
       "27306           H01  Total income  Financial performance     729   \n",
       "27336           H01  Total income  Financial performance    1171   \n",
       "27366           H01  Total income  Financial performance   13520   \n",
       "27396           H01  Total income  Financial performance     844   \n",
       "27426           H01  Total income  Financial performance    8211   \n",
       "27456           H01  Total income  Financial performance    4464   \n",
       "27486           H01  Total income  Financial performance   15160   \n",
       "27518           H01  Total income  Financial performance    6803   \n",
       "27550           H01  Total income  Financial performance     803   \n",
       "27582           H01  Total income  Financial performance    2519   \n",
       "27614           H01  Total income  Financial performance    3480   \n",
       "27646           H01  Total income  Financial performance    8358   \n",
       "27678           H01  Total income  Financial performance    4323   \n",
       "27710           H01  Total income  Financial performance    1644   \n",
       "27742           H01  Total income  Financial performance    2390   \n",
       "27774           H01  Total income  Financial performance   36411   \n",
       "\n",
       "                                  Industry_code_ANZSIC06  \n",
       "0      ANZSIC06 divisions A-S (excluding classes K633...  \n",
       "31                                   ANZSIC06 division A  \n",
       "62                  ANZSIC06 groups A011, A012, and A013  \n",
       "92                  ANZSIC06 groups A011, A012, and A013  \n",
       "122                        ANZSIC06 groups A014 and A015  \n",
       "152                        ANZSIC06 groups A014 and A015  \n",
       "182                                  ANZSIC06 group A016  \n",
       "212                                  ANZSIC06 group A016  \n",
       "242                 ANZSIC06 groups A017, A018, and A019  \n",
       "272                 ANZSIC06 groups A017, A018, and A019  \n",
       "302                                  ANZSIC06 group A030  \n",
       "333                                  ANZSIC06 group A030  \n",
       "364                        ANZSIC06 groups A020 and A041  \n",
       "394                 ANZSIC06 groups A042, A051, and A052  \n",
       "425                                  ANZSIC06 division B  \n",
       "458                                  ANZSIC06 division C  \n",
       "494                        ANZSIC06 groups C121 and C122  \n",
       "530                        ANZSIC06 groups C121 and C122  \n",
       "566     ANZSIC06 groups C131, C132, C133, C134, and C135  \n",
       "602                 ANZSIC06 groups C131, C132, and C133  \n",
       "638                        ANZSIC06 groups C134 and C135  \n",
       "674                        ANZSIC06 groups C141 and C149  \n",
       "710                        ANZSIC06 groups C141 and C149  \n",
       "746                        ANZSIC06 groups C151 and C152  \n",
       "782                        ANZSIC06 groups C151 and C152  \n",
       "818                        ANZSIC06 groups C161 and C162  \n",
       "854                        ANZSIC06 groups C161 and C162  \n",
       "890                                  ANZSIC06 group C170  \n",
       "926                                  ANZSIC06 group C170  \n",
       "962    ANZSIC06 groups C181, C182, C183, C184, C185, ...  \n",
       "...                                                  ...  \n",
       "26859                                ANZSIC06 group M693  \n",
       "26892               ANZSIC06 groups M694, M695, and M696  \n",
       "26925                      ANZSIC06 groups M697 and M699  \n",
       "26958                                ANZSIC06 group M700  \n",
       "26991                                ANZSIC06 division N  \n",
       "27024                                ANZSIC06 group N722  \n",
       "27057                      ANZSIC06 groups N721 and N729  \n",
       "27090                      ANZSIC06 groups N731 and N732  \n",
       "27123  ANZSIC06 division O (excluding classes O753, O...  \n",
       "27154  ANZSIC06 groups O771 and O772 (excluding class...  \n",
       "27185  ANZSIC06 groups O771 and O772 (excluding class...  \n",
       "27216                                ANZSIC06 division P  \n",
       "27246                                ANZSIC06 group P801  \n",
       "27276                                ANZSIC06 group P802  \n",
       "27306                                ANZSIC06 group P810  \n",
       "27336                      ANZSIC06 groups P821 and P822  \n",
       "27366                                ANZSIC06 division Q  \n",
       "27396                                ANZSIC06 group Q840  \n",
       "27426         ANZSIC06 groups Q851, Q852, Q853, and Q859  \n",
       "27456               ANZSIC06 groups Q860, Q871, and Q879  \n",
       "27486                         ANZSIC06 divisions R and S  \n",
       "27518                                ANZSIC06 division R  \n",
       "27550               ANZSIC06 groups R891, R892, and R900  \n",
       "27582               ANZSIC06 groups R911, R912, and R913  \n",
       "27614                                ANZSIC06 group R920  \n",
       "27646  ANZSIC06 division S (excluding classes S9540, ...  \n",
       "27678               ANZSIC06 groups S941, S942, and S949  \n",
       "27710               ANZSIC06 groups S951, S952, and S953  \n",
       "27742                                ANZSIC06 group S955  \n",
       "27774  ANZSIC06 groups C111, C112, C113, C114, C115, ...  \n",
       "\n",
       "[834 rows x 10 columns]"
      ]
     },
     "execution_count": 33,
     "metadata": {},
     "output_type": "execute_result"
    }
   ],
   "source": [
    "df[df.Variable_code==\"H01\"]"
   ]
  },
  {
   "cell_type": "code",
   "execution_count": 34,
   "metadata": {},
   "outputs": [
    {
     "data": {
      "text/plain": [
       "Index(['Year', 'Industry_aggregation_NZSIOC', 'Industry_code_NZSIOC',\n",
       "       'Industry_name_NZSIOC', 'Units', 'Variable_code', 'Variable_name',\n",
       "       'Variable_category', 'Value', 'Industry_code_ANZSIC06'],\n",
       "      dtype='object')"
      ]
     },
     "execution_count": 34,
     "metadata": {},
     "output_type": "execute_result"
    }
   ],
   "source": [
    "df.columns"
   ]
  },
  {
   "cell_type": "code",
   "execution_count": 35,
   "metadata": {},
   "outputs": [
    {
     "data": {
      "text/plain": [
       "<matplotlib.axes._subplots.AxesSubplot at 0x7f37ea494470>"
      ]
     },
     "execution_count": 35,
     "metadata": {},
     "output_type": "execute_result"
    }
   ],
   "source": [
    "df.plot(x=\"Variable_code\",y=\"Year\")"
   ]
  },
  {
   "cell_type": "code",
   "execution_count": 36,
   "metadata": {},
   "outputs": [],
   "source": [
    "import matplotlib.pyplot as plt\n",
    "plt.show()"
   ]
  },
  {
   "cell_type": "code",
   "execution_count": 37,
   "metadata": {},
   "outputs": [
    {
     "data": {
      "image/png": "[encoded data removed]",
      "text/plain": [
       "<Figure size 432x288 with 1 Axes>"
      ]
     },
     "metadata": {
      "needs_background": "light"
     },
     "output_type": "display_data"
    }
   ],
   "source": [
    "df.plot(x=\"Variable_code\",y=\"Year\")\n",
    "plt.show()"
   ]
  },
  {
   "cell_type": "code",
   "execution_count": 38,
   "metadata": {},
   "outputs": [
    {
     "data": {
      "image/png": "[encoded data removed]",
      "text/plain": [
       "<Figure size 432x288 with 1 Axes>"
      ]
     },
     "metadata": {
      "needs_background": "light"
     },
     "output_type": "display_data"
    }
   ],
   "source": [
    "df.plot(x=\"Variable_code\",y=\"Year\",kind=\"bar\")\n",
    "plt.show()"
   ]
  },
  {
   "cell_type": "code",
   "execution_count": 41,
   "metadata": {},
   "outputs": [],
   "source": [
    "df = pd.read_html(\"https://www.w3schools.com/tags/tag_table.asp\")\n"
   ]
  },
  {
   "cell_type": "code",
   "execution_count": 42,
   "metadata": {},
   "outputs": [
    {
     "name": "stdout",
     "output_type": "stream",
     "text": [
      "         0    1    2    3    4    5\n",
      "0  Element  NaN  NaN  NaN  NaN  NaN\n",
      "1  <table>  Yes  Yes  Yes  Yes  Yes\n",
      "             0                                                  1  \\\n",
      "0    Attribute                                              Value   \n",
      "1        align                                left  center  right   \n",
      "2      bgcolor                     rgb(x,x,x)  #xxxxxx  colorname   \n",
      "3       border                                                 10   \n",
      "4  cellpadding                                             pixels   \n",
      "5  cellspacing                                             pixels   \n",
      "6        frame  void  above  below  hsides  lhs  rhs  vsides  ...   \n",
      "7        rules                      none  groups  rows  cols  all   \n",
      "8      summary                                               text   \n",
      "9        width                                          pixels  %   \n",
      "\n",
      "                                                   2  \n",
      "0                                        Description  \n",
      "1  Not supported in HTML5.  Specifies the alignme...  \n",
      "2  Not supported in HTML5.  Specifies the backgro...  \n",
      "3  Not supported in HTML5.  Specifies whether or ...  \n",
      "4  Not supported in HTML5.Specifies the space bet...  \n",
      "5  Not supported in HTML5.Specifies the space bet...  \n",
      "6  Not supported in HTML5.Specifies which parts o...  \n",
      "7  Not supported in HTML5.Specifies which parts o...  \n",
      "8  Not supported in HTML5.Specifies a summary of ...  \n",
      "9  Not supported in HTML5.Specifies the width of ...  \n"
     ]
    }
   ],
   "source": [
    "for table in df:\n",
    "    print(table)"
   ]
  },
  {
   "cell_type": "code",
   "execution_count": 43,
   "metadata": {},
   "outputs": [
    {
     "data": {
      "text/html": [
       "<div>\n",
       "<style scoped>\n",
       "    .dataframe tbody tr th:only-of-type {\n",
       "        vertical-align: middle;\n",
       "    }\n",
       "\n",
       "    .dataframe tbody tr th {\n",
       "        vertical-align: top;\n",
       "    }\n",
       "\n",
       "    .dataframe thead th {\n",
       "        text-align: right;\n",
       "    }\n",
       "</style>\n",
       "<table border=\"1\" class=\"dataframe\">\n",
       "  <thead>\n",
       "    <tr style=\"text-align: right;\">\n",
       "      <th></th>\n",
       "      <th>0</th>\n",
       "      <th>1</th>\n",
       "      <th>2</th>\n",
       "      <th>3</th>\n",
       "      <th>4</th>\n",
       "      <th>5</th>\n",
       "    </tr>\n",
       "  </thead>\n",
       "  <tbody>\n",
       "    <tr>\n",
       "      <th>0</th>\n",
       "      <td>Element</td>\n",
       "      <td>NaN</td>\n",
       "      <td>NaN</td>\n",
       "      <td>NaN</td>\n",
       "      <td>NaN</td>\n",
       "      <td>NaN</td>\n",
       "    </tr>\n",
       "    <tr>\n",
       "      <th>1</th>\n",
       "      <td>&lt;table&gt;</td>\n",
       "      <td>Yes</td>\n",
       "      <td>Yes</td>\n",
       "      <td>Yes</td>\n",
       "      <td>Yes</td>\n",
       "      <td>Yes</td>\n",
       "    </tr>\n",
       "  </tbody>\n",
       "</table>\n",
       "</div>"
      ],
      "text/plain": [
       "         0    1    2    3    4    5\n",
       "0  Element  NaN  NaN  NaN  NaN  NaN\n",
       "1  <table>  Yes  Yes  Yes  Yes  Yes"
      ]
     },
     "execution_count": 43,
     "metadata": {},
     "output_type": "execute_result"
    }
   ],
   "source": [
    "df[0]"
   ]
  },
  {
   "cell_type": "code",
   "execution_count": 44,
   "metadata": {},
   "outputs": [
    {
     "data": {
      "text/html": [
       "<div>\n",
       "<style scoped>\n",
       "    .dataframe tbody tr th:only-of-type {\n",
       "        vertical-align: middle;\n",
       "    }\n",
       "\n",
       "    .dataframe tbody tr th {\n",
       "        vertical-align: top;\n",
       "    }\n",
       "\n",
       "    .dataframe thead th {\n",
       "        text-align: right;\n",
       "    }\n",
       "</style>\n",
       "<table border=\"1\" class=\"dataframe\">\n",
       "  <thead>\n",
       "    <tr style=\"text-align: right;\">\n",
       "      <th></th>\n",
       "      <th>0</th>\n",
       "      <th>1</th>\n",
       "      <th>2</th>\n",
       "    </tr>\n",
       "  </thead>\n",
       "  <tbody>\n",
       "    <tr>\n",
       "      <th>0</th>\n",
       "      <td>Attribute</td>\n",
       "      <td>Value</td>\n",
       "      <td>Description</td>\n",
       "    </tr>\n",
       "    <tr>\n",
       "      <th>1</th>\n",
       "      <td>align</td>\n",
       "      <td>left  center  right</td>\n",
       "      <td>Not supported in HTML5.  Specifies the alignme...</td>\n",
       "    </tr>\n",
       "    <tr>\n",
       "      <th>2</th>\n",
       "      <td>bgcolor</td>\n",
       "      <td>rgb(x,x,x)  #xxxxxx  colorname</td>\n",
       "      <td>Not supported in HTML5.  Specifies the backgro...</td>\n",
       "    </tr>\n",
       "    <tr>\n",
       "      <th>3</th>\n",
       "      <td>border</td>\n",
       "      <td>10</td>\n",
       "      <td>Not supported in HTML5.  Specifies whether or ...</td>\n",
       "    </tr>\n",
       "    <tr>\n",
       "      <th>4</th>\n",
       "      <td>cellpadding</td>\n",
       "      <td>pixels</td>\n",
       "      <td>Not supported in HTML5.Specifies the space bet...</td>\n",
       "    </tr>\n",
       "    <tr>\n",
       "      <th>5</th>\n",
       "      <td>cellspacing</td>\n",
       "      <td>pixels</td>\n",
       "      <td>Not supported in HTML5.Specifies the space bet...</td>\n",
       "    </tr>\n",
       "    <tr>\n",
       "      <th>6</th>\n",
       "      <td>frame</td>\n",
       "      <td>void  above  below  hsides  lhs  rhs  vsides  ...</td>\n",
       "      <td>Not supported in HTML5.Specifies which parts o...</td>\n",
       "    </tr>\n",
       "    <tr>\n",
       "      <th>7</th>\n",
       "      <td>rules</td>\n",
       "      <td>none  groups  rows  cols  all</td>\n",
       "      <td>Not supported in HTML5.Specifies which parts o...</td>\n",
       "    </tr>\n",
       "    <tr>\n",
       "      <th>8</th>\n",
       "      <td>summary</td>\n",
       "      <td>text</td>\n",
       "      <td>Not supported in HTML5.Specifies a summary of ...</td>\n",
       "    </tr>\n",
       "    <tr>\n",
       "      <th>9</th>\n",
       "      <td>width</td>\n",
       "      <td>pixels  %</td>\n",
       "      <td>Not supported in HTML5.Specifies the width of ...</td>\n",
       "    </tr>\n",
       "  </tbody>\n",
       "</table>\n",
       "</div>"
      ],
      "text/plain": [
       "             0                                                  1  \\\n",
       "0    Attribute                                              Value   \n",
       "1        align                                left  center  right   \n",
       "2      bgcolor                     rgb(x,x,x)  #xxxxxx  colorname   \n",
       "3       border                                                 10   \n",
       "4  cellpadding                                             pixels   \n",
       "5  cellspacing                                             pixels   \n",
       "6        frame  void  above  below  hsides  lhs  rhs  vsides  ...   \n",
       "7        rules                      none  groups  rows  cols  all   \n",
       "8      summary                                               text   \n",
       "9        width                                          pixels  %   \n",
       "\n",
       "                                                   2  \n",
       "0                                        Description  \n",
       "1  Not supported in HTML5.  Specifies the alignme...  \n",
       "2  Not supported in HTML5.  Specifies the backgro...  \n",
       "3  Not supported in HTML5.  Specifies whether or ...  \n",
       "4  Not supported in HTML5.Specifies the space bet...  \n",
       "5  Not supported in HTML5.Specifies the space bet...  \n",
       "6  Not supported in HTML5.Specifies which parts o...  \n",
       "7  Not supported in HTML5.Specifies which parts o...  \n",
       "8  Not supported in HTML5.Specifies a summary of ...  \n",
       "9  Not supported in HTML5.Specifies the width of ...  "
      ]
     },
     "execution_count": 44,
     "metadata": {},
     "output_type": "execute_result"
    }
   ],
   "source": [
    "df[1]"
   ]
  },
  {
   "cell_type": "code",
   "execution_count": 45,
   "metadata": {},
   "outputs": [
    {
     "ename": "IndexError",
     "evalue": "list index out of range",
     "output_type": "error",
     "traceback": [
      "\u001b[0;31m---------------------------------------------------------------------------\u001b[0m",
      "\u001b[0;31mIndexError\u001b[0m                                Traceback (most recent call last)",
      "\u001b[0;32m<ipython-input-45-b5f2749c85df>\u001b[0m in \u001b[0;36m<module>\u001b[0;34m()\u001b[0m\n\u001b[0;32m----> 1\u001b[0;31m \u001b[0mdf\u001b[0m\u001b[0;34m[\u001b[0m\u001b[0;36m2\u001b[0m\u001b[0;34m]\u001b[0m\u001b[0;34m\u001b[0m\u001b[0m\n\u001b[0m",
      "\u001b[0;31mIndexError\u001b[0m: list index out of range"
     ]
    }
   ],
   "source": [
    "df[2]"
   ]
  },
  {
   "cell_type": "code",
   "execution_count": 46,
   "metadata": {},
   "outputs": [
    {
     "data": {
      "text/plain": [
       "2"
      ]
     },
     "execution_count": 46,
     "metadata": {},
     "output_type": "execute_result"
    }
   ],
   "source": [
    "len(df)"
   ]
  },
  {
   "cell_type": "code",
   "execution_count": 47,
   "metadata": {},
   "outputs": [
    {
     "name": "stdout",
     "output_type": "stream",
     "text": [
      "b'\\xff\\xd8\\xff\\xe0\\x00\\x10JFIF\\x00\\x01\\x01\\x00\\x00\\x01\\x00\\x01\\x00\\x00\\xff\\xdb\\x00C\\x00\\x05\\x03\\x04\\x04\\x04\\x03\\x05\\x04\\x04\\x04\\x05\\x05\\x05\\x06\\x07\\x0c\\x08\\x07\\x07\\x07\\x07\\x0f\\x0b\\x0b\\t\\x0c\\x11\\x0f\\x12\\x12\\x11\\x0f\\x11\\x11\\x13\\x16\\x1c\\x17\\x13\\x14\\x1a\\x15\\x11\\x11\\x18!\\x18\\x1a\\x1d\\x1d\\x1f\\x1f\\x1f\\x13\\x17\"$\"\\x1e$\\x1c\\x1e\\x1f\\x1e\\xff\\xdb\\x00C\\x01\\x05\\x05\\x05\\x07\\x06\\x07\\x0e\\x08\\x08\\x0e\\x1e\\x14\\x11\\x14\\x1e\\x1e\\x1e\\x1e\\x1e\\x1e\\x1e\\x1e\\x1e\\x1e\\x1e\\x1e\\x1e\\x1e\\x1e\\x1e\\x1e\\x1e\\x1e\\x1e\\x1e\\x1e\\x1e\\x1e\\x1e\\x1e\\x1e\\x1e\\x1e\\x1e\\x1e\\x1e\\x1e\\x1e\\x1e\\x1e\\x1e\\x1e\\x1e\\x1e\\x1e\\x1e'\n"
     ]
    }
   ],
   "source": [
    "f=open(\"exec.jpg\",\"rb\")\n",
    "data = f.read()\n",
    "print(data[:150])"
   ]
  },
  {
   "cell_type": "code",
   "execution_count": 48,
   "metadata": {},
   "outputs": [],
   "source": [
    "f=open(\"exec1.jpg\",\"wb\")\n",
    "for i in range(10):\n",
    "    f.write(data)\n",
    "f.close()\n"
   ]
  },
  {
   "cell_type": "code",
   "execution_count": 49,
   "metadata": {},
   "outputs": [
    {
     "name": "stdout",
     "output_type": "stream",
     "text": [
      "b'\\xff\\xd8\\xff\\xe0\\x00\\x10JFIF\\x00\\x01\\x01\\x00\\x00\\x01\\x00\\x01\\x00\\x00\\xff\\xdb\\x00C\\x00\\x05\\x03\\x04\\x04\\x04\\x03\\x05\\x04\\x04\\x04\\x05\\x05\\x05\\x06\\x07\\x0c\\x08\\x07\\x07\\x07\\x07\\x0f\\x0b\\x0b\\t\\x0c\\x11\\x0f\\x12\\x12\\x11\\x0f\\x11\\x11\\x13\\x16\\x1c\\x17\\x13\\x14\\x1a\\x15\\x11\\x11\\x18!\\x18\\x1a\\x1d\\x1d\\x1f\\x1f\\x1f\\x13\\x17\"$\"\\x1e$\\x1c\\x1e\\x1f\\x1e\\xff\\xdb\\x00C\\x01\\x05\\x05\\x05\\x07\\x06\\x07\\x0e\\x08\\x08\\x0e\\x1e\\x14\\x11\\x14\\x1e\\x1e\\x1e\\x1e\\x1e\\x1e\\x1e\\x1e\\x1e\\x1e\\x1e\\x1e\\x1e\\x1e\\x1e\\x1e\\x1e\\x1e\\x1e\\x1e\\x1e\\x1e\\x1e\\x1e\\x1e\\x1e\\x1e\\x1e\\x1e\\x1e\\x1e\\x1e\\x1e\\x1e\\x1e\\x1e\\x1e\\x1e\\x1e\\x1e\\x1e\\x1e\\x1e\\x1e\\x1e\\x1e\\x1e\\x1e\\x1e\\x1e\\xff\\xc0\\x00\\x11\\x08\\x04\\xb0\\x06@\\x03\\x01\"\\x00\\x02\\x11\\x01\\x03\\x11\\x01\\xff\\xc4\\x00\\x1f\\x00\\x00\\x01\\x05\\x01\\x01\\x01\\x01\\x01\\x01\\x00\\x00\\x00\\x00\\x00\\x00\\x00\\x00\\x01\\x02\\x03\\x04\\x05\\x06\\x07\\x08\\t\\n'\n"
     ]
    }
   ],
   "source": [
    "f=open(\"exec.jpg\",\"rb\")\n",
    "for i in f:\n",
    "    print(i)\n",
    "    break"
   ]
  },
  {
   "cell_type": "code",
   "execution_count": 50,
   "metadata": {},
   "outputs": [
    {
     "name": "stdout",
     "output_type": "stream",
     "text": [
      "b'\\xff\\xd8\\xff\\xe0\\x00\\x10JFIF\\x00\\x01\\x01\\x00\\x00\\x01\\x00\\x01\\x00\\x00\\xff\\xdb\\x00C\\x00\\x05\\x03\\x04\\x04\\x04\\x03\\x05\\x04\\x04\\x04\\x05\\x05\\x05\\x06\\x07\\x0c\\x08\\x07\\x07\\x07\\x07\\x0f\\x0b\\x0b\\t\\x0c\\x11\\x0f\\x12\\x12\\x11\\x0f\\x11\\x11\\x13\\x16\\x1c\\x17\\x13\\x14\\x1a\\x15\\x11\\x11\\x18!\\x18\\x1a\\x1d\\x1d\\x1f\\x1f\\x1f\\x13\\x17\"$\"\\x1e$\\x1c\\x1e\\x1f\\x1e\\xff\\xdb\\x00C\\x01\\x05\\x05\\x05\\x07\\x06\\x07\\x0e\\x08\\x08\\x0e\\x1e\\x14\\x11\\x14\\x1e\\x1e\\x1e\\x1e\\x1e\\x1e\\x1e\\x1e\\x1e\\x1e\\x1e\\x1e\\x1e\\x1e\\x1e\\x1e\\x1e\\x1e\\x1e\\x1e\\x1e\\x1e\\x1e\\x1e\\x1e\\x1e\\x1e\\x1e\\x1e\\x1e\\x1e\\x1e\\x1e\\x1e\\x1e\\x1e\\x1e\\x1e\\x1e\\x1e\\x1e\\x1e\\x1e\\x1e\\x1e\\x1e\\x1e\\x1e\\x1e\\x1e\\xff\\xc0\\x00\\x11\\x08\\x04\\xb0\\x06@\\x03\\x01\"\\x00\\x02\\x11\\x01\\x03\\x11\\x01\\xff\\xc4\\x00\\x1f\\x00\\x00\\x01\\x05\\x01\\x01\\x01\\x01\\x01\\x01\\x00\\x00\\x00\\x00\\x00\\x00\\x00\\x00\\x01\\x02\\x03\\x04\\x05\\x06\\x07\\x08\\t\\n'\n"
     ]
    }
   ],
   "source": [
    "f=open(\"exec.jpg\",\"rb\")\n",
    "for i in f.readlines():\n",
    "    print(i)\n",
    "    break"
   ]
  },
  {
   "cell_type": "code",
   "execution_count": 51,
   "metadata": {},
   "outputs": [
    {
     "ename": "UnicodeDecodeError",
     "evalue": "'utf-8' codec can't decode byte 0x80 in position 0: invalid start byte",
     "output_type": "error",
     "traceback": [
      "\u001b[0;31m---------------------------------------------------------------------------\u001b[0m",
      "\u001b[0;31mUnicodeDecodeError\u001b[0m                        Traceback (most recent call last)",
      "\u001b[0;32m<ipython-input-51-ae28cfd46417>\u001b[0m in \u001b[0;36m<module>\u001b[0;34m()\u001b[0m\n\u001b[1;32m      1\u001b[0m \u001b[0mf\u001b[0m\u001b[0;34m=\u001b[0m\u001b[0mopen\u001b[0m\u001b[0;34m(\u001b[0m\u001b[0;34m\"data.txt\"\u001b[0m\u001b[0;34m,\u001b[0m\u001b[0;34m\"r\"\u001b[0m\u001b[0;34m)\u001b[0m\u001b[0;34m\u001b[0m\u001b[0m\n\u001b[0;32m----> 2\u001b[0;31m \u001b[0mdata\u001b[0m\u001b[0;34m=\u001b[0m\u001b[0mf\u001b[0m\u001b[0;34m.\u001b[0m\u001b[0mread\u001b[0m\u001b[0;34m(\u001b[0m\u001b[0;34m)\u001b[0m\u001b[0;34m\u001b[0m\u001b[0m\n\u001b[0m\u001b[1;32m      3\u001b[0m \u001b[0mprint\u001b[0m\u001b[0;34m(\u001b[0m\u001b[0mdata\u001b[0m\u001b[0;34m)\u001b[0m\u001b[0;34m\u001b[0m\u001b[0m\n",
      "\u001b[0;32m~/anaconda3/lib/python3.7/codecs.py\u001b[0m in \u001b[0;36mdecode\u001b[0;34m(self, input, final)\u001b[0m\n\u001b[1;32m    320\u001b[0m         \u001b[0;31m# decode input (taking the buffer into account)\u001b[0m\u001b[0;34m\u001b[0m\u001b[0;34m\u001b[0m\u001b[0m\n\u001b[1;32m    321\u001b[0m         \u001b[0mdata\u001b[0m \u001b[0;34m=\u001b[0m \u001b[0mself\u001b[0m\u001b[0;34m.\u001b[0m\u001b[0mbuffer\u001b[0m \u001b[0;34m+\u001b[0m \u001b[0minput\u001b[0m\u001b[0;34m\u001b[0m\u001b[0m\n\u001b[0;32m--> 322\u001b[0;31m         \u001b[0;34m(\u001b[0m\u001b[0mresult\u001b[0m\u001b[0;34m,\u001b[0m \u001b[0mconsumed\u001b[0m\u001b[0;34m)\u001b[0m \u001b[0;34m=\u001b[0m \u001b[0mself\u001b[0m\u001b[0;34m.\u001b[0m\u001b[0m_buffer_decode\u001b[0m\u001b[0;34m(\u001b[0m\u001b[0mdata\u001b[0m\u001b[0;34m,\u001b[0m \u001b[0mself\u001b[0m\u001b[0;34m.\u001b[0m\u001b[0merrors\u001b[0m\u001b[0;34m,\u001b[0m \u001b[0mfinal\u001b[0m\u001b[0;34m)\u001b[0m\u001b[0;34m\u001b[0m\u001b[0m\n\u001b[0m\u001b[1;32m    323\u001b[0m         \u001b[0;31m# keep undecoded input until the next call\u001b[0m\u001b[0;34m\u001b[0m\u001b[0;34m\u001b[0m\u001b[0m\n\u001b[1;32m    324\u001b[0m         \u001b[0mself\u001b[0m\u001b[0;34m.\u001b[0m\u001b[0mbuffer\u001b[0m \u001b[0;34m=\u001b[0m \u001b[0mdata\u001b[0m\u001b[0;34m[\u001b[0m\u001b[0mconsumed\u001b[0m\u001b[0;34m:\u001b[0m\u001b[0;34m]\u001b[0m\u001b[0;34m\u001b[0m\u001b[0m\n",
      "\u001b[0;31mUnicodeDecodeError\u001b[0m: 'utf-8' codec can't decode byte 0x80 in position 0: invalid start byte"
     ]
    }
   ],
   "source": [
    "f=open(\"data.txt\",\"r\")\n",
    "data=f.read()\n",
    "print(data)"
   ]
  },
  {
   "cell_type": "code",
   "execution_count": 54,
   "metadata": {},
   "outputs": [],
   "source": [
    "f=open(\"data.txt\",\"w\")\n",
    "for i in range(10):\n",
    "    f.write(\"line%s\\n\"%i)\n",
    "f.close()"
   ]
  },
  {
   "cell_type": "code",
   "execution_count": 55,
   "metadata": {},
   "outputs": [],
   "source": [
    "f=open(\"data.txt\",\"r\")\n",
    "data=f.read(10)"
   ]
  },
  {
   "cell_type": "code",
   "execution_count": 56,
   "metadata": {},
   "outputs": [
    {
     "data": {
      "text/plain": [
       "'1\\nline2\\nli'"
      ]
     },
     "execution_count": 56,
     "metadata": {},
     "output_type": "execute_result"
    }
   ],
   "source": [
    "f.read(10)"
   ]
  },
  {
   "cell_type": "code",
   "execution_count": 57,
   "metadata": {},
   "outputs": [
    {
     "data": {
      "text/plain": [
       "'ne3\\nline4\\nline5\\nline'"
      ]
     },
     "execution_count": 57,
     "metadata": {},
     "output_type": "execute_result"
    }
   ],
   "source": [
    "f.read(20)"
   ]
  },
  {
   "cell_type": "code",
   "execution_count": 58,
   "metadata": {},
   "outputs": [
    {
     "data": {
      "text/plain": [
       "'6\\nline7\\nline8\\nline9\\n'"
      ]
     },
     "execution_count": 58,
     "metadata": {},
     "output_type": "execute_result"
    }
   ],
   "source": [
    "f.read(30)"
   ]
  },
  {
   "cell_type": "code",
   "execution_count": 59,
   "metadata": {},
   "outputs": [
    {
     "data": {
      "text/plain": [
       "''"
      ]
     },
     "execution_count": 59,
     "metadata": {},
     "output_type": "execute_result"
    }
   ],
   "source": [
    "f.read(10)"
   ]
  },
  {
   "cell_type": "code",
   "execution_count": 60,
   "metadata": {},
   "outputs": [
    {
     "name": "stdout",
     "output_type": "stream",
     "text": [
      "line0\n",
      "line1\n",
      "line2\n",
      "li\n",
      "ne3\n",
      "line4\n",
      "line5\n",
      "line\n",
      "6\n",
      "line7\n",
      "line8\n",
      "line9\n",
      "\n",
      "\n"
     ]
    }
   ],
   "source": [
    "f=open(\"data.txt\",\"r\")\n",
    "while True:\n",
    "    data = f.read(20)\n",
    "    print(data)\n",
    "    if not data:\n",
    "        break"
   ]
  },
  {
   "cell_type": "code",
   "execution_count": 61,
   "metadata": {},
   "outputs": [
    {
     "name": "stdout",
     "output_type": "stream",
     "text": [
      "line0\n",
      "line1\n",
      "line2\n",
      "li\n",
      "ne3\n",
      "line4\n",
      "line5\n",
      "line\n",
      "6\n",
      "line7\n",
      "line8\n",
      "line9\n",
      "\n"
     ]
    }
   ],
   "source": [
    "f=open(\"data.txt\",\"r\")\n",
    "data = f.read(20)\n",
    "while data:\n",
    "    print(data)\n",
    "    data = f.read(20)"
   ]
  },
  {
   "cell_type": "code",
   "execution_count": 62,
   "metadata": {},
   "outputs": [
    {
     "data": {
      "text/plain": [
       "'line0\\n'"
      ]
     },
     "execution_count": 62,
     "metadata": {},
     "output_type": "execute_result"
    }
   ],
   "source": [
    "f=open(\"data.txt\",\"r\")\n",
    "f.readline()"
   ]
  },
  {
   "cell_type": "code",
   "execution_count": 64,
   "metadata": {},
   "outputs": [
    {
     "data": {
      "text/plain": [
       "'line1\\n'"
      ]
     },
     "execution_count": 64,
     "metadata": {},
     "output_type": "execute_result"
    }
   ],
   "source": [
    "f.readline()"
   ]
  },
  {
   "cell_type": "code",
   "execution_count": 65,
   "metadata": {},
   "outputs": [
    {
     "data": {
      "text/plain": [
       "'line2\\n'"
      ]
     },
     "execution_count": 65,
     "metadata": {},
     "output_type": "execute_result"
    }
   ],
   "source": [
    "f.readline()"
   ]
  },
  {
   "cell_type": "code",
   "execution_count": 66,
   "metadata": {},
   "outputs": [
    {
     "name": "stdout",
     "output_type": "stream",
     "text": [
      "line0\n",
      "\n",
      "line1\n",
      "\n",
      "line2\n",
      "\n",
      "line3\n",
      "\n",
      "line4\n",
      "\n",
      "line5\n",
      "\n",
      "line6\n",
      "\n",
      "line7\n",
      "\n",
      "line8\n",
      "\n",
      "line9\n",
      "\n"
     ]
    }
   ],
   "source": [
    "f=open(\"data.txt\",\"r\")\n",
    "data = f.readline()\n",
    "while data:\n",
    "    print(data)\n",
    "    data = f.readline()"
   ]
  },
  {
   "cell_type": "code",
   "execution_count": null,
   "metadata": {},
   "outputs": [],
   "source": [
    "#postgres database management system: it will ask you for password and port number\n",
    "#db browser for sqlite3"
   ]
  }
 ],
 "metadata": {
  "kernelspec": {
   "display_name": "Python 3",
   "language": "python",
   "name": "python3"
  },
  "language_info": {
   "codemirror_mode": {
    "name": "ipython",
    "version": 3
   },
   "file_extension": ".py",
   "mimetype": "text/x-python",
   "name": "python",
   "nbconvert_exporter": "python",
   "pygments_lexer": "ipython3",
   "version": "3.7.0"
  }
 },
 "nbformat": 4,
 "nbformat_minor": 2
}
