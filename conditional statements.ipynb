{
 "cells": [
  {
   "cell_type": "code",
   "execution_count": 1,
   "metadata": {},
   "outputs": [
    {
     "data": {
      "text/plain": [
       "40"
      ]
     },
     "execution_count": 1,
     "metadata": {},
     "output_type": "execute_result"
    }
   ],
   "source": [
    "max([10,20,30,40,5,6,7])"
   ]
  },
  {
   "cell_type": "code",
   "execution_count": 2,
   "metadata": {},
   "outputs": [
    {
     "ename": "TypeError",
     "evalue": "'>' not supported between instances of 'str' and 'int'",
     "output_type": "error",
     "traceback": [
      "\u001b[0;31m---------------------------------------------------------------------------\u001b[0m",
      "\u001b[0;31mTypeError\u001b[0m                                 Traceback (most recent call last)",
      "\u001b[0;32m<ipython-input-2-643900b653f3>\u001b[0m in \u001b[0;36m<module>\u001b[0;34m()\u001b[0m\n\u001b[0;32m----> 1\u001b[0;31m \u001b[0mmax\u001b[0m\u001b[0;34m(\u001b[0m\u001b[0;34m[\u001b[0m\u001b[0;36m10\u001b[0m\u001b[0;34m,\u001b[0m\u001b[0;36m20\u001b[0m\u001b[0;34m,\u001b[0m\u001b[0;36m30\u001b[0m\u001b[0;34m,\u001b[0m\u001b[0;36m40\u001b[0m\u001b[0;34m,\u001b[0m\u001b[0;36m5\u001b[0m\u001b[0;34m,\u001b[0m\u001b[0;36m6\u001b[0m\u001b[0;34m,\u001b[0m\u001b[0;36m7\u001b[0m\u001b[0;34m,\u001b[0m\u001b[0;34m\"python\"\u001b[0m\u001b[0;34m,\u001b[0m\u001b[0;36m1\u001b[0m\u001b[0;34m+\u001b[0m\u001b[0;36m2j\u001b[0m\u001b[0;34m,\u001b[0m\u001b[0;36m23.45\u001b[0m\u001b[0;34m]\u001b[0m\u001b[0;34m)\u001b[0m\u001b[0;34m\u001b[0m\u001b[0m\n\u001b[0m",
      "\u001b[0;31mTypeError\u001b[0m: '>' not supported between instances of 'str' and 'int'"
     ]
    }
   ],
   "source": [
    "max([10,20,30,40,5,6,7,\"python\",1+2j,23.45])"
   ]
  },
  {
   "cell_type": "code",
   "execution_count": 3,
   "metadata": {},
   "outputs": [
    {
     "ename": "TypeError",
     "evalue": "'>' not supported between instances of 'int' and 'str'",
     "output_type": "error",
     "traceback": [
      "\u001b[0;31m---------------------------------------------------------------------------\u001b[0m",
      "\u001b[0;31mTypeError\u001b[0m                                 Traceback (most recent call last)",
      "\u001b[0;32m<ipython-input-3-82a005c20f9a>\u001b[0m in \u001b[0;36m<module>\u001b[0;34m()\u001b[0m\n\u001b[0;32m----> 1\u001b[0;31m \u001b[0;36m12\u001b[0m\u001b[0;34m>\u001b[0m\u001b[0;34m\"sdgfsd\"\u001b[0m\u001b[0;34m\u001b[0m\u001b[0m\n\u001b[0m",
      "\u001b[0;31mTypeError\u001b[0m: '>' not supported between instances of 'int' and 'str'"
     ]
    }
   ],
   "source": [
    "12>\"sdgfsd\""
   ]
  },
  {
   "cell_type": "code",
   "execution_count": 4,
   "metadata": {},
   "outputs": [
    {
     "ename": "TypeError",
     "evalue": "'>' not supported between instances of 'complex' and 'int'",
     "output_type": "error",
     "traceback": [
      "\u001b[0;31m---------------------------------------------------------------------------\u001b[0m",
      "\u001b[0;31mTypeError\u001b[0m                                 Traceback (most recent call last)",
      "\u001b[0;32m<ipython-input-4-a2aa53ef2369>\u001b[0m in \u001b[0;36m<module>\u001b[0;34m()\u001b[0m\n\u001b[0;32m----> 1\u001b[0;31m \u001b[0mmax\u001b[0m\u001b[0;34m(\u001b[0m\u001b[0;34m[\u001b[0m\u001b[0;36m10\u001b[0m\u001b[0;34m,\u001b[0m\u001b[0;36m20\u001b[0m\u001b[0;34m,\u001b[0m\u001b[0;36m30\u001b[0m\u001b[0;34m,\u001b[0m\u001b[0;36m40\u001b[0m\u001b[0;34m,\u001b[0m\u001b[0;36m5\u001b[0m\u001b[0;34m,\u001b[0m\u001b[0;36m6\u001b[0m\u001b[0;34m,\u001b[0m\u001b[0;36m7\u001b[0m\u001b[0;34m,\u001b[0m\u001b[0;36m1\u001b[0m\u001b[0;34m+\u001b[0m\u001b[0;36m2j\u001b[0m\u001b[0;34m,\u001b[0m\u001b[0;36m23.45\u001b[0m\u001b[0;34m]\u001b[0m\u001b[0;34m)\u001b[0m\u001b[0;34m\u001b[0m\u001b[0m\n\u001b[0m",
      "\u001b[0;31mTypeError\u001b[0m: '>' not supported between instances of 'complex' and 'int'"
     ]
    }
   ],
   "source": [
    "max([10,20,30,40,5,6,7,1+2j,23.45])"
   ]
  },
  {
   "cell_type": "code",
   "execution_count": 5,
   "metadata": {},
   "outputs": [
    {
     "data": {
      "text/plain": [
       "40"
      ]
     },
     "execution_count": 5,
     "metadata": {},
     "output_type": "execute_result"
    }
   ],
   "source": [
    "max([10,20,30,40,5,6,7,23.45])"
   ]
  },
  {
   "cell_type": "code",
   "execution_count": 6,
   "metadata": {},
   "outputs": [
    {
     "data": {
      "text/plain": [
       "False"
      ]
     },
     "execution_count": 6,
     "metadata": {},
     "output_type": "execute_result"
    }
   ],
   "source": [
    "10>20"
   ]
  },
  {
   "cell_type": "code",
   "execution_count": 7,
   "metadata": {},
   "outputs": [
    {
     "data": {
      "text/plain": [
       "False"
      ]
     },
     "execution_count": 7,
     "metadata": {},
     "output_type": "execute_result"
    }
   ],
   "source": [
    "10>20 and 20<30"
   ]
  },
  {
   "cell_type": "code",
   "execution_count": 8,
   "metadata": {},
   "outputs": [
    {
     "data": {
      "text/plain": [
       "True"
      ]
     },
     "execution_count": 8,
     "metadata": {},
     "output_type": "execute_result"
    }
   ],
   "source": [
    "10>20 or 20<30"
   ]
  },
  {
   "cell_type": "code",
   "execution_count": 9,
   "metadata": {},
   "outputs": [
    {
     "ename": "SyntaxError",
     "evalue": "invalid syntax (<ipython-input-9-a3e26a2eff4b>, line 1)",
     "output_type": "error",
     "traceback": [
      "\u001b[0;36m  File \u001b[0;32m\"<ipython-input-9-a3e26a2eff4b>\"\u001b[0;36m, line \u001b[0;32m1\u001b[0m\n\u001b[0;31m    10>20 xor 20<30\u001b[0m\n\u001b[0m            ^\u001b[0m\n\u001b[0;31mSyntaxError\u001b[0m\u001b[0;31m:\u001b[0m invalid syntax\n"
     ]
    }
   ],
   "source": [
    "10>20 xor 20<30"
   ]
  },
  {
   "cell_type": "code",
   "execution_count": 10,
   "metadata": {},
   "outputs": [
    {
     "data": {
      "text/plain": [
       "False"
      ]
     },
     "execution_count": 10,
     "metadata": {},
     "output_type": "execute_result"
    }
   ],
   "source": [
    "10>20 != 20<30 # its works as XOR"
   ]
  },
  {
   "cell_type": "code",
   "execution_count": 11,
   "metadata": {},
   "outputs": [
    {
     "data": {
      "text/plain": [
       "12"
      ]
     },
     "execution_count": 11,
     "metadata": {},
     "output_type": "execute_result"
    }
   ],
   "source": [
    "f=12.34\n",
    "int(f)"
   ]
  },
  {
   "cell_type": "code",
   "execution_count": 12,
   "metadata": {},
   "outputs": [
    {
     "data": {
      "text/plain": [
       "True"
      ]
     },
     "execution_count": 12,
     "metadata": {},
     "output_type": "execute_result"
    }
   ],
   "source": [
    "a=10\n",
    "bool(a)"
   ]
  },
  {
   "cell_type": "code",
   "execution_count": 13,
   "metadata": {},
   "outputs": [
    {
     "data": {
      "text/plain": [
       "False"
      ]
     },
     "execution_count": 13,
     "metadata": {},
     "output_type": "execute_result"
    }
   ],
   "source": [
    "bool(0)"
   ]
  },
  {
   "cell_type": "code",
   "execution_count": 14,
   "metadata": {},
   "outputs": [
    {
     "data": {
      "text/plain": [
       "True"
      ]
     },
     "execution_count": 14,
     "metadata": {},
     "output_type": "execute_result"
    }
   ],
   "source": [
    "bool(1)"
   ]
  },
  {
   "cell_type": "code",
   "execution_count": 15,
   "metadata": {},
   "outputs": [
    {
     "data": {
      "text/plain": [
       "True"
      ]
     },
     "execution_count": 15,
     "metadata": {},
     "output_type": "execute_result"
    }
   ],
   "source": [
    "bool(-20)"
   ]
  },
  {
   "cell_type": "code",
   "execution_count": 16,
   "metadata": {},
   "outputs": [
    {
     "data": {
      "text/plain": [
       "True"
      ]
     },
     "execution_count": 16,
     "metadata": {},
     "output_type": "execute_result"
    }
   ],
   "source": [
    "bool(20)"
   ]
  },
  {
   "cell_type": "code",
   "execution_count": 17,
   "metadata": {},
   "outputs": [
    {
     "data": {
      "text/plain": [
       "True"
      ]
     },
     "execution_count": 17,
     "metadata": {},
     "output_type": "execute_result"
    }
   ],
   "source": [
    "bool(\"python\")"
   ]
  },
  {
   "cell_type": "code",
   "execution_count": 18,
   "metadata": {},
   "outputs": [
    {
     "data": {
      "text/plain": [
       "False"
      ]
     },
     "execution_count": 18,
     "metadata": {},
     "output_type": "execute_result"
    }
   ],
   "source": [
    "bool(\"\")"
   ]
  },
  {
   "cell_type": "code",
   "execution_count": 19,
   "metadata": {},
   "outputs": [
    {
     "data": {
      "text/plain": [
       "True"
      ]
     },
     "execution_count": 19,
     "metadata": {},
     "output_type": "execute_result"
    }
   ],
   "source": [
    "bool([1,2,3,4])"
   ]
  },
  {
   "cell_type": "code",
   "execution_count": 20,
   "metadata": {},
   "outputs": [
    {
     "data": {
      "text/plain": [
       "False"
      ]
     },
     "execution_count": 20,
     "metadata": {},
     "output_type": "execute_result"
    }
   ],
   "source": [
    "bool([])"
   ]
  },
  {
   "cell_type": "code",
   "execution_count": 21,
   "metadata": {},
   "outputs": [
    {
     "data": {
      "text/plain": [
       "True"
      ]
     },
     "execution_count": 21,
     "metadata": {},
     "output_type": "execute_result"
    }
   ],
   "source": [
    "bool((1,2,3,4))"
   ]
  },
  {
   "cell_type": "code",
   "execution_count": 22,
   "metadata": {},
   "outputs": [
    {
     "data": {
      "text/plain": [
       "False"
      ]
     },
     "execution_count": 22,
     "metadata": {},
     "output_type": "execute_result"
    }
   ],
   "source": [
    "bool(())"
   ]
  },
  {
   "cell_type": "code",
   "execution_count": 23,
   "metadata": {},
   "outputs": [
    {
     "data": {
      "text/plain": [
       "False"
      ]
     },
     "execution_count": 23,
     "metadata": {},
     "output_type": "execute_result"
    }
   ],
   "source": [
    "bool({})"
   ]
  },
  {
   "cell_type": "code",
   "execution_count": 24,
   "metadata": {},
   "outputs": [
    {
     "data": {
      "text/plain": [
       "True"
      ]
     },
     "execution_count": 24,
     "metadata": {},
     "output_type": "execute_result"
    }
   ],
   "source": [
    "bool({1:2,3:4})"
   ]
  },
  {
   "cell_type": "code",
   "execution_count": 25,
   "metadata": {},
   "outputs": [
    {
     "data": {
      "text/plain": [
       "False"
      ]
     },
     "execution_count": 25,
     "metadata": {},
     "output_type": "execute_result"
    }
   ],
   "source": [
    "bool(0)"
   ]
  },
  {
   "cell_type": "code",
   "execution_count": 26,
   "metadata": {},
   "outputs": [
    {
     "data": {
      "text/plain": [
       "True"
      ]
     },
     "execution_count": 26,
     "metadata": {},
     "output_type": "execute_result"
    }
   ],
   "source": [
    "bool(1)"
   ]
  },
  {
   "cell_type": "code",
   "execution_count": 27,
   "metadata": {},
   "outputs": [
    {
     "data": {
      "text/plain": [
       "False"
      ]
     },
     "execution_count": 27,
     "metadata": {},
     "output_type": "execute_result"
    }
   ],
   "source": [
    "bool(0.000)"
   ]
  },
  {
   "cell_type": "code",
   "execution_count": 28,
   "metadata": {},
   "outputs": [
    {
     "data": {
      "text/plain": [
       "True"
      ]
     },
     "execution_count": 28,
     "metadata": {},
     "output_type": "execute_result"
    }
   ],
   "source": [
    "bool(0.00000001)"
   ]
  },
  {
   "cell_type": "code",
   "execution_count": 29,
   "metadata": {},
   "outputs": [
    {
     "data": {
      "text/plain": [
       "True"
      ]
     },
     "execution_count": 29,
     "metadata": {},
     "output_type": "execute_result"
    }
   ],
   "source": [
    "bool(\"0\")"
   ]
  },
  {
   "cell_type": "code",
   "execution_count": 30,
   "metadata": {},
   "outputs": [
    {
     "data": {
      "text/plain": [
       "True"
      ]
     },
     "execution_count": 30,
     "metadata": {},
     "output_type": "execute_result"
    }
   ],
   "source": [
    "bool([0])"
   ]
  },
  {
   "cell_type": "code",
   "execution_count": 31,
   "metadata": {},
   "outputs": [
    {
     "name": "stdout",
     "output_type": "stream",
     "text": [
      "hello\n",
      "hi\n"
     ]
    }
   ],
   "source": [
    "print(\"hello\")\n",
    "print(\"hi\")"
   ]
  },
  {
   "cell_type": "code",
   "execution_count": 32,
   "metadata": {},
   "outputs": [
    {
     "name": "stdout",
     "output_type": "stream",
     "text": [
      "hello\n",
      "hi\n"
     ]
    }
   ],
   "source": [
    "a=1000\n",
    "b=2000\n",
    "c=300\n",
    "print(\"hello\")\n",
    "print(\"hi\")"
   ]
  },
  {
   "cell_type": "code",
   "execution_count": 33,
   "metadata": {},
   "outputs": [
    {
     "name": "stdout",
     "output_type": "stream",
     "text": [
      "a is big\n",
      "b is big\n"
     ]
    }
   ],
   "source": [
    "a=10\n",
    "b=20\n",
    "print(\"a is big\")\n",
    "print(\"b is big\")"
   ]
  },
  {
   "cell_type": "code",
   "execution_count": 34,
   "metadata": {},
   "outputs": [
    {
     "name": "stdout",
     "output_type": "stream",
     "text": [
      "welocome\n",
      "a is big\n",
      "b is big\n",
      "thank you!!\n"
     ]
    }
   ],
   "source": [
    "print(\"welocome\")\n",
    "a=10\n",
    "b=20\n",
    "if True:\n",
    "    print(\"a is big\")\n",
    "print(\"b is big\")\n",
    "print(\"thank you!!\")"
   ]
  },
  {
   "cell_type": "code",
   "execution_count": 35,
   "metadata": {},
   "outputs": [
    {
     "name": "stdout",
     "output_type": "stream",
     "text": [
      "welocome\n",
      "b is big\n",
      "thank you!!\n"
     ]
    }
   ],
   "source": [
    "print(\"welocome\")\n",
    "a=10\n",
    "b=20\n",
    "if False:\n",
    "    print(\"a is big\")\n",
    "print(\"b is big\")\n",
    "print(\"thank you!!\")"
   ]
  },
  {
   "cell_type": "code",
   "execution_count": 36,
   "metadata": {},
   "outputs": [
    {
     "name": "stdout",
     "output_type": "stream",
     "text": [
      "welocome\n",
      "b is big\n",
      "thank you!!\n"
     ]
    }
   ],
   "source": [
    "print(\"welocome\")\n",
    "a=10\n",
    "b=20\n",
    "if False:\n",
    "    print(\"a is big\")\n",
    "else:\n",
    "    print(\"b is big\")\n",
    "print(\"thank you!!\")"
   ]
  },
  {
   "cell_type": "code",
   "execution_count": 37,
   "metadata": {},
   "outputs": [
    {
     "name": "stdout",
     "output_type": "stream",
     "text": [
      "welocome\n",
      "a is big\n",
      "thank you!!\n"
     ]
    }
   ],
   "source": [
    "print(\"welocome\")\n",
    "a=10\n",
    "b=20\n",
    "if True:\n",
    "    print(\"a is big\")\n",
    "else:\n",
    "    print(\"b is big\")\n",
    "print(\"thank you!!\")"
   ]
  },
  {
   "cell_type": "code",
   "execution_count": 38,
   "metadata": {},
   "outputs": [
    {
     "name": "stdout",
     "output_type": "stream",
     "text": [
      "welocome\n",
      "a is big\n",
      "thank you!!\n"
     ]
    }
   ],
   "source": [
    "print(\"welocome\")\n",
    "a=10\n",
    "b=20\n",
    "if True:\n",
    "    print(\"a is big\")\n",
    "else:\n",
    "    print(\"b is big\")\n",
    "print(\"thank you!!\")"
   ]
  },
  {
   "cell_type": "code",
   "execution_count": 39,
   "metadata": {},
   "outputs": [
    {
     "name": "stdout",
     "output_type": "stream",
     "text": [
      "welocome\n",
      "b is big\n",
      "thank you!!\n"
     ]
    }
   ],
   "source": [
    "print(\"welocome\")\n",
    "a=10\n",
    "b=20\n",
    "if a>b:\n",
    "    print(\"a is big\")\n",
    "else:\n",
    "    print(\"b is big\")\n",
    "print(\"thank you!!\")"
   ]
  },
  {
   "cell_type": "code",
   "execution_count": 40,
   "metadata": {},
   "outputs": [
    {
     "name": "stdout",
     "output_type": "stream",
     "text": [
      "welocome\n",
      "a is big\n",
      "thank you!!\n"
     ]
    }
   ],
   "source": [
    "print(\"welocome\")\n",
    "a=100\n",
    "b=20\n",
    "if a>b:\n",
    "    print(\"a is big\")\n",
    "else:\n",
    "    print(\"b is big\")\n",
    "print(\"thank you!!\")"
   ]
  },
  {
   "cell_type": "code",
   "execution_count": 41,
   "metadata": {},
   "outputs": [
    {
     "name": "stdout",
     "output_type": "stream",
     "text": [
      "welocome\n",
      "b is big\n",
      "thank you!!\n"
     ]
    }
   ],
   "source": [
    "print(\"welocome\")\n",
    "a=100\n",
    "b=20\n",
    "if a<b:\n",
    "    print(\"a is big\")\n",
    "else:\n",
    "    print(\"b is big\")\n",
    "print(\"thank you!!\")"
   ]
  },
  {
   "cell_type": "code",
   "execution_count": 43,
   "metadata": {},
   "outputs": [
    {
     "name": "stdout",
     "output_type": "stream",
     "text": [
      "welocome\n",
      "enter a value:20\n",
      "enter b value:30\n",
      "b is big\n",
      "thank you!!\n"
     ]
    }
   ],
   "source": [
    "print(\"welocome\")\n",
    "a=input(\"enter a value:\")\n",
    "b=input(\"enter b value:\")\n",
    "#a=float(a)\n",
    "#b=float(b)\n",
    "if a>b:\n",
    "    print(\"a is big\")\n",
    "else:\n",
    "    print(\"b is big\")\n",
    "print(\"thank you!!\")"
   ]
  },
  {
   "cell_type": "code",
   "execution_count": 44,
   "metadata": {},
   "outputs": [
    {
     "name": "stdout",
     "output_type": "stream",
     "text": [
      "welocome\n",
      "enter a value:20\n",
      "enter b value:6\n",
      "b is big\n",
      "thank you!!\n"
     ]
    }
   ],
   "source": [
    "print(\"welocome\")\n",
    "a=input(\"enter a value:\")\n",
    "b=input(\"enter b value:\")\n",
    "#a=float(a)\n",
    "#b=float(b)\n",
    "if a>b:\n",
    "    print(\"a is big\")\n",
    "else:\n",
    "    print(\"b is big\")\n",
    "print(\"thank you!!\")"
   ]
  },
  {
   "cell_type": "code",
   "execution_count": 45,
   "metadata": {},
   "outputs": [
    {
     "data": {
      "text/plain": [
       "False"
      ]
     },
     "execution_count": 45,
     "metadata": {},
     "output_type": "execute_result"
    }
   ],
   "source": [
    "\"20\">\"6\""
   ]
  },
  {
   "cell_type": "code",
   "execution_count": 46,
   "metadata": {},
   "outputs": [
    {
     "name": "stdout",
     "output_type": "stream",
     "text": [
      "welocome\n",
      "enter a value:23\n",
      "enter b value:6\n",
      "a is big\n",
      "thank you!!\n"
     ]
    }
   ],
   "source": [
    "print(\"welocome\")\n",
    "a=input(\"enter a value:\")\n",
    "b=input(\"enter b value:\")\n",
    "a=float(a)\n",
    "b=float(b)\n",
    "if a>b:\n",
    "    print(\"a is big\")\n",
    "else:\n",
    "    print(\"b is big\")\n",
    "print(\"thank you!!\")"
   ]
  },
  {
   "cell_type": "code",
   "execution_count": 47,
   "metadata": {},
   "outputs": [],
   "source": [
    "#WAP take a number from the user and decide whether it is positive or negative"
   ]
  },
  {
   "cell_type": "code",
   "execution_count": 48,
   "metadata": {},
   "outputs": [
    {
     "name": "stdout",
     "output_type": "stream",
     "text": [
      "welocome\n",
      "enter a value:12\n",
      "enter b value:34\n",
      "else block started\n",
      "b is big\n",
      "else block ended\n",
      "thank you!!\n"
     ]
    }
   ],
   "source": [
    "print(\"welocome\")\n",
    "a=input(\"enter a value:\")\n",
    "b=input(\"enter b value:\")\n",
    "a=float(a)\n",
    "b=float(b)\n",
    "if a>b:\n",
    "    print(\"if block started\")\n",
    "    print(\"a is big\")\n",
    "    print(\"if block ended\")\n",
    "else:\n",
    "    print(\"else block started\")\n",
    "    print(\"b is big\")\n",
    "    print(\"else block ended\")\n",
    "print(\"thank you!!\")"
   ]
  },
  {
   "cell_type": "code",
   "execution_count": 49,
   "metadata": {},
   "outputs": [
    {
     "name": "stdout",
     "output_type": "stream",
     "text": [
      "welocome\n",
      "enter a value:12\n",
      "if block started\n",
      "it's a +ve number\n",
      "if block ended\n",
      "thank you!!\n"
     ]
    }
   ],
   "source": [
    "print(\"welocome\")\n",
    "a=input(\"enter a value:\")\n",
    "a=float(a)\n",
    "if a>0:\n",
    "    print(\"if block started\")\n",
    "    print(\"it's a +ve number\")\n",
    "    print(\"if block ended\")\n",
    "else:\n",
    "    print(\"else block started\")\n",
    "    print(\"it's a negative number\")\n",
    "    print(\"else block ended\")\n",
    "print(\"thank you!!\")"
   ]
  },
  {
   "cell_type": "code",
   "execution_count": 50,
   "metadata": {},
   "outputs": [
    {
     "name": "stdout",
     "output_type": "stream",
     "text": [
      "welocome\n",
      "enter a value:-12\n",
      "else block started\n",
      "it's a negative number\n",
      "else block ended\n",
      "thank you!!\n"
     ]
    }
   ],
   "source": [
    "print(\"welocome\")\n",
    "a=input(\"enter a value:\")\n",
    "a=float(a)\n",
    "if a>0:\n",
    "    print(\"if block started\")\n",
    "    print(\"it's a +ve number\")\n",
    "    print(\"if block ended\")\n",
    "else:\n",
    "    print(\"else block started\")\n",
    "    print(\"it's a negative number\")\n",
    "    print(\"else block ended\")\n",
    "print(\"thank you!!\")"
   ]
  },
  {
   "cell_type": "code",
   "execution_count": 51,
   "metadata": {},
   "outputs": [
    {
     "ename": "IndentationError",
     "evalue": "unexpected indent (<ipython-input-51-9c2c9b701334>, line 6)",
     "output_type": "error",
     "traceback": [
      "\u001b[0;36m  File \u001b[0;32m\"<ipython-input-51-9c2c9b701334>\"\u001b[0;36m, line \u001b[0;32m6\u001b[0m\n\u001b[0;31m    print(\"it's a +ve number\")\u001b[0m\n\u001b[0m    ^\u001b[0m\n\u001b[0;31mIndentationError\u001b[0m\u001b[0;31m:\u001b[0m unexpected indent\n"
     ]
    }
   ],
   "source": [
    "print(\"welocome\")\n",
    "a=input(\"enter a value:\")\n",
    "a=float(a)\n",
    "if a>0:\n",
    "  print(\"if block started\")\n",
    "    print(\"it's a +ve number\")\n",
    "    print(\"if block ended\")\n",
    "else:\n",
    "    print(\"else block started\")\n",
    "    print(\"it's a negative number\")\n",
    "    print(\"else block ended\")\n",
    "print(\"thank you!!\")"
   ]
  },
  {
   "cell_type": "code",
   "execution_count": 52,
   "metadata": {},
   "outputs": [
    {
     "name": "stdout",
     "output_type": "stream",
     "text": [
      "welocome\n",
      "enter a value:12\n",
      "if block started\n",
      "it's a +ve number\n",
      "if block ended\n",
      "thank you!!\n"
     ]
    }
   ],
   "source": [
    "print(\"welocome\")\n",
    "a=input(\"enter a value:\")\n",
    "a=float(a)\n",
    "if a>0:\n",
    "  print(\"if block started\")\n",
    "  print(\"it's a +ve number\")\n",
    "  print(\"if block ended\")\n",
    "else:\n",
    "    print(\"else block started\")\n",
    "    print(\"it's a negative number\")\n",
    "    print(\"else block ended\")\n",
    "\n",
    "print(\"thank you!!\")"
   ]
  },
  {
   "cell_type": "code",
   "execution_count": 53,
   "metadata": {},
   "outputs": [
    {
     "name": "stdout",
     "output_type": "stream",
     "text": [
      "welocome\n",
      "enter a value:12\n",
      "if block started\n",
      "it's a +ve number\n",
      "if block ended\n",
      "thank you!!\n"
     ]
    }
   ],
   "source": [
    "print(\"welocome\")\n",
    "a=input(\"enter a value:\")\n",
    "a=float(a)\n",
    "if a>0:\n",
    "    print(\"if block started\")\n",
    "    print(\"it's a +ve number\")\n",
    "print(\"if block ended\")\n",
    "print(\"thank you!!\")"
   ]
  },
  {
   "cell_type": "code",
   "execution_count": 54,
   "metadata": {},
   "outputs": [
    {
     "name": "stdout",
     "output_type": "stream",
     "text": [
      "welocome\n",
      "enter a value:-12\n",
      "if block ended\n",
      "thank you!!\n"
     ]
    }
   ],
   "source": [
    "print(\"welocome\")\n",
    "a=input(\"enter a value:\")\n",
    "a=float(a)\n",
    "if a>0:\n",
    "    print(\"if block started\")\n",
    "    print(\"it's a +ve number\")\n",
    "print(\"if block ended\")\n",
    "print(\"thank you!!\")"
   ]
  },
  {
   "cell_type": "code",
   "execution_count": 55,
   "metadata": {},
   "outputs": [
    {
     "ename": "SyntaxError",
     "evalue": "invalid syntax (<ipython-input-55-db833f43dc8b>, line 8)",
     "output_type": "error",
     "traceback": [
      "\u001b[0;36m  File \u001b[0;32m\"<ipython-input-55-db833f43dc8b>\"\u001b[0;36m, line \u001b[0;32m8\u001b[0m\n\u001b[0;31m    else:\u001b[0m\n\u001b[0m       ^\u001b[0m\n\u001b[0;31mSyntaxError\u001b[0m\u001b[0;31m:\u001b[0m invalid syntax\n"
     ]
    }
   ],
   "source": [
    "print(\"welocome\")\n",
    "a=input(\"enter a value:\")\n",
    "a=float(a)\n",
    "if a>0:\n",
    "    print(\"if block started\")\n",
    "    print(\"it's a +ve number\")\n",
    "print(\"if block ended\")\n",
    "else:\n",
    "    print(\"else block started\")\n",
    "    print(\"it's a negative number\")\n",
    "    print(\"else block ended\")\n",
    "print(\"thank you!!\")"
   ]
  },
  {
   "cell_type": "code",
   "execution_count": 56,
   "metadata": {},
   "outputs": [
    {
     "data": {
      "text/plain": [
       "False"
      ]
     },
     "execution_count": 56,
     "metadata": {},
     "output_type": "execute_result"
    }
   ],
   "source": [
    "\"20\">\"6\""
   ]
  },
  {
   "cell_type": "code",
   "execution_count": 57,
   "metadata": {},
   "outputs": [
    {
     "data": {
      "text/plain": [
       "False"
      ]
     },
     "execution_count": 57,
     "metadata": {},
     "output_type": "execute_result"
    }
   ],
   "source": [
    "\"20\">\"6\""
   ]
  },
  {
   "cell_type": "code",
   "execution_count": null,
   "metadata": {},
   "outputs": [],
   "source": [
    "# wap to check given number is even or odd..\n",
    "a=input(\"enter a value:\")\n",
    "print(a)"
   ]
  },
  {
   "cell_type": "code",
   "execution_count": 59,
   "metadata": {},
   "outputs": [
    {
     "data": {
      "text/plain": [
       "5"
      ]
     },
     "execution_count": 59,
     "metadata": {},
     "output_type": "execute_result"
    }
   ],
   "source": [
    "10//2"
   ]
  },
  {
   "cell_type": "code",
   "execution_count": 60,
   "metadata": {},
   "outputs": [
    {
     "data": {
      "text/plain": [
       "0"
      ]
     },
     "execution_count": 60,
     "metadata": {},
     "output_type": "execute_result"
    }
   ],
   "source": [
    "10%2"
   ]
  },
  {
   "cell_type": "code",
   "execution_count": 61,
   "metadata": {},
   "outputs": [
    {
     "data": {
      "text/plain": [
       "1"
      ]
     },
     "execution_count": 61,
     "metadata": {},
     "output_type": "execute_result"
    }
   ],
   "source": [
    "11%2"
   ]
  },
  {
   "cell_type": "code",
   "execution_count": 62,
   "metadata": {},
   "outputs": [
    {
     "name": "stdout",
     "output_type": "stream",
     "text": [
      "welcome\n",
      "enter a value:12\n",
      "a ia EVEN\n",
      "Thanks \n"
     ]
    }
   ],
   "source": [
    "# wap to check given number is even or odd..\n",
    "print(\"welcome\")\n",
    "a=input(\"enter a value:\")\n",
    "a=float(a)\n",
    "if a%2==0:\n",
    "    print(\"a ia EVEN\")\n",
    "else:\n",
    "    print(\"a is odd\")\n",
    "print(\"Thanks \")"
   ]
  },
  {
   "cell_type": "code",
   "execution_count": 63,
   "metadata": {},
   "outputs": [
    {
     "name": "stdout",
     "output_type": "stream",
     "text": [
      "welcome\n",
      "enter a value:23\n",
      "a is odd\n",
      "Thanks \n"
     ]
    }
   ],
   "source": [
    "# wap to check given number is even or odd..\n",
    "print(\"welcome\")\n",
    "a=input(\"enter a value:\")\n",
    "a=float(a)\n",
    "if a%2==0:\n",
    "    print(\"a ia EVEN\")\n",
    "else:\n",
    "    print(\"a is odd\")\n",
    "print(\"Thanks \")"
   ]
  },
  {
   "cell_type": "code",
   "execution_count": 1,
   "metadata": {},
   "outputs": [
    {
     "name": "stdout",
     "output_type": "stream",
     "text": [
      "Select  a country which will win worldcup?\n",
      "\t1. India\n",
      "\t2. Australia \n",
      "\t3. England\n",
      "\t4. Nezeland\n"
     ]
    }
   ],
   "source": [
    "# action item..\n",
    "\"\"\"\n",
    "Select  a country which will win worldcup?\n",
    "    1. India\n",
    "    2. Australia\n",
    "    3. England\n",
    "    4. Newzeland\n",
    "Enter an option:\n",
    "\"\"\"\n",
    "print(\"Select  a country which will win worldcup?\\n\\t1. India\\n\\t2. Australia \\n\\t3. England\\n\\t4. Nezeland\")"
   ]
  },
  {
   "cell_type": "code",
   "execution_count": 2,
   "metadata": {},
   "outputs": [
    {
     "name": "stdout",
     "output_type": "stream",
     "text": [
      "Select  a country which will win worldcup?\n",
      "\t1. India\n",
      "\t2. Australia \n",
      "\t3. England\n",
      "\t4. Nezeland\n",
      "Enter an optin:1\n"
     ]
    }
   ],
   "source": [
    "# action item..\n",
    "\"\"\"\n",
    "Select  a country which will win worldcup?\n",
    "    1. India\n",
    "    2. Australia\n",
    "    3. England\n",
    "    4. Newzeland\n",
    "Enter an option:\n",
    "\"\"\"\n",
    "print(\"Select  a country which will win worldcup?\\n\\t1. India\\n\\t2. Australia \\n\\t3. England\\n\\t4. Nezeland\")\n",
    "opt = input(\"Enter an optin:\")"
   ]
  },
  {
   "cell_type": "code",
   "execution_count": 3,
   "metadata": {},
   "outputs": [
    {
     "data": {
      "text/plain": [
       "'1'"
      ]
     },
     "execution_count": 3,
     "metadata": {},
     "output_type": "execute_result"
    }
   ],
   "source": [
    "opt"
   ]
  },
  {
   "cell_type": "code",
   "execution_count": 4,
   "metadata": {},
   "outputs": [
    {
     "name": "stdout",
     "output_type": "stream",
     "text": [
      "Select  a country which will win worldcup?\n",
      "\t1. India\n",
      "\t2. Australia \n",
      "\t3. England\n",
      "\t4. Nezeland\n",
      "Enter an optin:1\n",
      "thanks..\n"
     ]
    }
   ],
   "source": [
    "# action item..\n",
    "\"\"\"\n",
    "Select  a country which will win worldcup?\n",
    "    1. India\n",
    "    2. Australia\n",
    "    3. England\n",
    "    4. Newzeland\n",
    "Enter an option:\n",
    "\"\"\"\n",
    "print(\"Select  a country which will win worldcup?\\n\\t1. India\\n\\t2. Australia \\n\\t3. England\\n\\t4. Nezeland\")\n",
    "opt = input(\"Enter an optin:\")\n",
    "if opt==1:\n",
    "    print(\"willing win India..\")\n",
    "if opt==2:\n",
    "    print(\"willing to win Australia\")\n",
    "if opt==3:\n",
    "    print(\"willing to win England\")\n",
    "if opt==4:\n",
    "    print(\"willing to win Newzeland..\")\n",
    "print(\"thanks..\")"
   ]
  },
  {
   "cell_type": "code",
   "execution_count": 5,
   "metadata": {},
   "outputs": [
    {
     "data": {
      "text/plain": [
       "False"
      ]
     },
     "execution_count": 5,
     "metadata": {},
     "output_type": "execute_result"
    }
   ],
   "source": [
    "\"1\" == 1"
   ]
  },
  {
   "cell_type": "code",
   "execution_count": 6,
   "metadata": {},
   "outputs": [
    {
     "name": "stdout",
     "output_type": "stream",
     "text": [
      "Select  a country which will win worldcup?\n",
      "\t1. India\n",
      "\t2. Australia \n",
      "\t3. England\n",
      "\t4. Nezeland\n",
      "Enter an optin:1\n",
      "willing win India..\n",
      "thanks..\n"
     ]
    }
   ],
   "source": [
    "# action item..\n",
    "\"\"\"\n",
    "Select  a country which will win worldcup?\n",
    "    1. India\n",
    "    2. Australia\n",
    "    3. England\n",
    "    4. Newzeland\n",
    "Enter an option:\n",
    "\"\"\"\n",
    "print(\"Select  a country which will win worldcup?\\n\\t1. India\\n\\t2. Australia \\n\\t3. England\\n\\t4. Nezeland\")\n",
    "opt = input(\"Enter an optin:\")\n",
    "if opt==\"1\":\n",
    "    print(\"willing win India..\")\n",
    "if opt==\"2\":\n",
    "    print(\"willing to win Australia\")\n",
    "if opt==\"3\":\n",
    "    print(\"willing to win England\")\n",
    "if opt==\"4\":\n",
    "    print(\"willing to win Newzeland..\")\n",
    "print(\"thanks..\")"
   ]
  },
  {
   "cell_type": "code",
   "execution_count": 7,
   "metadata": {},
   "outputs": [
    {
     "name": "stdout",
     "output_type": "stream",
     "text": [
      "Select  a country which will win worldcup?\n",
      "\t1. India\n",
      "\t2. Australia \n",
      "\t3. England\n",
      "\t4. Nezeland\n",
      "Enter an optin:2\n",
      "willing to win Australia\n",
      "thanks..\n"
     ]
    }
   ],
   "source": [
    "# action item..\n",
    "\"\"\"\n",
    "Select  a country which will win worldcup?\n",
    "    1. India\n",
    "    2. Australia\n",
    "    3. England\n",
    "    4. Newzeland\n",
    "Enter an option:\n",
    "\"\"\"\n",
    "print(\"Select  a country which will win worldcup?\\n\\t1. India\\n\\t2. Australia \\n\\t3. England\\n\\t4. Nezeland\")\n",
    "opt = input(\"Enter an optin:\")\n",
    "if opt==\"1\":\n",
    "    print(\"willing win India..\")\n",
    "if opt==\"2\":\n",
    "    print(\"willing to win Australia\")\n",
    "if opt==\"3\":\n",
    "    print(\"willing to win England\")\n",
    "if opt==\"4\":\n",
    "    print(\"willing to win Newzeland..\")\n",
    "print(\"thanks..\")"
   ]
  },
  {
   "cell_type": "code",
   "execution_count": 8,
   "metadata": {},
   "outputs": [
    {
     "name": "stdout",
     "output_type": "stream",
     "text": [
      "Select  a country which will win worldcup?\n",
      "\t1. India\n",
      "\t2. Australia \n",
      "\t3. England\n",
      "\t4. Nezeland\n",
      "Enter an optin:3\n",
      "willing to win England\n",
      "thanks..\n"
     ]
    }
   ],
   "source": [
    "# action item..\n",
    "\"\"\"\n",
    "Select  a country which will win worldcup?\n",
    "    1. India\n",
    "    2. Australia\n",
    "    3. England\n",
    "    4. Newzeland\n",
    "Enter an option:\n",
    "\"\"\"\n",
    "print(\"Select  a country which will win worldcup?\\n\\t1. India\\n\\t2. Australia \\n\\t3. England\\n\\t4. Nezeland\")\n",
    "opt = input(\"Enter an optin:\")\n",
    "if opt==\"1\":\n",
    "    print(\"willing win India..\")\n",
    "if opt==\"2\":\n",
    "    print(\"willing to win Australia\")\n",
    "if opt==\"3\":\n",
    "    print(\"willing to win England\")\n",
    "if opt==\"4\":\n",
    "    print(\"willing to win Newzeland..\")\n",
    "print(\"thanks..\")"
   ]
  },
  {
   "cell_type": "code",
   "execution_count": 9,
   "metadata": {},
   "outputs": [
    {
     "name": "stdout",
     "output_type": "stream",
     "text": [
      "Select  a country which will win worldcup?\n",
      "\t1. India\n",
      "\t2. Australia \n",
      "\t3. England\n",
      "\t4. Nezeland\n",
      "Enter an optin:4\n",
      "willing to win Newzeland..\n",
      "thanks..\n"
     ]
    }
   ],
   "source": [
    "# action item..\n",
    "\"\"\"\n",
    "Select  a country which will win worldcup?\n",
    "    1. India\n",
    "    2. Australia\n",
    "    3. England\n",
    "    4. Newzeland\n",
    "Enter an option:\n",
    "\"\"\"\n",
    "print(\"Select  a country which will win worldcup?\\n\\t1. India\\n\\t2. Australia \\n\\t3. England\\n\\t4. Nezeland\")\n",
    "opt = input(\"Enter an optin:\")\n",
    "if opt==\"1\":\n",
    "    print(\"willing win India..\")\n",
    "if opt==\"2\":\n",
    "    print(\"willing to win Australia\")\n",
    "if opt==\"3\":\n",
    "    print(\"willing to win England\")\n",
    "if opt==\"4\":\n",
    "    print(\"willing to win Newzeland..\")\n",
    "print(\"thanks..\")"
   ]
  },
  {
   "cell_type": "code",
   "execution_count": 10,
   "metadata": {},
   "outputs": [
    {
     "name": "stdout",
     "output_type": "stream",
     "text": [
      "Select  a country which will win worldcup?\n",
      "\t1. India\n",
      "\t2. Australia \n",
      "\t3. England\n",
      "\t4. Nezeland\n",
      "Enter an optin:5\n",
      "thanks..\n"
     ]
    }
   ],
   "source": [
    "# action item..\n",
    "\"\"\"\n",
    "Select  a country which will win worldcup?\n",
    "    1. India\n",
    "    2. Australia\n",
    "    3. England\n",
    "    4. Newzeland\n",
    "Enter an option:\n",
    "\"\"\"\n",
    "print(\"Select  a country which will win worldcup?\\n\\t1. India\\n\\t2. Australia \\n\\t3. England\\n\\t4. Nezeland\")\n",
    "opt = input(\"Enter an optin:\")\n",
    "if opt==\"1\":\n",
    "    print(\"willing win India..\")\n",
    "if opt==\"2\":\n",
    "    print(\"willing to win Australia\")\n",
    "if opt==\"3\":\n",
    "    print(\"willing to win England\")\n",
    "if opt==\"4\":\n",
    "    print(\"willing to win Newzeland..\")\n",
    "print(\"thanks..\")"
   ]
  },
  {
   "cell_type": "code",
   "execution_count": 11,
   "metadata": {},
   "outputs": [
    {
     "name": "stdout",
     "output_type": "stream",
     "text": [
      "Select  a country which will win worldcup?\n",
      "\t1. India\n",
      "\t2. Australia \n",
      "\t3. England\n",
      "\t4. Nezeland\n",
      "Enter an optin:5\n",
      "wrong option\n",
      "thanks..\n"
     ]
    }
   ],
   "source": [
    "# action item..\n",
    "\"\"\"\n",
    "Select  a country which will win worldcup?\n",
    "    1. India\n",
    "    2. Australia\n",
    "    3. England\n",
    "    4. Newzeland\n",
    "Enter an option:\n",
    "\"\"\"\n",
    "print(\"Select  a country which will win worldcup?\\n\\t1. India\\n\\t2. Australia \\n\\t3. England\\n\\t4. Nezeland\")\n",
    "opt = input(\"Enter an optin:\")\n",
    "if opt==\"1\":\n",
    "    print(\"willing win India..\")\n",
    "if opt==\"2\":\n",
    "    print(\"willing to win Australia\")\n",
    "if opt==\"3\":\n",
    "    print(\"willing to win England\")\n",
    "if opt==\"4\":\n",
    "    print(\"willing to win Newzeland..\")\n",
    "else:\n",
    "    print(\"wrong option\")\n",
    "print(\"thanks..\")"
   ]
  },
  {
   "cell_type": "code",
   "execution_count": 12,
   "metadata": {},
   "outputs": [
    {
     "name": "stdout",
     "output_type": "stream",
     "text": [
      "Select  a country which will win worldcup?\n",
      "\t1. India\n",
      "\t2. Australia \n",
      "\t3. England\n",
      "\t4. Nezeland\n",
      "Enter an optin:4\n",
      "willing to win Newzeland..\n",
      "thanks..\n"
     ]
    }
   ],
   "source": [
    "# action item..\n",
    "\"\"\"\n",
    "Select  a country which will win worldcup?\n",
    "    1. India\n",
    "    2. Australia\n",
    "    3. England\n",
    "    4. Newzeland\n",
    "Enter an option:\n",
    "\"\"\"\n",
    "print(\"Select  a country which will win worldcup?\\n\\t1. India\\n\\t2. Australia \\n\\t3. England\\n\\t4. Nezeland\")\n",
    "opt = input(\"Enter an optin:\")\n",
    "if opt==\"1\":\n",
    "    print(\"willing win India..\")\n",
    "if opt==\"2\":\n",
    "    print(\"willing to win Australia\")\n",
    "if opt==\"3\":\n",
    "    print(\"willing to win England\")\n",
    "if opt==\"4\":\n",
    "    print(\"willing to win Newzeland..\")\n",
    "else:\n",
    "    print(\"wrong option\")\n",
    "print(\"thanks..\")"
   ]
  },
  {
   "cell_type": "code",
   "execution_count": 13,
   "metadata": {},
   "outputs": [
    {
     "name": "stdout",
     "output_type": "stream",
     "text": [
      "Select  a country which will win worldcup?\n",
      "\t1. India\n",
      "\t2. Australia \n",
      "\t3. England\n",
      "\t4. Nezeland\n",
      "Enter an optin:3\n",
      "willing to win England\n",
      "wrong option\n",
      "thanks..\n"
     ]
    }
   ],
   "source": [
    "# action item..\n",
    "\"\"\"\n",
    "Select  a country which will win worldcup?\n",
    "    1. India\n",
    "    2. Australia\n",
    "    3. England\n",
    "    4. Newzeland\n",
    "Enter an option:\n",
    "\"\"\"\n",
    "print(\"Select  a country which will win worldcup?\\n\\t1. India\\n\\t2. Australia \\n\\t3. England\\n\\t4. Nezeland\")\n",
    "opt = input(\"Enter an optin:\")\n",
    "if opt==\"1\":\n",
    "    print(\"willing win India..\")\n",
    "if opt==\"2\":\n",
    "    print(\"willing to win Australia\")\n",
    "if opt==\"3\":\n",
    "    print(\"willing to win England\")\n",
    "if opt==\"4\":\n",
    "    print(\"willing to win Newzeland..\")\n",
    "else:\n",
    "    print(\"wrong option\")\n",
    "print(\"thanks..\")"
   ]
  },
  {
   "cell_type": "code",
   "execution_count": 14,
   "metadata": {},
   "outputs": [
    {
     "data": {
      "text/plain": [
       "True"
      ]
     },
     "execution_count": 14,
     "metadata": {},
     "output_type": "execute_result"
    }
   ],
   "source": [
    "\"python\" in  \"python program\""
   ]
  },
  {
   "cell_type": "code",
   "execution_count": 15,
   "metadata": {},
   "outputs": [
    {
     "data": {
      "text/plain": [
       "True"
      ]
     },
     "execution_count": 15,
     "metadata": {},
     "output_type": "execute_result"
    }
   ],
   "source": [
    "1 in [1,2,3,4]"
   ]
  },
  {
   "cell_type": "code",
   "execution_count": 16,
   "metadata": {},
   "outputs": [
    {
     "data": {
      "text/plain": [
       "True"
      ]
     },
     "execution_count": 16,
     "metadata": {},
     "output_type": "execute_result"
    }
   ],
   "source": [
    "\"1\" in [\"1\",\"2\",\"3\",\"4\"]"
   ]
  },
  {
   "cell_type": "code",
   "execution_count": 17,
   "metadata": {},
   "outputs": [
    {
     "name": "stdout",
     "output_type": "stream",
     "text": [
      "Select  a country which will win worldcup?\n",
      "\t1. India\n",
      "\t2. Australia \n",
      "\t3. England\n",
      "\t4. Nezeland\n",
      "Enter an optin:1\n",
      "willing win India..\n",
      "thanks..\n"
     ]
    }
   ],
   "source": [
    "# action item..\n",
    "\"\"\"\n",
    "Select  a country which will win worldcup?\n",
    "    1. India\n",
    "    2. Australia\n",
    "    3. England\n",
    "    4. Newzeland\n",
    "Enter an option:\n",
    "\"\"\"\n",
    "print(\"Select  a country which will win worldcup?\\n\\t1. India\\n\\t2. Australia \\n\\t3. England\\n\\t4. Nezeland\")\n",
    "opt = input(\"Enter an optin:\")\n",
    "if opt in [\"1\",\"2\",\"3\",\"4\"]:\n",
    "    if opt==\"1\":\n",
    "        print(\"willing win India..\")\n",
    "    if opt==\"2\":\n",
    "        print(\"willing to win Australia\")\n",
    "    if opt==\"3\":\n",
    "        print(\"willing to win England\")\n",
    "    if opt==\"4\":\n",
    "        print(\"willing to win Newzeland..\")\n",
    "else:\n",
    "    print(\"wrong option\")\n",
    "print(\"thanks..\")"
   ]
  },
  {
   "cell_type": "code",
   "execution_count": 18,
   "metadata": {},
   "outputs": [
    {
     "name": "stdout",
     "output_type": "stream",
     "text": [
      "Select  a country which will win worldcup?\n",
      "\t1. India\n",
      "\t2. Australia \n",
      "\t3. England\n",
      "\t4. Nezeland\n",
      "Enter an optin:10\n",
      "wrong option\n",
      "thanks..\n"
     ]
    }
   ],
   "source": [
    "# action item..\n",
    "\"\"\"\n",
    "Select  a country which will win worldcup?\n",
    "    1. India\n",
    "    2. Australia\n",
    "    3. England\n",
    "    4. Newzeland\n",
    "Enter an option:\n",
    "\"\"\"\n",
    "print(\"Select  a country which will win worldcup?\\n\\t1. India\\n\\t2. Australia \\n\\t3. England\\n\\t4. Nezeland\")\n",
    "opt = input(\"Enter an optin:\")\n",
    "if opt in [\"1\",\"2\",\"3\",\"4\"]:\n",
    "    if opt==\"1\":\n",
    "        print(\"willing win India..\")\n",
    "    if opt==\"2\":\n",
    "        print(\"willing to win Australia\")\n",
    "    if opt==\"3\":\n",
    "        print(\"willing to win England\")\n",
    "    if opt==\"4\":\n",
    "        print(\"willing to win Newzeland..\")\n",
    "else:\n",
    "    print(\"wrong option\")\n",
    "print(\"thanks..\")"
   ]
  },
  {
   "cell_type": "code",
   "execution_count": 19,
   "metadata": {},
   "outputs": [
    {
     "name": "stdout",
     "output_type": "stream",
     "text": [
      "Select  a country which will win worldcup?\n",
      "\t1. India\n",
      "\t2. Australia \n",
      "\t3. England\n",
      "\t4. Nezeland\n",
      "Enter an optin:1\n",
      "willing win India..\n",
      "thanks..\n"
     ]
    }
   ],
   "source": [
    "# action item..\n",
    "\"\"\"\n",
    "Select  a country which will win worldcup?\n",
    "    1. India\n",
    "    2. Australia\n",
    "    3. England\n",
    "    4. Newzeland\n",
    "Enter an option:\n",
    "\"\"\"\n",
    "print(\"Select  a country which will win worldcup?\\n\\t1. India\\n\\t2. Australia \\n\\t3. England\\n\\t4. Nezeland\")\n",
    "opt = input(\"Enter an optin:\")\n",
    "if opt in [\"1\",\"2\",\"3\",\"4\"]:\n",
    "    if opt==\"1\":\n",
    "        print(\"willing win India..\")\n",
    "    if opt==\"2\":\n",
    "        print(\"willing to win Australia\")\n",
    "    if opt==\"3\":\n",
    "        print(\"willing to win England\")\n",
    "    if opt==\"4\":\n",
    "        print(\"willing to win Newzeland..\")\n",
    "else:\n",
    "    print(\"wrong option\")\n",
    "print(\"thanks..\")"
   ]
  },
  {
   "cell_type": "code",
   "execution_count": 20,
   "metadata": {},
   "outputs": [
    {
     "name": "stdout",
     "output_type": "stream",
     "text": [
      "Select  a country which will win worldcup?\n",
      "\t1. India\n",
      "\t2. Australia \n",
      "\t3. England\n",
      "\t4. Nezeland\n",
      "Enter an optin:2\n",
      "willing to win Australia\n",
      "thanks..\n"
     ]
    }
   ],
   "source": [
    "# action item..\n",
    "\"\"\"\n",
    "Select  a country which will win worldcup?\n",
    "    1. India\n",
    "    2. Australia\n",
    "    3. England\n",
    "    4. Newzeland\n",
    "Enter an option:\n",
    "\"\"\"\n",
    "print(\"Select  a country which will win worldcup?\\n\\t1. India\\n\\t2. Australia \\n\\t3. England\\n\\t4. Nezeland\")\n",
    "opt = input(\"Enter an optin:\")\n",
    "if opt in [\"1\",\"2\",\"3\",\"4\"]:\n",
    "    if opt==\"1\":\n",
    "        print(\"willing win India..\")\n",
    "    if opt==\"2\":\n",
    "        print(\"willing to win Australia\")\n",
    "    if opt==\"3\":\n",
    "        print(\"willing to win England\")\n",
    "    if opt==\"4\":\n",
    "        print(\"willing to win Newzeland..\")\n",
    "else:\n",
    "    print(\"wrong option\")\n",
    "print(\"thanks..\")"
   ]
  },
  {
   "cell_type": "code",
   "execution_count": 21,
   "metadata": {},
   "outputs": [
    {
     "name": "stdout",
     "output_type": "stream",
     "text": [
      "Select  a country which will win worldcup?\n",
      "\t1. India\n",
      "\t2. Australia \n",
      "\t3. England\n",
      "\t4. Nezeland\n",
      "Enter an optin:1\n",
      "willing win India..\n",
      "thanks..\n"
     ]
    }
   ],
   "source": [
    "# action item..\n",
    "\"\"\"\n",
    "Select  a country which will win worldcup?\n",
    "    1. India\n",
    "    2. Australia\n",
    "    3. England\n",
    "    4. Newzeland\n",
    "Enter an option:\n",
    "\"\"\"\n",
    "print(\"Select  a country which will win worldcup?\\n\\t1. India\\n\\t2. Australia \\n\\t3. England\\n\\t4. Nezeland\")\n",
    "opt = input(\"Enter an optin:\")\n",
    "if opt in [\"1\",\"2\",\"3\",\"4\"]:\n",
    "    if opt==\"1\":\n",
    "        print(\"willing win India..\")\n",
    "    elif opt==\"2\":\n",
    "        print(\"willing to win Australia\")\n",
    "    elif opt==\"3\":\n",
    "        print(\"willing to win England\")\n",
    "    elif opt==\"4\":\n",
    "        print(\"willing to win Newzeland..\")\n",
    "else:\n",
    "    print(\"wrong option\")\n",
    "print(\"thanks..\")"
   ]
  },
  {
   "cell_type": "code",
   "execution_count": 22,
   "metadata": {},
   "outputs": [
    {
     "name": "stdout",
     "output_type": "stream",
     "text": [
      "Select  a country which will win worldcup?\n",
      "\t1. India\n",
      "\t2. Australia \n",
      "\t3. England\n",
      "\t4. Nezeland\n",
      "Enter an optin:2\n",
      "willing to win Australia\n",
      "thanks..\n"
     ]
    }
   ],
   "source": [
    "# action item..\n",
    "\"\"\"\n",
    "Select  a country which will win worldcup?\n",
    "    1. India\n",
    "    2. Australia\n",
    "    3. England\n",
    "    4. Newzeland\n",
    "Enter an option:\n",
    "\"\"\"\n",
    "print(\"Select  a country which will win worldcup?\\n\\t1. India\\n\\t2. Australia \\n\\t3. England\\n\\t4. Nezeland\")\n",
    "opt = input(\"Enter an optin:\")\n",
    "if opt in [\"1\",\"2\",\"3\",\"4\"]:\n",
    "    if opt==\"1\":\n",
    "        print(\"willing win India..\")\n",
    "    elif opt==\"2\":\n",
    "        print(\"willing to win Australia\")\n",
    "    elif opt==\"3\":\n",
    "        print(\"willing to win England\")\n",
    "    elif opt==\"4\":\n",
    "        print(\"willing to win Newzeland..\")\n",
    "else:\n",
    "    print(\"wrong option\")\n",
    "print(\"thanks..\")"
   ]
  },
  {
   "cell_type": "code",
   "execution_count": 23,
   "metadata": {},
   "outputs": [
    {
     "name": "stdout",
     "output_type": "stream",
     "text": [
      "Select  a country which will win worldcup?\n",
      "\t1. India\n",
      "\t2. Australia \n",
      "\t3. England\n",
      "\t4. Nezeland\n",
      "Enter an optin:1\n",
      "willing win India..\n",
      "thanks..\n"
     ]
    }
   ],
   "source": [
    "# action item..\n",
    "\"\"\"\n",
    "Select  a country which will win worldcup?\n",
    "    1. India\n",
    "    2. Australia\n",
    "    3. England\n",
    "    4. Newzeland\n",
    "Enter an option:\n",
    "\"\"\"\n",
    "print(\"Select  a country which will win worldcup?\\n\\t1. India\\n\\t2. Australia \\n\\t3. England\\n\\t4. Nezeland\")\n",
    "opt = input(\"Enter an optin:\")\n",
    "if opt==\"1\":\n",
    "    print(\"willing win India..\")\n",
    "elif opt==\"2\":\n",
    "    print(\"willing to win Australia\")\n",
    "elif opt==\"3\":\n",
    "    print(\"willing to win England\")\n",
    "elif opt==\"4\":\n",
    "    print(\"willing to win Newzeland..\")\n",
    "else:\n",
    "    print(\"wrong option\")\n",
    "print(\"thanks..\")"
   ]
  },
  {
   "cell_type": "code",
   "execution_count": 25,
   "metadata": {},
   "outputs": [
    {
     "name": "stdout",
     "output_type": "stream",
     "text": [
      "Select  a country which will win worldcup?\n",
      "\t1. India\n",
      "\t2. Australia \n",
      "\t3. England\n",
      "\t4. Nezeland\n",
      "Enter an optin:3\n",
      "willing to win England\n",
      "thanks..\n"
     ]
    }
   ],
   "source": [
    "print(\"Select  a country which will win worldcup?\\n\\t1. India\\n\\t2. Australia \\n\\t3. England\\n\\t4. Nezeland\")\n",
    "opt = input(\"Enter an optin:\")\n",
    "if opt==\"1\":\n",
    "    print(\"willing win India..\")\n",
    "elif opt==\"2\":\n",
    "    print(\"willing to win Australia\")\n",
    "elif opt==\"3\":\n",
    "    print(\"willing to win England\")\n",
    "elif opt==\"4\":\n",
    "    print(\"willing to win Newzeland..\")\n",
    "else:\n",
    "    print(\"wrong option\")\n",
    "print(\"thanks..\")"
   ]
  },
  {
   "cell_type": "code",
   "execution_count": 26,
   "metadata": {},
   "outputs": [
    {
     "name": "stdout",
     "output_type": "stream",
     "text": [
      "enter num1:12\n",
      "enter num2:34\n",
      "enter operation:+\n",
      "46.0\n",
      "thanks\n"
     ]
    }
   ],
   "source": [
    "# number1, number2\n",
    "# operation: +, number1+number2, -, number1-number2\n",
    "# +,-,*,/,%\n",
    "num1 = input(\"enter num1:\")\n",
    "num2 = input(\"enter num2:\")\n",
    "num1=float(num1)\n",
    "num2=float(num2)\n",
    "oper = input(\"enter operation:\")\n",
    "if oper==\"+\":\n",
    "    print(num1+num2)\n",
    "elif oper==\"-\":\n",
    "    print(num1-num2)\n",
    "elif oper==\"*\":\n",
    "    print(num1*num2)\n",
    "elif oper==\"/\":\n",
    "    print(num1/num2)\n",
    "elif oper==\"%\":\n",
    "    print(num1%num2)\n",
    "else:\n",
    "    print(\"invalid operation\")\n",
    "print(\"thanks\")\n",
    "    "
   ]
  },
  {
   "cell_type": "code",
   "execution_count": 27,
   "metadata": {},
   "outputs": [
    {
     "name": "stdout",
     "output_type": "stream",
     "text": [
      "enter num1:12\n",
      "enter num2:34\n",
      "enter operation:@\n",
      "invalid operation\n",
      "thanks\n"
     ]
    }
   ],
   "source": [
    "# number1, number2\n",
    "# operation: +, number1+number2, -, number1-number2\n",
    "# +,-,*,/,%\n",
    "num1 = input(\"enter num1:\")\n",
    "num2 = input(\"enter num2:\")\n",
    "num1=float(num1)\n",
    "num2=float(num2)\n",
    "oper = input(\"enter operation:\")\n",
    "if oper==\"+\":\n",
    "    print(num1+num2)\n",
    "elif oper==\"-\":\n",
    "    print(num1-num2)\n",
    "elif oper==\"*\":\n",
    "    print(num1*num2)\n",
    "elif oper==\"/\":\n",
    "    print(num1/num2)\n",
    "elif oper==\"%\":\n",
    "    print(num1%num2)\n",
    "else:\n",
    "    print(\"invalid operation\")\n",
    "print(\"thanks\")\n",
    "    "
   ]
  },
  {
   "cell_type": "code",
   "execution_count": 30,
   "metadata": {},
   "outputs": [
    {
     "name": "stdout",
     "output_type": "stream",
     "text": [
      "enter bride age:12\n",
      "enter bridegroom age:34\n",
      "not eligible for marriage\n"
     ]
    }
   ],
   "source": [
    "b = input(\"enter bride age:\")\n",
    "bg = input(\"enter bridegroom age:\")\n",
    "b=float(b)\n",
    "bg=float(bg)\n",
    "if b>=18 and  bg>=21:\n",
    "    print(\"eligible for marriage\")\n",
    "else:\n",
    "    print(\"not eligible for marriage\")"
   ]
  },
  {
   "cell_type": "code",
   "execution_count": 31,
   "metadata": {},
   "outputs": [
    {
     "name": "stdout",
     "output_type": "stream",
     "text": [
      "enter bride age:21\n",
      "enter bridegroom age:34\n",
      "eligible for marriage\n"
     ]
    }
   ],
   "source": [
    "b = input(\"enter bride age:\")\n",
    "bg = input(\"enter bridegroom age:\")\n",
    "b=float(b)\n",
    "bg=float(bg)\n",
    "if b>=21 and  bg>=18:\n",
    "    print(\"eligible for marriage\")\n",
    "else:\n",
    "    print(\"not eligible for marriage\")"
   ]
  },
  {
   "cell_type": "code",
   "execution_count": 32,
   "metadata": {},
   "outputs": [
    {
     "name": "stdout",
     "output_type": "stream",
     "text": [
      "enter bride age:12\n",
      "enter bridegroom age:34\n",
      "not eligible for marriage\n"
     ]
    }
   ],
   "source": [
    "b = input(\"enter bride age:\")\n",
    "bg = input(\"enter bridegroom age:\")\n",
    "b=float(b)\n",
    "bg=float(bg)\n",
    "if (b<0 or bg<0) or (b>=150 or bg>=150):\n",
    "    print(\"invalid age entered\")\n",
    "elif b>=21 and  bg>=18:\n",
    "    print(\"eligible for marriage\")\n",
    "else:\n",
    "    print(\"not eligible for marriage\")"
   ]
  },
  {
   "cell_type": "code",
   "execution_count": 33,
   "metadata": {},
   "outputs": [
    {
     "name": "stdout",
     "output_type": "stream",
     "text": [
      "enter bride age:23\n",
      "enter bridegroom age:24\n",
      "eligible for marriage\n"
     ]
    }
   ],
   "source": [
    "b = input(\"enter bride age:\")\n",
    "bg = input(\"enter bridegroom age:\")\n",
    "b=float(b)\n",
    "bg=float(bg)\n",
    "if (b<0 or bg<0) or (b>=150 or bg>=150):\n",
    "    print(\"invalid age entered\")\n",
    "elif b>=21 and  bg>=18:\n",
    "    print(\"eligible for marriage\")\n",
    "else:\n",
    "    print(\"not eligible for marriage\")"
   ]
  },
  {
   "cell_type": "code",
   "execution_count": 34,
   "metadata": {},
   "outputs": [
    {
     "name": "stdout",
     "output_type": "stream",
     "text": [
      "enter bride age:-12\n",
      "enter bridegroom age:34\n",
      "invalid age entered\n"
     ]
    }
   ],
   "source": [
    "b = input(\"enter bride age:\")\n",
    "bg = input(\"enter bridegroom age:\")\n",
    "b=float(b)\n",
    "bg=float(bg)\n",
    "if (b<0 or bg<0) or (b>=150 or bg>=150):\n",
    "    print(\"invalid age entered\")\n",
    "elif b>=21 and  bg>=18:\n",
    "    print(\"eligible for marriage\")\n",
    "else:\n",
    "    print(\"not eligible for marriage\")"
   ]
  },
  {
   "cell_type": "code",
   "execution_count": 35,
   "metadata": {},
   "outputs": [
    {
     "name": "stdout",
     "output_type": "stream",
     "text": [
      "enter bride age:-12\n",
      "enter bridegroom age:-34\n",
      "invalid age entered\n"
     ]
    }
   ],
   "source": [
    "b = input(\"enter bride age:\")\n",
    "bg = input(\"enter bridegroom age:\")\n",
    "b=float(b)\n",
    "bg=float(bg)\n",
    "if (b<0 or bg<0) or (b>=150 or bg>=150):\n",
    "    print(\"invalid age entered\")\n",
    "elif b>=21 and  bg>=18:\n",
    "    print(\"eligible for marriage\")\n",
    "else:\n",
    "    print(\"not eligible for marriage\")"
   ]
  },
  {
   "cell_type": "code",
   "execution_count": 36,
   "metadata": {},
   "outputs": [
    {
     "name": "stdout",
     "output_type": "stream",
     "text": [
      "enter bride age:134\n",
      "enter bridegroom age:150\n",
      "invalid age entered\n"
     ]
    }
   ],
   "source": [
    "b = input(\"enter bride age:\")\n",
    "bg = input(\"enter bridegroom age:\")\n",
    "b=float(b)\n",
    "bg=float(bg)\n",
    "if (b<0 or bg<0) or (b>=150 or bg>=150):\n",
    "    print(\"invalid age entered\")\n",
    "elif b>=21 and  bg>=18:\n",
    "    print(\"eligible for marriage\")\n",
    "else:\n",
    "    print(\"not eligible for marriage\")"
   ]
  },
  {
   "cell_type": "code",
   "execution_count": 37,
   "metadata": {},
   "outputs": [
    {
     "name": "stdout",
     "output_type": "stream",
     "text": [
      "enter string:python\n"
     ]
    }
   ],
   "source": [
    "# if the user enters any string print length of the string.otherwise print an invalid string.\n",
    "s=input(\"enter string:\")"
   ]
  },
  {
   "cell_type": "code",
   "execution_count": 38,
   "metadata": {},
   "outputs": [
    {
     "name": "stdout",
     "output_type": "stream",
     "text": [
      "enter string:\n"
     ]
    }
   ],
   "source": [
    "# if the user enters any string print length of the string.otherwise print an invalid string.\n",
    "s=input(\"enter string:\")"
   ]
  },
  {
   "cell_type": "code",
   "execution_count": 39,
   "metadata": {},
   "outputs": [
    {
     "data": {
      "text/plain": [
       "6"
      ]
     },
     "execution_count": 39,
     "metadata": {},
     "output_type": "execute_result"
    }
   ],
   "source": [
    "len(\"python\")"
   ]
  },
  {
   "cell_type": "code",
   "execution_count": 40,
   "metadata": {},
   "outputs": [
    {
     "data": {
      "text/plain": [
       "0"
      ]
     },
     "execution_count": 40,
     "metadata": {},
     "output_type": "execute_result"
    }
   ],
   "source": [
    "len(\"\")"
   ]
  },
  {
   "cell_type": "code",
   "execution_count": 41,
   "metadata": {},
   "outputs": [
    {
     "name": "stdout",
     "output_type": "stream",
     "text": [
      "enter string:python\n",
      "6\n",
      "thanks\n"
     ]
    }
   ],
   "source": [
    "s=input(\"enter string:\")\n",
    "len_s = len(s)\n",
    "if len_s==0:\n",
    "    print(\"it's an invalid string\")\n",
    "else:\n",
    "    print(len_s)\n",
    "print(\"thanks\")"
   ]
  },
  {
   "cell_type": "code",
   "execution_count": 42,
   "metadata": {},
   "outputs": [
    {
     "name": "stdout",
     "output_type": "stream",
     "text": [
      "enter string:\n",
      "it's an invalid string\n",
      "thanks\n"
     ]
    }
   ],
   "source": [
    "s=input(\"enter string:\")\n",
    "len_s = len(s)\n",
    "if len_s==0:\n",
    "    print(\"it's an invalid string\")\n",
    "else:\n",
    "    print(len_s)\n",
    "print(\"thanks\")"
   ]
  },
  {
   "cell_type": "code",
   "execution_count": 43,
   "metadata": {},
   "outputs": [
    {
     "name": "stdout",
     "output_type": "stream",
     "text": [
      "enter string:python\n",
      "6\n",
      "thanks\n"
     ]
    }
   ],
   "source": [
    "s=input(\"enter string:\")\n",
    "if len(s)==0:\n",
    "    print(\"it's an invalid string\")\n",
    "else:\n",
    "    print(len(s))\n",
    "print(\"thanks\")"
   ]
  },
  {
   "cell_type": "code",
   "execution_count": 44,
   "metadata": {},
   "outputs": [
    {
     "data": {
      "text/plain": [
       "True"
      ]
     },
     "execution_count": 44,
     "metadata": {},
     "output_type": "execute_result"
    }
   ],
   "source": [
    "bool(\"python\")"
   ]
  },
  {
   "cell_type": "code",
   "execution_count": 45,
   "metadata": {},
   "outputs": [
    {
     "data": {
      "text/plain": [
       "False"
      ]
     },
     "execution_count": 45,
     "metadata": {},
     "output_type": "execute_result"
    }
   ],
   "source": [
    "bool(\"\")"
   ]
  },
  {
   "cell_type": "code",
   "execution_count": 46,
   "metadata": {},
   "outputs": [
    {
     "name": "stdout",
     "output_type": "stream",
     "text": [
      "enter string:pyth9on\n",
      "7\n",
      "thanks\n"
     ]
    }
   ],
   "source": [
    "s=input(\"enter string:\")\n",
    "if bool(s):\n",
    "    print(len(s))\n",
    "else:\n",
    "    print(\"it's an invalid string\")\n",
    "print(\"thanks\")"
   ]
  },
  {
   "cell_type": "code",
   "execution_count": 47,
   "metadata": {},
   "outputs": [
    {
     "name": "stdout",
     "output_type": "stream",
     "text": [
      "enter string:\n",
      "it's an invalid string\n",
      "thanks\n"
     ]
    }
   ],
   "source": [
    "s=input(\"enter string:\")\n",
    "if bool(s):\n",
    "    print(len(s))\n",
    "else:\n",
    "    print(\"it's an invalid string\")\n",
    "print(\"thanks\")"
   ]
  },
  {
   "cell_type": "code",
   "execution_count": 48,
   "metadata": {},
   "outputs": [
    {
     "name": "stdout",
     "output_type": "stream",
     "text": [
      "enter string:\n",
      "it's an invalid string\n",
      "thanks\n"
     ]
    }
   ],
   "source": [
    "s=input(\"enter string:\")\n",
    "if s:\n",
    "    print(len(s))\n",
    "else:\n",
    "    print(\"it's an invalid string\")\n",
    "print(\"thanks\")"
   ]
  },
  {
   "cell_type": "code",
   "execution_count": 49,
   "metadata": {},
   "outputs": [
    {
     "name": "stdout",
     "output_type": "stream",
     "text": [
      "enter string:python\n",
      "6\n",
      "thanks\n"
     ]
    }
   ],
   "source": [
    "s=input(\"enter string:\")\n",
    "if s:\n",
    "    print(len(s))\n",
    "else:\n",
    "    print(\"it's an invalid string\")\n",
    "print(\"thanks\")"
   ]
  },
  {
   "cell_type": "code",
   "execution_count": 50,
   "metadata": {},
   "outputs": [
    {
     "name": "stdout",
     "output_type": "stream",
     "text": [
      "enter string:python\n",
      "6\n",
      "thanks\n"
     ]
    }
   ],
   "source": [
    "s=input(\"enter string:\")\n",
    "res = len(s) if s else \"invalid string\"\n",
    "print(res)\n",
    "print(\"thanks\")"
   ]
  },
  {
   "cell_type": "code",
   "execution_count": 51,
   "metadata": {},
   "outputs": [
    {
     "name": "stdout",
     "output_type": "stream",
     "text": [
      "enter string:\n",
      "invalid string\n",
      "thanks\n"
     ]
    }
   ],
   "source": [
    "s=input(\"enter string:\")\n",
    "res = len(s) if s else \"invalid string\"\n",
    "print(res)\n",
    "print(\"thanks\")"
   ]
  },
  {
   "cell_type": "code",
   "execution_count": 52,
   "metadata": {},
   "outputs": [
    {
     "name": "stdout",
     "output_type": "stream",
     "text": [
      "enter string:python\n",
      "6\n",
      "thanks\n"
     ]
    }
   ],
   "source": [
    "s=input(\"enter string:\")\n",
    "print(len(s) if s else \"invalid string\")\n",
    "print(\"thanks\")"
   ]
  },
  {
   "cell_type": "code",
   "execution_count": 53,
   "metadata": {},
   "outputs": [
    {
     "name": "stdout",
     "output_type": "stream",
     "text": [
      "enter string:\n",
      "invalid string\n",
      "thanks\n"
     ]
    }
   ],
   "source": [
    "s=input(\"enter string:\")\n",
    "print(len(s) if s else \"invalid string\")\n",
    "print(\"thanks\")"
   ]
  },
  {
   "cell_type": "code",
   "execution_count": 54,
   "metadata": {},
   "outputs": [
    {
     "name": "stdout",
     "output_type": "stream",
     "text": [
      "enter string:\n",
      "invalid string\n",
      "thanks\n"
     ]
    }
   ],
   "source": [
    "s=input(\"enter string:\")\n",
    "print(len(s) or \"invalid string\")\n",
    "print(\"thanks\")"
   ]
  },
  {
   "cell_type": "code",
   "execution_count": 55,
   "metadata": {},
   "outputs": [
    {
     "name": "stdout",
     "output_type": "stream",
     "text": [
      "enter string:python\n",
      "6\n",
      "thanks\n"
     ]
    }
   ],
   "source": [
    "s=input(\"enter string:\")\n",
    "print(len(s) or \"invalid string\")\n",
    "print(\"thanks\")"
   ]
  },
  {
   "cell_type": "code",
   "execution_count": null,
   "metadata": {},
   "outputs": [],
   "source": []
  }
 ],
 "metadata": {
  "kernelspec": {
   "display_name": "Python 3",
   "language": "python",
   "name": "python3"
  },
  "language_info": {
   "codemirror_mode": {
    "name": "ipython",
    "version": 3
   },
   "file_extension": ".py",
   "mimetype": "text/x-python",
   "name": "python",
   "nbconvert_exporter": "python",
   "pygments_lexer": "ipython3",
   "version": "3.7.0"
  }
 },
 "nbformat": 4,
 "nbformat_minor": 2
}
