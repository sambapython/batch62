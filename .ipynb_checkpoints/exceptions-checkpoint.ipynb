{
 "cells": [
  {
   "cell_type": "code",
   "execution_count": 1,
   "metadata": {},
   "outputs": [
    {
     "ename": "ZeroDivisionError",
     "evalue": "division by zero",
     "output_type": "error",
     "traceback": [
      "\u001b[0;31m---------------------------------------------------------------------------\u001b[0m",
      "\u001b[0;31mZeroDivisionError\u001b[0m                         Traceback (most recent call last)",
      "\u001b[0;32m<ipython-input-1-2fc232d1511a>\u001b[0m in \u001b[0;36m<module>\u001b[0;34m()\u001b[0m\n\u001b[0;32m----> 1\u001b[0;31m \u001b[0mprint\u001b[0m\u001b[0;34m(\u001b[0m\u001b[0;36m1\u001b[0m\u001b[0;34m/\u001b[0m\u001b[0;36m0\u001b[0m\u001b[0;34m)\u001b[0m\u001b[0;34m\u001b[0m\u001b[0m\n\u001b[0m",
      "\u001b[0;31mZeroDivisionError\u001b[0m: division by zero"
     ]
    }
   ],
   "source": [
    "print(1/0)"
   ]
  },
  {
   "cell_type": "code",
   "execution_count": 2,
   "metadata": {},
   "outputs": [
    {
     "name": "stdout",
     "output_type": "stream",
     "text": [
      "hello\n"
     ]
    },
    {
     "ename": "ZeroDivisionError",
     "evalue": "division by zero",
     "output_type": "error",
     "traceback": [
      "\u001b[0;31m---------------------------------------------------------------------------\u001b[0m",
      "\u001b[0;31mZeroDivisionError\u001b[0m                         Traceback (most recent call last)",
      "\u001b[0;32m<ipython-input-2-74d26ac2bc8e>\u001b[0m in \u001b[0;36m<module>\u001b[0;34m()\u001b[0m\n\u001b[1;32m      1\u001b[0m \u001b[0mprint\u001b[0m\u001b[0;34m(\u001b[0m\u001b[0;34m\"hello\"\u001b[0m\u001b[0;34m)\u001b[0m\u001b[0;34m\u001b[0m\u001b[0m\n\u001b[0;32m----> 2\u001b[0;31m \u001b[0mprint\u001b[0m\u001b[0;34m(\u001b[0m\u001b[0;36m1\u001b[0m\u001b[0;34m/\u001b[0m\u001b[0;36m0\u001b[0m\u001b[0;34m)\u001b[0m\u001b[0;34m\u001b[0m\u001b[0m\n\u001b[0m\u001b[1;32m      3\u001b[0m \u001b[0mprint\u001b[0m\u001b[0;34m(\u001b[0m\u001b[0;34m\"hi\"\u001b[0m\u001b[0;34m)\u001b[0m\u001b[0;34m\u001b[0m\u001b[0m\n",
      "\u001b[0;31mZeroDivisionError\u001b[0m: division by zero"
     ]
    }
   ],
   "source": [
    "print(\"hello\")\n",
    "print(1/0)\n",
    "print(\"hi\")"
   ]
  },
  {
   "cell_type": "code",
   "execution_count": 3,
   "metadata": {},
   "outputs": [
    {
     "ename": "SyntaxError",
     "evalue": "EOL while scanning string literal (<ipython-input-3-710d5b87cf5a>, line 3)",
     "output_type": "error",
     "traceback": [
      "\u001b[0;36m  File \u001b[0;32m\"<ipython-input-3-710d5b87cf5a>\"\u001b[0;36m, line \u001b[0;32m3\u001b[0m\n\u001b[0;31m    print(\"hi)\u001b[0m\n\u001b[0m              ^\u001b[0m\n\u001b[0;31mSyntaxError\u001b[0m\u001b[0;31m:\u001b[0m EOL while scanning string literal\n"
     ]
    }
   ],
   "source": [
    "print(\"hello\")\n",
    "print(1/0)\n",
    "print(\"hi)"
   ]
  },
  {
   "cell_type": "code",
   "execution_count": 4,
   "metadata": {},
   "outputs": [
    {
     "name": "stdout",
     "output_type": "stream",
     "text": [
      "hello\n",
      "some issue\n",
      "main block\n"
     ]
    }
   ],
   "source": [
    "try:\n",
    "    print(\"hello\")\n",
    "    print(1/0)\n",
    "    print(\"hi\")\n",
    "except:\n",
    "    print(\"some issue\")\n",
    "print(\"main block\")"
   ]
  },
  {
   "cell_type": "code",
   "execution_count": 5,
   "metadata": {},
   "outputs": [
    {
     "name": "stdout",
     "output_type": "stream",
     "text": [
      "welcome\n",
      "Enter n1:12\n",
      "enter n2:6\n",
      "before conversion n1=12,n2=6\n",
      "after conversion n1=12,n2=6\n",
      "result= 2.0\n",
      "thanks\n"
     ]
    }
   ],
   "source": [
    "print(\"welcome\")\n",
    "n1=input(\"Enter n1:\")\n",
    "n2=input(\"enter n2:\")\n",
    "print(\"before conversion n1=%s,n2=%s\"%(n1,n2))\n",
    "n1=int(n1)\n",
    "n2=int(n2)\n",
    "print(\"after conversion n1=%s,n2=%s\"%(n1,n2))\n",
    "res=n1/n2\n",
    "print(\"result=\",res)\n",
    "print(\"thanks\")"
   ]
  },
  {
   "cell_type": "code",
   "execution_count": 6,
   "metadata": {},
   "outputs": [
    {
     "name": "stdout",
     "output_type": "stream",
     "text": [
      "welcome\n",
      "Enter n1:1.2\n",
      "enter n2:0.6\n",
      "before conversion n1=1.2,n2=0.6\n"
     ]
    },
    {
     "ename": "ValueError",
     "evalue": "invalid literal for int() with base 10: '1.2'",
     "output_type": "error",
     "traceback": [
      "\u001b[0;31m---------------------------------------------------------------------------\u001b[0m",
      "\u001b[0;31mValueError\u001b[0m                                Traceback (most recent call last)",
      "\u001b[0;32m<ipython-input-6-0f71cbcb9a66>\u001b[0m in \u001b[0;36m<module>\u001b[0;34m()\u001b[0m\n\u001b[1;32m      3\u001b[0m \u001b[0mn2\u001b[0m\u001b[0;34m=\u001b[0m\u001b[0minput\u001b[0m\u001b[0;34m(\u001b[0m\u001b[0;34m\"enter n2:\"\u001b[0m\u001b[0;34m)\u001b[0m\u001b[0;34m\u001b[0m\u001b[0m\n\u001b[1;32m      4\u001b[0m \u001b[0mprint\u001b[0m\u001b[0;34m(\u001b[0m\u001b[0;34m\"before conversion n1=%s,n2=%s\"\u001b[0m\u001b[0;34m%\u001b[0m\u001b[0;34m(\u001b[0m\u001b[0mn1\u001b[0m\u001b[0;34m,\u001b[0m\u001b[0mn2\u001b[0m\u001b[0;34m)\u001b[0m\u001b[0;34m)\u001b[0m\u001b[0;34m\u001b[0m\u001b[0m\n\u001b[0;32m----> 5\u001b[0;31m \u001b[0mn1\u001b[0m\u001b[0;34m=\u001b[0m\u001b[0mint\u001b[0m\u001b[0;34m(\u001b[0m\u001b[0mn1\u001b[0m\u001b[0;34m)\u001b[0m\u001b[0;34m\u001b[0m\u001b[0m\n\u001b[0m\u001b[1;32m      6\u001b[0m \u001b[0mn2\u001b[0m\u001b[0;34m=\u001b[0m\u001b[0mint\u001b[0m\u001b[0;34m(\u001b[0m\u001b[0mn2\u001b[0m\u001b[0;34m)\u001b[0m\u001b[0;34m\u001b[0m\u001b[0m\n\u001b[1;32m      7\u001b[0m \u001b[0mprint\u001b[0m\u001b[0;34m(\u001b[0m\u001b[0;34m\"after conversion n1=%s,n2=%s\"\u001b[0m\u001b[0;34m%\u001b[0m\u001b[0;34m(\u001b[0m\u001b[0mn1\u001b[0m\u001b[0;34m,\u001b[0m\u001b[0mn2\u001b[0m\u001b[0;34m)\u001b[0m\u001b[0;34m)\u001b[0m\u001b[0;34m\u001b[0m\u001b[0m\n",
      "\u001b[0;31mValueError\u001b[0m: invalid literal for int() with base 10: '1.2'"
     ]
    }
   ],
   "source": [
    "print(\"welcome\")\n",
    "n1=input(\"Enter n1:\")\n",
    "n2=input(\"enter n2:\")\n",
    "print(\"before conversion n1=%s,n2=%s\"%(n1,n2))\n",
    "n1=int(n1)\n",
    "n2=int(n2)\n",
    "print(\"after conversion n1=%s,n2=%s\"%(n1,n2))\n",
    "res=n1/n2\n",
    "print(\"result=\",res)\n",
    "print(\"thanks\")"
   ]
  },
  {
   "cell_type": "code",
   "execution_count": 7,
   "metadata": {},
   "outputs": [
    {
     "name": "stdout",
     "output_type": "stream",
     "text": [
      "welcome\n",
      "Enter n1:12\n",
      "enter n2:0\n",
      "before conversion n1=12,n2=0\n",
      "after conversion n1=12,n2=0\n"
     ]
    },
    {
     "ename": "ZeroDivisionError",
     "evalue": "division by zero",
     "output_type": "error",
     "traceback": [
      "\u001b[0;31m---------------------------------------------------------------------------\u001b[0m",
      "\u001b[0;31mZeroDivisionError\u001b[0m                         Traceback (most recent call last)",
      "\u001b[0;32m<ipython-input-7-0f71cbcb9a66>\u001b[0m in \u001b[0;36m<module>\u001b[0;34m()\u001b[0m\n\u001b[1;32m      6\u001b[0m \u001b[0mn2\u001b[0m\u001b[0;34m=\u001b[0m\u001b[0mint\u001b[0m\u001b[0;34m(\u001b[0m\u001b[0mn2\u001b[0m\u001b[0;34m)\u001b[0m\u001b[0;34m\u001b[0m\u001b[0m\n\u001b[1;32m      7\u001b[0m \u001b[0mprint\u001b[0m\u001b[0;34m(\u001b[0m\u001b[0;34m\"after conversion n1=%s,n2=%s\"\u001b[0m\u001b[0;34m%\u001b[0m\u001b[0;34m(\u001b[0m\u001b[0mn1\u001b[0m\u001b[0;34m,\u001b[0m\u001b[0mn2\u001b[0m\u001b[0;34m)\u001b[0m\u001b[0;34m)\u001b[0m\u001b[0;34m\u001b[0m\u001b[0m\n\u001b[0;32m----> 8\u001b[0;31m \u001b[0mres\u001b[0m\u001b[0;34m=\u001b[0m\u001b[0mn1\u001b[0m\u001b[0;34m/\u001b[0m\u001b[0mn2\u001b[0m\u001b[0;34m\u001b[0m\u001b[0m\n\u001b[0m\u001b[1;32m      9\u001b[0m \u001b[0mprint\u001b[0m\u001b[0;34m(\u001b[0m\u001b[0;34m\"result=\"\u001b[0m\u001b[0;34m,\u001b[0m\u001b[0mres\u001b[0m\u001b[0;34m)\u001b[0m\u001b[0;34m\u001b[0m\u001b[0m\n\u001b[1;32m     10\u001b[0m \u001b[0mprint\u001b[0m\u001b[0;34m(\u001b[0m\u001b[0;34m\"thanks\"\u001b[0m\u001b[0;34m)\u001b[0m\u001b[0;34m\u001b[0m\u001b[0m\n",
      "\u001b[0;31mZeroDivisionError\u001b[0m: division by zero"
     ]
    }
   ],
   "source": [
    "print(\"welcome\")\n",
    "n1=input(\"Enter n1:\")\n",
    "n2=input(\"enter n2:\")\n",
    "print(\"before conversion n1=%s,n2=%s\"%(n1,n2))\n",
    "n1=int(n1)\n",
    "n2=int(n2)\n",
    "print(\"after conversion n1=%s,n2=%s\"%(n1,n2))\n",
    "res=n1/n2\n",
    "print(\"result=\",res)\n",
    "print(\"thanks\")"
   ]
  },
  {
   "cell_type": "code",
   "execution_count": 8,
   "metadata": {},
   "outputs": [
    {
     "name": "stdout",
     "output_type": "stream",
     "text": [
      "welcome\n",
      "Enter n1:werw\n",
      "enter n2:werwe\n",
      "before conversion n1=werw,n2=werwe\n"
     ]
    },
    {
     "ename": "ValueError",
     "evalue": "invalid literal for int() with base 10: 'werw'",
     "output_type": "error",
     "traceback": [
      "\u001b[0;31m---------------------------------------------------------------------------\u001b[0m",
      "\u001b[0;31mValueError\u001b[0m                                Traceback (most recent call last)",
      "\u001b[0;32m<ipython-input-8-0f71cbcb9a66>\u001b[0m in \u001b[0;36m<module>\u001b[0;34m()\u001b[0m\n\u001b[1;32m      3\u001b[0m \u001b[0mn2\u001b[0m\u001b[0;34m=\u001b[0m\u001b[0minput\u001b[0m\u001b[0;34m(\u001b[0m\u001b[0;34m\"enter n2:\"\u001b[0m\u001b[0;34m)\u001b[0m\u001b[0;34m\u001b[0m\u001b[0m\n\u001b[1;32m      4\u001b[0m \u001b[0mprint\u001b[0m\u001b[0;34m(\u001b[0m\u001b[0;34m\"before conversion n1=%s,n2=%s\"\u001b[0m\u001b[0;34m%\u001b[0m\u001b[0;34m(\u001b[0m\u001b[0mn1\u001b[0m\u001b[0;34m,\u001b[0m\u001b[0mn2\u001b[0m\u001b[0;34m)\u001b[0m\u001b[0;34m)\u001b[0m\u001b[0;34m\u001b[0m\u001b[0m\n\u001b[0;32m----> 5\u001b[0;31m \u001b[0mn1\u001b[0m\u001b[0;34m=\u001b[0m\u001b[0mint\u001b[0m\u001b[0;34m(\u001b[0m\u001b[0mn1\u001b[0m\u001b[0;34m)\u001b[0m\u001b[0;34m\u001b[0m\u001b[0m\n\u001b[0m\u001b[1;32m      6\u001b[0m \u001b[0mn2\u001b[0m\u001b[0;34m=\u001b[0m\u001b[0mint\u001b[0m\u001b[0;34m(\u001b[0m\u001b[0mn2\u001b[0m\u001b[0;34m)\u001b[0m\u001b[0;34m\u001b[0m\u001b[0m\n\u001b[1;32m      7\u001b[0m \u001b[0mprint\u001b[0m\u001b[0;34m(\u001b[0m\u001b[0;34m\"after conversion n1=%s,n2=%s\"\u001b[0m\u001b[0;34m%\u001b[0m\u001b[0;34m(\u001b[0m\u001b[0mn1\u001b[0m\u001b[0;34m,\u001b[0m\u001b[0mn2\u001b[0m\u001b[0;34m)\u001b[0m\u001b[0;34m)\u001b[0m\u001b[0;34m\u001b[0m\u001b[0m\n",
      "\u001b[0;31mValueError\u001b[0m: invalid literal for int() with base 10: 'werw'"
     ]
    }
   ],
   "source": [
    "print(\"welcome\")\n",
    "n1=input(\"Enter n1:\")\n",
    "n2=input(\"enter n2:\")\n",
    "print(\"before conversion n1=%s,n2=%s\"%(n1,n2))\n",
    "n1=int(n1)\n",
    "n2=int(n2)\n",
    "print(\"after conversion n1=%s,n2=%s\"%(n1,n2))\n",
    "res=n1/n2\n",
    "print(\"result=\",res)\n",
    "print(\"thanks\")"
   ]
  },
  {
   "cell_type": "code",
   "execution_count": 9,
   "metadata": {},
   "outputs": [
    {
     "name": "stdout",
     "output_type": "stream",
     "text": [
      "welcome\n",
      "Enter n1:12\n",
      "enter n2:6\n",
      "before conversion n1=12,n2=6\n",
      "after conversion n1=12.0,n2=6.0\n",
      "result= 2.0\n",
      "thanks\n"
     ]
    }
   ],
   "source": [
    "print(\"welcome\")\n",
    "n1=input(\"Enter n1:\")\n",
    "n2=input(\"enter n2:\")\n",
    "print(\"before conversion n1=%s,n2=%s\"%(n1,n2))\n",
    "n1=float(n1)\n",
    "n2=float(n2)\n",
    "print(\"after conversion n1=%s,n2=%s\"%(n1,n2))\n",
    "res=n1/n2\n",
    "print(\"result=\",res)\n",
    "print(\"thanks\")"
   ]
  },
  {
   "cell_type": "code",
   "execution_count": 10,
   "metadata": {},
   "outputs": [
    {
     "name": "stdout",
     "output_type": "stream",
     "text": [
      "welcome\n",
      "Enter n1:1.2\n",
      "enter n2:0.6\n",
      "before conversion n1=1.2,n2=0.6\n",
      "after conversion n1=1.2,n2=0.6\n",
      "result= 2.0\n",
      "thanks\n"
     ]
    }
   ],
   "source": [
    "print(\"welcome\")\n",
    "n1=input(\"Enter n1:\")\n",
    "n2=input(\"enter n2:\")\n",
    "print(\"before conversion n1=%s,n2=%s\"%(n1,n2))\n",
    "n1=float(n1)\n",
    "n2=float(n2)\n",
    "print(\"after conversion n1=%s,n2=%s\"%(n1,n2))\n",
    "res=n1/n2\n",
    "print(\"result=\",res)\n",
    "print(\"thanks\")"
   ]
  },
  {
   "cell_type": "code",
   "execution_count": 12,
   "metadata": {},
   "outputs": [
    {
     "name": "stdout",
     "output_type": "stream",
     "text": [
      "welcome\n",
      "Enter n1:12\n",
      "enter n2:0\n",
      "before conversion n1=12,n2=0\n",
      "after conversion n1=12.0,n2=0.0\n"
     ]
    },
    {
     "ename": "ZeroDivisionError",
     "evalue": "float division by zero",
     "output_type": "error",
     "traceback": [
      "\u001b[0;31m---------------------------------------------------------------------------\u001b[0m",
      "\u001b[0;31mZeroDivisionError\u001b[0m                         Traceback (most recent call last)",
      "\u001b[0;32m<ipython-input-12-49fcf4d10b5f>\u001b[0m in \u001b[0;36m<module>\u001b[0;34m()\u001b[0m\n\u001b[1;32m      6\u001b[0m \u001b[0mn2\u001b[0m\u001b[0;34m=\u001b[0m\u001b[0mfloat\u001b[0m\u001b[0;34m(\u001b[0m\u001b[0mn2\u001b[0m\u001b[0;34m)\u001b[0m\u001b[0;34m\u001b[0m\u001b[0m\n\u001b[1;32m      7\u001b[0m \u001b[0mprint\u001b[0m\u001b[0;34m(\u001b[0m\u001b[0;34m\"after conversion n1=%s,n2=%s\"\u001b[0m\u001b[0;34m%\u001b[0m\u001b[0;34m(\u001b[0m\u001b[0mn1\u001b[0m\u001b[0;34m,\u001b[0m\u001b[0mn2\u001b[0m\u001b[0;34m)\u001b[0m\u001b[0;34m)\u001b[0m\u001b[0;34m\u001b[0m\u001b[0m\n\u001b[0;32m----> 8\u001b[0;31m \u001b[0mres\u001b[0m\u001b[0;34m=\u001b[0m\u001b[0mn1\u001b[0m\u001b[0;34m/\u001b[0m\u001b[0mn2\u001b[0m\u001b[0;34m\u001b[0m\u001b[0m\n\u001b[0m\u001b[1;32m      9\u001b[0m \u001b[0mprint\u001b[0m\u001b[0;34m(\u001b[0m\u001b[0;34m\"result=\"\u001b[0m\u001b[0;34m,\u001b[0m\u001b[0mres\u001b[0m\u001b[0;34m)\u001b[0m\u001b[0;34m\u001b[0m\u001b[0m\n\u001b[1;32m     10\u001b[0m \u001b[0mprint\u001b[0m\u001b[0;34m(\u001b[0m\u001b[0;34m\"thanks\"\u001b[0m\u001b[0;34m)\u001b[0m\u001b[0;34m\u001b[0m\u001b[0m\n",
      "\u001b[0;31mZeroDivisionError\u001b[0m: float division by zero"
     ]
    }
   ],
   "source": [
    "print(\"welcome\")\n",
    "n1=input(\"Enter n1:\")\n",
    "n2=input(\"enter n2:\")\n",
    "print(\"before conversion n1=%s,n2=%s\"%(n1,n2))\n",
    "n1=float(n1)\n",
    "n2=float(n2)\n",
    "print(\"after conversion n1=%s,n2=%s\"%(n1,n2))\n",
    "res=n1/n2\n",
    "print(\"result=\",res)\n",
    "print(\"thanks\")"
   ]
  },
  {
   "cell_type": "code",
   "execution_count": 13,
   "metadata": {},
   "outputs": [
    {
     "name": "stdout",
     "output_type": "stream",
     "text": [
      "Enter n1:12\n",
      "enter n2:6\n",
      "before conversion n1=12,n2=6\n",
      "after conversion n1=12.0,n2=6.0\n",
      "result= 2.0\n",
      "thanks\n",
      "main block continuous\n"
     ]
    }
   ],
   "source": [
    "try:\n",
    "    n1=input(\"Enter n1:\")\n",
    "    n2=input(\"enter n2:\")\n",
    "    print(\"before conversion n1=%s,n2=%s\"%(n1,n2))\n",
    "    n1=float(n1)\n",
    "    n2=float(n2)\n",
    "    print(\"after conversion n1=%s,n2=%s\"%(n1,n2))\n",
    "    res=n1/n2\n",
    "    print(\"result=\",res)\n",
    "    print(\"thanks\")\n",
    "except:\n",
    "    print(\"some issue..\")\n",
    "print(\"main block continuous\")"
   ]
  },
  {
   "cell_type": "code",
   "execution_count": 14,
   "metadata": {},
   "outputs": [
    {
     "name": "stdout",
     "output_type": "stream",
     "text": [
      "Enter n1:12\n",
      "enter n2:0\n",
      "before conversion n1=12,n2=0\n",
      "after conversion n1=12.0,n2=0.0\n",
      "some issue..\n",
      "main block continuous\n"
     ]
    }
   ],
   "source": [
    "try:\n",
    "    n1=input(\"Enter n1:\")\n",
    "    n2=input(\"enter n2:\")\n",
    "    print(\"before conversion n1=%s,n2=%s\"%(n1,n2))\n",
    "    n1=float(n1)\n",
    "    n2=float(n2)\n",
    "    print(\"after conversion n1=%s,n2=%s\"%(n1,n2))\n",
    "    res=n1/n2\n",
    "    print(\"result=\",res)\n",
    "    print(\"thanks\")\n",
    "except:\n",
    "    print(\"some issue..\")\n",
    "print(\"main block continuous\")"
   ]
  },
  {
   "cell_type": "code",
   "execution_count": 15,
   "metadata": {},
   "outputs": [
    {
     "name": "stdout",
     "output_type": "stream",
     "text": [
      "Enter n1:12\n",
      "enter n2:6\n",
      "before conversion n1=12,n2=6\n",
      "after conversion n1=12.0,n2=6.0\n",
      "result= 2.0\n",
      "main block continuous\n",
      "thanks\n"
     ]
    }
   ],
   "source": [
    "n1=input(\"Enter n1:\")\n",
    "n2=input(\"enter n2:\")\n",
    "print(\"before conversion n1=%s,n2=%s\"%(n1,n2))\n",
    "try:\n",
    "    n1=float(n1)\n",
    "    n2=float(n2)\n",
    "    print(\"after conversion n1=%s,n2=%s\"%(n1,n2))\n",
    "    res=n1/n2\n",
    "    print(\"result=\",res)\n",
    "except:\n",
    "    print(\"some issue..\")\n",
    "print(\"main block continuous\")\n",
    "print(\"thanks\")"
   ]
  },
  {
   "cell_type": "code",
   "execution_count": 16,
   "metadata": {},
   "outputs": [
    {
     "name": "stdout",
     "output_type": "stream",
     "text": [
      "Enter n1:12\n",
      "enter n2:0\n",
      "before conversion n1=12,n2=0\n",
      "after conversion n1=12.0,n2=0.0\n",
      "some issue..\n",
      "main block continuous\n",
      "thanks\n"
     ]
    }
   ],
   "source": [
    "n1=input(\"Enter n1:\")\n",
    "n2=input(\"enter n2:\")\n",
    "print(\"before conversion n1=%s,n2=%s\"%(n1,n2))\n",
    "try:\n",
    "    n1=float(n1)\n",
    "    n2=float(n2)\n",
    "    print(\"after conversion n1=%s,n2=%s\"%(n1,n2))\n",
    "    res=n1/n2\n",
    "    print(\"result=\",res)\n",
    "except:\n",
    "    print(\"some issue..\")\n",
    "print(\"main block continuous\")\n",
    "print(\"thanks\")"
   ]
  },
  {
   "cell_type": "code",
   "execution_count": 17,
   "metadata": {},
   "outputs": [
    {
     "name": "stdout",
     "output_type": "stream",
     "text": [
      "Enter n1:12\n",
      "enter n2:6\n",
      "before conversion n1=12,n2=6\n",
      "after conversion n1=12.0,n2=6.0\n",
      "result= 2.0\n",
      "main block continuous\n",
      "thanks\n"
     ]
    }
   ],
   "source": [
    "n1=input(\"Enter n1:\")\n",
    "n2=input(\"enter n2:\")\n",
    "print(\"before conversion n1=%s,n2=%s\"%(n1,n2))\n",
    "try:\n",
    "    n1=float(n1)\n",
    "    n2=float(n2)\n",
    "    print(\"after conversion n1=%s,n2=%s\"%(n1,n2))\n",
    "    res=n1/n2\n",
    "    print(\"result=\",res)\n",
    "except Exception as err:\n",
    "    print(\"ERROR:\",err)\n",
    "    print(\"some issue..\")\n",
    "print(\"main block continuous\")\n",
    "print(\"thanks\")"
   ]
  },
  {
   "cell_type": "code",
   "execution_count": 18,
   "metadata": {},
   "outputs": [
    {
     "name": "stdout",
     "output_type": "stream",
     "text": [
      "Enter n1:12\n",
      "enter n2:0\n",
      "before conversion n1=12,n2=0\n",
      "after conversion n1=12.0,n2=0.0\n",
      "ERROR: float division by zero\n",
      "some issue..\n",
      "main block continuous\n",
      "thanks\n"
     ]
    }
   ],
   "source": [
    "n1=input(\"Enter n1:\")\n",
    "n2=input(\"enter n2:\")\n",
    "print(\"before conversion n1=%s,n2=%s\"%(n1,n2))\n",
    "try:\n",
    "    n1=float(n1)\n",
    "    n2=float(n2)\n",
    "    print(\"after conversion n1=%s,n2=%s\"%(n1,n2))\n",
    "    res=n1/n2\n",
    "    print(\"result=\",res)\n",
    "except Exception as err:\n",
    "    print(\"ERROR:\",err)\n",
    "    print(\"some issue..\")\n",
    "print(\"main block continuous\")\n",
    "print(\"thanks\")"
   ]
  },
  {
   "cell_type": "code",
   "execution_count": 19,
   "metadata": {},
   "outputs": [
    {
     "name": "stdout",
     "output_type": "stream",
     "text": [
      "Enter n1:wer\n",
      "enter n2:23\n",
      "before conversion n1=wer,n2=23\n",
      "ERROR: could not convert string to float: 'wer'\n",
      "some issue..\n",
      "main block continuous\n",
      "thanks\n"
     ]
    }
   ],
   "source": [
    "n1=input(\"Enter n1:\")\n",
    "n2=input(\"enter n2:\")\n",
    "print(\"before conversion n1=%s,n2=%s\"%(n1,n2))\n",
    "try:\n",
    "    n1=float(n1)\n",
    "    n2=float(n2)\n",
    "    print(\"after conversion n1=%s,n2=%s\"%(n1,n2))\n",
    "    res=n1/n2\n",
    "    print(\"result=\",res)\n",
    "except Exception as err:\n",
    "    print(\"ERROR:\",err)\n",
    "    print(\"some issue..\")\n",
    "print(\"main block continuous\")\n",
    "print(\"thanks\")"
   ]
  },
  {
   "cell_type": "code",
   "execution_count": 20,
   "metadata": {},
   "outputs": [
    {
     "name": "stdout",
     "output_type": "stream",
     "text": [
      "Enter n1:12\n",
      "enter n2:6\n",
      "before conversion n1=12,n2=6\n",
      "after conversion n1=12.0,n2=6.0\n",
      "result= 2.0\n",
      "main block continuous\n",
      "thanks\n"
     ]
    }
   ],
   "source": [
    "n1=input(\"Enter n1:\")\n",
    "n2=input(\"enter n2:\")\n",
    "print(\"before conversion n1=%s,n2=%s\"%(n1,n2))\n",
    "try:\n",
    "    n1=float(n1)\n",
    "    n2=float(n2)\n",
    "    print(\"after conversion n1=%s,n2=%s\"%(n1,n2))\n",
    "    res=n1/n2\n",
    "    print(\"result=\",res)\n",
    "except ZeroDivisionError as err:\n",
    "    print(\"ERROR: expecting b!=0\")\n",
    "except ValueError as err:\n",
    "    print(\"ERROR: expecting only digits\")\n",
    "except Exception as err:\n",
    "    print(\"ERROR:\",err)\n",
    "    print(\"some issue..\")\n",
    "print(\"main block continuous\")\n",
    "print(\"thanks\")"
   ]
  },
  {
   "cell_type": "code",
   "execution_count": 21,
   "metadata": {},
   "outputs": [
    {
     "name": "stdout",
     "output_type": "stream",
     "text": [
      "Enter n1:12\n",
      "enter n2:0\n",
      "before conversion n1=12,n2=0\n",
      "after conversion n1=12.0,n2=0.0\n",
      "ERROR: expecting b!=0\n",
      "main block continuous\n",
      "thanks\n"
     ]
    }
   ],
   "source": [
    "n1=input(\"Enter n1:\")\n",
    "n2=input(\"enter n2:\")\n",
    "print(\"before conversion n1=%s,n2=%s\"%(n1,n2))\n",
    "try:\n",
    "    n1=float(n1)\n",
    "    n2=float(n2)\n",
    "    print(\"after conversion n1=%s,n2=%s\"%(n1,n2))\n",
    "    res=n1/n2\n",
    "    print(\"result=\",res)\n",
    "except ZeroDivisionError as err:\n",
    "    print(\"ERROR: expecting b!=0\")\n",
    "except ValueError as err:\n",
    "    print(\"ERROR: expecting only digits\")\n",
    "except Exception as err:\n",
    "    print(\"ERROR:\",err)\n",
    "    print(\"some issue..\")\n",
    "print(\"main block continuous\")\n",
    "print(\"thanks\")"
   ]
  },
  {
   "cell_type": "code",
   "execution_count": 22,
   "metadata": {},
   "outputs": [
    {
     "name": "stdout",
     "output_type": "stream",
     "text": [
      "Enter n1:werew\n",
      "enter n2:234\n",
      "before conversion n1=werew,n2=234\n",
      "ERROR: expecting only digits\n",
      "main block continuous\n",
      "thanks\n"
     ]
    }
   ],
   "source": [
    "n1=input(\"Enter n1:\")\n",
    "n2=input(\"enter n2:\")\n",
    "print(\"before conversion n1=%s,n2=%s\"%(n1,n2))\n",
    "try:\n",
    "    n1=float(n1)\n",
    "    n2=float(n2)\n",
    "    print(\"after conversion n1=%s,n2=%s\"%(n1,n2))\n",
    "    res=n1/n2\n",
    "    print(\"result=\",res)\n",
    "except ZeroDivisionError as err:\n",
    "    print(\"ERROR: expecting b!=0\")\n",
    "except ValueError as err:\n",
    "    print(\"ERROR: expecting only digits\")\n",
    "except Exception as err:\n",
    "    print(\"ERROR:\",err)\n",
    "    print(\"some issue..\")\n",
    "print(\"main block continuous\")\n",
    "print(\"thanks\")"
   ]
  },
  {
   "cell_type": "code",
   "execution_count": null,
   "metadata": {},
   "outputs": [],
   "source": []
  }
 ],
 "metadata": {
  "kernelspec": {
   "display_name": "Python 3",
   "language": "python",
   "name": "python3"
  },
  "language_info": {
   "codemirror_mode": {
    "name": "ipython",
    "version": 3
   },
   "file_extension": ".py",
   "mimetype": "text/x-python",
   "name": "python",
   "nbconvert_exporter": "python",
   "pygments_lexer": "ipython3",
   "version": "3.7.0"
  }
 },
 "nbformat": 4,
 "nbformat_minor": 2
}
