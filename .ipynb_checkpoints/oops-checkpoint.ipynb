{
 "cells": [
  {
   "cell_type": "code",
   "execution_count": 1,
   "metadata": {},
   "outputs": [
    {
     "name": "stdout",
     "output_type": "stream",
     "text": [
      "this is class..\n"
     ]
    }
   ],
   "source": [
    "def fun():\n",
    "    print(\"this is fun\")\n",
    "class Product:\n",
    "    print(\"this is class..\")"
   ]
  },
  {
   "cell_type": "code",
   "execution_count": 2,
   "metadata": {},
   "outputs": [
    {
     "name": "stdout",
     "output_type": "stream",
     "text": [
      "this is class..\n"
     ]
    }
   ],
   "source": [
    "def fun():\n",
    "    print(\"this is fun\")\n",
    "class Product:\n",
    "    print(\"this is class..\")\n",
    "    def get(x):\n",
    "        print(\"this is get in class Product\")\n"
   ]
  },
  {
   "cell_type": "code",
   "execution_count": 3,
   "metadata": {},
   "outputs": [
    {
     "name": "stdout",
     "output_type": "stream",
     "text": [
      "this is class..\n",
      "1000 2000\n"
     ]
    }
   ],
   "source": [
    "class Product:\n",
    "    print(\"this is class..\")\n",
    "    x=1000\n",
    "    y=2000\n",
    "    def get(a):\n",
    "        print(\"this is get in class Product\")\n",
    "    print(x,y)"
   ]
  },
  {
   "cell_type": "code",
   "execution_count": 4,
   "metadata": {},
   "outputs": [
    {
     "name": "stdout",
     "output_type": "stream",
     "text": [
      "this is class..\n"
     ]
    },
    {
     "ename": "NameError",
     "evalue": "name 'x' is not defined",
     "output_type": "error",
     "traceback": [
      "\u001b[0;31m---------------------------------------------------------------------------\u001b[0m",
      "\u001b[0;31mNameError\u001b[0m                                 Traceback (most recent call last)",
      "\u001b[0;32m<ipython-input-4-d7b6e783ab47>\u001b[0m in \u001b[0;36m<module>\u001b[0;34m()\u001b[0m\n\u001b[1;32m      5\u001b[0m     \u001b[0;32mdef\u001b[0m \u001b[0mget\u001b[0m\u001b[0;34m(\u001b[0m\u001b[0ma\u001b[0m\u001b[0;34m)\u001b[0m\u001b[0;34m:\u001b[0m\u001b[0;34m\u001b[0m\u001b[0m\n\u001b[1;32m      6\u001b[0m         \u001b[0mprint\u001b[0m\u001b[0;34m(\u001b[0m\u001b[0;34m\"this is get in class Product\"\u001b[0m\u001b[0;34m)\u001b[0m\u001b[0;34m\u001b[0m\u001b[0m\n\u001b[0;32m----> 7\u001b[0;31m \u001b[0mprint\u001b[0m\u001b[0;34m(\u001b[0m\u001b[0mx\u001b[0m\u001b[0;34m,\u001b[0m\u001b[0my\u001b[0m\u001b[0;34m)\u001b[0m\u001b[0;34m\u001b[0m\u001b[0m\n\u001b[0m",
      "\u001b[0;31mNameError\u001b[0m: name 'x' is not defined"
     ]
    }
   ],
   "source": [
    "class Product:\n",
    "    print(\"this is class..\")\n",
    "    x=1000\n",
    "    y=2000\n",
    "    def get(a):\n",
    "        print(\"this is get in class Product\")\n",
    "print(x,y)"
   ]
  },
  {
   "cell_type": "code",
   "execution_count": 5,
   "metadata": {},
   "outputs": [
    {
     "name": "stdout",
     "output_type": "stream",
     "text": [
      "this is class..\n",
      "1000 2000\n"
     ]
    }
   ],
   "source": [
    "class Product:\n",
    "    print(\"this is class..\")\n",
    "    x=1000\n",
    "    y=2000\n",
    "    def get(a):\n",
    "        print(\"this is get in class Product\")\n",
    "print(Product.x,Product.y)"
   ]
  },
  {
   "cell_type": "code",
   "execution_count": 6,
   "metadata": {},
   "outputs": [
    {
     "name": "stdout",
     "output_type": "stream",
     "text": [
      "this is class..\n",
      "1000 2000\n",
      "this is get in class Product\n"
     ]
    }
   ],
   "source": [
    "class Product:\n",
    "    print(\"this is class..\")\n",
    "    x=1000\n",
    "    y=2000\n",
    "    def get(a):\n",
    "        print(\"this is get in class Product\")\n",
    "print(Product.x,Product.y)\n",
    "Product.get(10)"
   ]
  },
  {
   "cell_type": "code",
   "execution_count": 7,
   "metadata": {},
   "outputs": [
    {
     "name": "stdout",
     "output_type": "stream",
     "text": [
      "this is product create method\n",
      "this is customer create method\n"
     ]
    }
   ],
   "source": [
    "class Product:\n",
    "    def create(a):\n",
    "        print(\"this is product create method\")\n",
    "class Customer:\n",
    "    def create(a):\n",
    "        print(\"this is customer create method\")\n",
    "Product.create(10)\n",
    "Customer.create(10)"
   ]
  },
  {
   "cell_type": "code",
   "execution_count": 10,
   "metadata": {},
   "outputs": [
    {
     "name": "stdout",
     "output_type": "stream",
     "text": [
      "a: <__main__.Product object at 0x7f6e48203e48>\n",
      "cost: 17000 name: minote7pro\n",
      "this is product create method\n",
      "a: <__main__.Product object at 0x7f6e48203da0>\n",
      "cost: 10000 name: samsunggalaxy\n",
      "this is product create method\n"
     ]
    }
   ],
   "source": [
    "class Product:\n",
    "    def create(a):\n",
    "        print(\"a:\",a)\n",
    "        print(\"cost:\",a.cost,\"name:\",a.name)\n",
    "        print(\"this is product create method\")\n",
    "class Customer:\n",
    "    def create(a):\n",
    "        print(a)\n",
    "        print(\"this is customer create method\")\n",
    "# name, cost-->product\n",
    "# name, address-->customer\n",
    "minote7pro = Product()# Product() is a data object, minote7pro is a reference of the data object\n",
    "minote7pro.name=\"minote7pro\"\n",
    "minote7pro.cost=17000\n",
    "samsunggalaxy  = Product()\n",
    "samsunggalaxy.name=\"samsunggalaxy\"\n",
    "samsunggalaxy.cost=10000\n",
    "Product.create(minote7pro)\n",
    "Product.create(samsunggalaxy)"
   ]
  },
  {
   "cell_type": "code",
   "execution_count": 11,
   "metadata": {},
   "outputs": [
    {
     "name": "stdout",
     "output_type": "stream",
     "text": [
      "cost: 17000 name: minote7pro\n",
      "insert data:\n",
      "cost: 10000 name: samsunggalaxy\n",
      "insert data:\n"
     ]
    }
   ],
   "source": [
    "class Product:\n",
    "    def create(a):\n",
    "        print(\"cost:\",a.cost,\"name:\",a.name)\n",
    "        print(\"insert data:\")\n",
    "class Customer:\n",
    "    def create(a):\n",
    "        print(a)\n",
    "        print(\"this is customer create method\")\n",
    "# name, cost-->product\n",
    "# name, address-->customer\n",
    "minote7pro = Product()# Product() is a data object, minote7pro is a reference of the data object\n",
    "minote7pro.name=\"minote7pro\"\n",
    "minote7pro.cost=17000\n",
    "samsunggalaxy  = Product()\n",
    "samsunggalaxy.name=\"samsunggalaxy\"\n",
    "samsunggalaxy.cost=10000\n",
    "Product.create(minote7pro)\n",
    "Product.create(samsunggalaxy)"
   ]
  },
  {
   "cell_type": "code",
   "execution_count": 13,
   "metadata": {},
   "outputs": [
    {
     "name": "stdout",
     "output_type": "stream",
     "text": [
      "Customer1 address1\n",
      "this is customer create method\n"
     ]
    }
   ],
   "source": [
    "class Product:\n",
    "    def create(a):\n",
    "        print(\"cost:\",a.cost,\"name:\",a.name)\n",
    "        print(\"insert data:\")\n",
    "class Customer:\n",
    "    def create(a):\n",
    "        print(a.name,a.address)\n",
    "        print(\"this is customer create method\")\n",
    "cust1 = Customer()\n",
    "cust1.name=\"Customer1\"\n",
    "cust1.address=\"address1\"\n",
    "Customer.create(cust1)"
   ]
  },
  {
   "cell_type": "code",
   "execution_count": 14,
   "metadata": {},
   "outputs": [
    {
     "name": "stdout",
     "output_type": "stream",
     "text": [
      "Customer1 address1\n",
      "this is customer create method\n",
      "Customer2 Address2\n",
      "this is customer create method\n"
     ]
    }
   ],
   "source": [
    "class Product:\n",
    "    def create(a):\n",
    "        print(\"cost:\",a.cost,\"name:\",a.name)\n",
    "        print(\"insert data:\")\n",
    "class Customer:\n",
    "    def create(a):\n",
    "        print(a.name,a.address)\n",
    "        print(\"this is customer create method\")\n",
    "cust1 = Customer()\n",
    "cust1.name=\"Customer1\"\n",
    "cust1.address=\"address1\"\n",
    "Customer.create(cust1)\n",
    "cust2 = Customer()\n",
    "cust2.name=\"Customer2\"\n",
    "cust2.address = \"Address2\"\n",
    "Customer.create(cust2)"
   ]
  },
  {
   "cell_type": "code",
   "execution_count": 15,
   "metadata": {},
   "outputs": [
    {
     "name": "stdout",
     "output_type": "stream",
     "text": [
      "cost: 1700 name: minote7pro\n",
      "insert data:\n",
      "cost: 10000 name: samsunggalaxy\n",
      "insert data:\n"
     ]
    }
   ],
   "source": [
    "class Product:\n",
    "    def set_data(x, p_name, p_cost):\n",
    "        x.name=p_name\n",
    "        x.cost=p_cost\n",
    "        \n",
    "    def create(a):\n",
    "        print(\"cost:\",a.cost,\"name:\",a.name)\n",
    "        print(\"insert data:\")\n",
    "minote7pro = Product()# Product() is a data object, minote7pro is a reference of the data object\n",
    "Product.set_data(minote7pro,\"minote7pro\",1700)\n",
    "#minote7pro.name=\"minote7pro\"\n",
    "#minote7pro.cost=17000\n",
    "samsunggalaxy  = Product()\n",
    "Product.set_data(samsunggalaxy,\"samsunggalaxy\",10000)\n",
    "#samsunggalaxy.name=\"samsunggalaxy\"\n",
    "#samsunggalaxy.cost=10000\n",
    "Product.create(minote7pro)\n",
    "Product.create(samsunggalaxy)"
   ]
  },
  {
   "cell_type": "code",
   "execution_count": 16,
   "metadata": {},
   "outputs": [
    {
     "name": "stdout",
     "output_type": "stream",
     "text": [
      "cost: 1700 name: minote7pro\n",
      "insert data:\n",
      "cost: 10000 name: samsunggalaxy\n",
      "insert data:\n"
     ]
    }
   ],
   "source": [
    "class Product:\n",
    "    def set_data(x, p_name, p_cost):\n",
    "        x.name=p_name\n",
    "        x.cost=p_cost  \n",
    "    def create(a):\n",
    "        print(\"cost:\",a.cost,\"name:\",a.name)\n",
    "        print(\"insert data:\")\n",
    "minote7pro = Product()\n",
    "Product.set_data(minote7pro,\"minote7pro\",1700)\n",
    "samsunggalaxy  = Product()\n",
    "Product.set_data(samsunggalaxy,\"samsunggalaxy\",10000)\n",
    "Product.create(minote7pro)\n",
    "Product.create(samsunggalaxy)"
   ]
  },
  {
   "cell_type": "code",
   "execution_count": 18,
   "metadata": {},
   "outputs": [
    {
     "name": "stdout",
     "output_type": "stream",
     "text": [
      "cost: 1700 name: minote7pro\n",
      "insert data:\n",
      "cost: 10000 name: samsunggalaxy\n",
      "insert data:\n"
     ]
    }
   ],
   "source": [
    "class Product: # Product is class object\n",
    "    def set_data(x, p_name, p_cost):\n",
    "        x.name=p_name\n",
    "        x.cost=p_cost  \n",
    "    def create(a):\n",
    "        print(\"cost:\",a.cost,\"name:\",a.name)\n",
    "        print(\"insert data:\")\n",
    "minote7pro = Product()\n",
    "#Product.set_data(minote7pro,\"minote7pro\",1700)\n",
    "minote7pro.set_data(\"minote7pro\",1700)\n",
    "samsunggalaxy  = Product()\n",
    "#Product.set_data(samsunggalaxy,\"samsunggalaxy\",10000)\n",
    "samsunggalaxy.set_data(\"samsunggalaxy\",10000)                    \n",
    "#Product.create(minote7pro)\n",
    "minote7pro.create()                   \n",
    "#Product.create(samsunggalaxy)\n",
    "samsunggalaxy.create()                   "
   ]
  },
  {
   "cell_type": "code",
   "execution_count": null,
   "metadata": {},
   "outputs": [],
   "source": [
    "class Product: # Product is class object\n",
    "    def set_data(x, p_name, p_cost):\n",
    "        x.name=p_name\n",
    "        x.cost=p_cost  \n",
    "    def create(a):\n",
    "        print(\"cost:\",a.cost,\"name:\",a.name)\n",
    "        print(\"insert data:\")\n",
    "minote7pro = Product()# product() is data object, minote7pro is a reference of the data object, called it as an instance.\n",
    "minote7pro.set_data(\"minote7pro\",1700)\n",
    "samsunggalaxy  = Product()\n",
    "samsunggalaxy.set_data(\"samsunggalaxy\",10000)                    \n",
    "minote7pro.create()                   \n",
    "samsunggalaxy.create()                   "
   ]
  },
  {
   "cell_type": "code",
   "execution_count": null,
   "metadata": {},
   "outputs": [],
   "source": [
    "# write an EMP class, take name, sal, perf_grade as attributes. write a sal calculation method, that calulates the \n",
    "# salary based oin the grade. If the grade==\"A\" increment 25%, B--> 10, C-->5, D--->1, any other grade is invalid grade.\n",
    "# write a get method which will show name,sal,grade, updated_sal"
   ]
  }
 ],
 "metadata": {
  "kernelspec": {
   "display_name": "Python 3",
   "language": "python",
   "name": "python3"
  },
  "language_info": {
   "codemirror_mode": {
    "name": "ipython",
    "version": 3
   },
   "file_extension": ".py",
   "mimetype": "text/x-python",
   "name": "python",
   "nbconvert_exporter": "python",
   "pygments_lexer": "ipython3",
   "version": "3.7.0"
  }
 },
 "nbformat": 4,
 "nbformat_minor": 2
}
