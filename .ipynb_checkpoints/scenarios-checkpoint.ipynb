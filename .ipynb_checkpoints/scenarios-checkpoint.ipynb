{
 "cells": [
  {
   "cell_type": "code",
   "execution_count": 1,
   "metadata": {},
   "outputs": [
    {
     "ename": "SyntaxError",
     "evalue": "unexpected EOF while parsing (<ipython-input-1-a0721e3f53a8>, line 16)",
     "output_type": "error",
     "traceback": [
      "\u001b[0;36m  File \u001b[0;32m\"<ipython-input-1-a0721e3f53a8>\"\u001b[0;36m, line \u001b[0;32m16\u001b[0m\n\u001b[0;31m    \u001b[0m\n\u001b[0m    ^\u001b[0m\n\u001b[0;31mSyntaxError\u001b[0m\u001b[0;31m:\u001b[0m unexpected EOF while parsing\n"
     ]
    }
   ],
   "source": [
    "required={\"name\":\"\",\"dob\":\"\",\"degree\":\"\"}\n",
    "optional= {\"address\":\"\",\"pan\":\"\",\"cell\":\"\",\"adhar\":\"\",\"voterid\":\"\"}\n",
    "def fun(params):\n",
    "    \"\"\"\n",
    "    params: dict\n",
    "    return the params which are missing from required fields, and return params which are not belongs to \n",
    "    required and optional fields.\n",
    "    \"\"\"\n",
    "    given_params = set(params)\n",
    "    all_params = set(required).union(set(optional))\n",
    "    required_params = set(required)\n",
    "    if given_params.issubset(all_params):\n",
    "        if required_params.issubset(given_params):\n",
    "            return \"OK\"\n",
    "        else:\n",
    "            req = required_params-given_params\n",
    "            return \"Missing params: %s\"%req\n",
    "    else:\n",
    "        extra = given_params-all_params\n",
    "        return \"Not expected: %s\"%extra\n",
    "    \n",
    "    "
   ]
  },
  {
   "cell_type": "code",
   "execution_count": 3,
   "metadata": {},
   "outputs": [
    {
     "data": {
      "text/plain": [
       "{'passport'}"
      ]
     },
     "execution_count": 3,
     "metadata": {},
     "output_type": "execute_result"
    }
   ],
   "source": [
    "all_params = {\"name\",\"dob\",\"degree\",\"address\",\"pan\",\"adhar\",\"cell\",\"voterid\"}\n",
    "s1={\"name\",\"passport\"}\n",
    "s1.difference(all_params)"
   ]
  },
  {
   "cell_type": "code",
   "execution_count": 4,
   "metadata": {},
   "outputs": [
    {
     "data": {
      "text/plain": [
       "False"
      ]
     },
     "execution_count": 4,
     "metadata": {},
     "output_type": "execute_result"
    }
   ],
   "source": [
    "all_params = {\"name\",\"dob\",\"degree\",\"address\",\"pan\",\"adhar\",\"cell\",\"voterid\"}\n",
    "s1={\"name\",\"passport\"}\n",
    "s1.issubset(all_params)"
   ]
  },
  {
   "cell_type": "code",
   "execution_count": null,
   "metadata": {},
   "outputs": [],
   "source": []
  }
 ],
 "metadata": {
  "kernelspec": {
   "display_name": "Python 3",
   "language": "python",
   "name": "python3"
  },
  "language_info": {
   "codemirror_mode": {
    "name": "ipython",
    "version": 3
   },
   "file_extension": ".py",
   "mimetype": "text/x-python",
   "name": "python",
   "nbconvert_exporter": "python",
   "pygments_lexer": "ipython3",
   "version": "3.7.0"
  }
 },
 "nbformat": 4,
 "nbformat_minor": 2
}
