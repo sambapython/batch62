{
 "cells": [
  {
   "cell_type": "code",
   "execution_count": 1,
   "metadata": {},
   "outputs": [],
   "source": [
    "l=[10,20,30,\"python\",1+2j,1.2,None,True,False,[10,20,30,],(10,20,30,4),{1:2,3:4,5:6},{1,2,3,4}]"
   ]
  },
  {
   "cell_type": "code",
   "execution_count": 2,
   "metadata": {},
   "outputs": [
    {
     "name": "stdout",
     "output_type": "stream",
     "text": [
      "30\n"
     ]
    }
   ],
   "source": [
    "l=[10,20,30]\n",
    "print(l[2])"
   ]
  },
  {
   "cell_type": "code",
   "execution_count": 3,
   "metadata": {},
   "outputs": [
    {
     "data": {
      "text/plain": [
       "'python program'"
      ]
     },
     "execution_count": 3,
     "metadata": {},
     "output_type": "execute_result"
    }
   ],
   "source": [
    "l=[10,\"python program\",20,[1,2,3,4],(10,20)]\n",
    "l[1]"
   ]
  },
  {
   "cell_type": "code",
   "execution_count": 4,
   "metadata": {},
   "outputs": [
    {
     "data": {
      "text/plain": [
       "'y'"
      ]
     },
     "execution_count": 4,
     "metadata": {},
     "output_type": "execute_result"
    }
   ],
   "source": [
    "l=[10,\"python program\",20,[1,2,3,4],(10,20)]\n",
    "l[1][1]"
   ]
  },
  {
   "cell_type": "code",
   "execution_count": 6,
   "metadata": {},
   "outputs": [
    {
     "data": {
      "text/plain": [
       "'program'"
      ]
     },
     "execution_count": 6,
     "metadata": {},
     "output_type": "execute_result"
    }
   ],
   "source": [
    "l=[10,\"python program\",20,[1,2,3,4],(10,20)]\n",
    "l[1][7:]"
   ]
  },
  {
   "cell_type": "code",
   "execution_count": 7,
   "metadata": {},
   "outputs": [
    {
     "data": {
      "text/plain": [
       "'ogram'"
      ]
     },
     "execution_count": 7,
     "metadata": {},
     "output_type": "execute_result"
    }
   ],
   "source": [
    "l=[10,\"java program\",20,[1,2,3,4],(10,20)]\n",
    "l[1][7:]"
   ]
  },
  {
   "cell_type": "code",
   "execution_count": 8,
   "metadata": {},
   "outputs": [
    {
     "data": {
      "text/plain": [
       "'java program'"
      ]
     },
     "execution_count": 8,
     "metadata": {},
     "output_type": "execute_result"
    }
   ],
   "source": [
    "l=[10,\"java program\",20,[1,2,3,4],(10,20)]\n",
    "l[1]"
   ]
  },
  {
   "cell_type": "code",
   "execution_count": 9,
   "metadata": {},
   "outputs": [
    {
     "data": {
      "text/plain": [
       "['java', 'program']"
      ]
     },
     "execution_count": 9,
     "metadata": {},
     "output_type": "execute_result"
    }
   ],
   "source": [
    "l=[10,\"java program\",20,[1,2,3,4],(10,20)]\n",
    "l[1].split()"
   ]
  },
  {
   "cell_type": "code",
   "execution_count": 10,
   "metadata": {},
   "outputs": [
    {
     "data": {
      "text/plain": [
       "'program'"
      ]
     },
     "execution_count": 10,
     "metadata": {},
     "output_type": "execute_result"
    }
   ],
   "source": [
    "l=[10,\"java program\",20,[1,2,3,4],(10,20)]\n",
    "l[1].split()[1]"
   ]
  },
  {
   "cell_type": "code",
   "execution_count": 11,
   "metadata": {},
   "outputs": [
    {
     "data": {
      "text/plain": [
       "[1, 2, 3, 4]"
      ]
     },
     "execution_count": 11,
     "metadata": {},
     "output_type": "execute_result"
    }
   ],
   "source": [
    "l=[10,\"java program\",20,[1,2,3,4],(10,20)]\n",
    "l[3]"
   ]
  },
  {
   "cell_type": "code",
   "execution_count": 12,
   "metadata": {},
   "outputs": [
    {
     "data": {
      "text/plain": [
       "3"
      ]
     },
     "execution_count": 12,
     "metadata": {},
     "output_type": "execute_result"
    }
   ],
   "source": [
    "l=[10,\"java program\",20,[1,2,3,4],(10,20)]\n",
    "l[3][2]"
   ]
  },
  {
   "cell_type": "code",
   "execution_count": 13,
   "metadata": {},
   "outputs": [
    {
     "data": {
      "text/plain": [
       "[1, 2, 3, 4, 5, 6, 7, 8]"
      ]
     },
     "execution_count": 13,
     "metadata": {},
     "output_type": "execute_result"
    }
   ],
   "source": [
    "l1=[1,2,3,4]\n",
    "l2=[5,6,7,8]\n",
    "l1+l2"
   ]
  },
  {
   "cell_type": "code",
   "execution_count": 14,
   "metadata": {},
   "outputs": [
    {
     "ename": "TypeError",
     "evalue": "unsupported operand type(s) for -: 'list' and 'list'",
     "output_type": "error",
     "traceback": [
      "\u001b[0;31m---------------------------------------------------------------------------\u001b[0m",
      "\u001b[0;31mTypeError\u001b[0m                                 Traceback (most recent call last)",
      "\u001b[0;32m<ipython-input-14-a1de8c818da3>\u001b[0m in \u001b[0;36m<module>\u001b[0;34m()\u001b[0m\n\u001b[0;32m----> 1\u001b[0;31m \u001b[0ml1\u001b[0m\u001b[0;34m-\u001b[0m\u001b[0ml2\u001b[0m\u001b[0;34m\u001b[0m\u001b[0m\n\u001b[0m",
      "\u001b[0;31mTypeError\u001b[0m: unsupported operand type(s) for -: 'list' and 'list'"
     ]
    }
   ],
   "source": [
    "l1-l2"
   ]
  },
  {
   "cell_type": "code",
   "execution_count": 15,
   "metadata": {},
   "outputs": [
    {
     "ename": "TypeError",
     "evalue": "can't multiply sequence by non-int of type 'list'",
     "output_type": "error",
     "traceback": [
      "\u001b[0;31m---------------------------------------------------------------------------\u001b[0m",
      "\u001b[0;31mTypeError\u001b[0m                                 Traceback (most recent call last)",
      "\u001b[0;32m<ipython-input-15-bd77ec8884ac>\u001b[0m in \u001b[0;36m<module>\u001b[0;34m()\u001b[0m\n\u001b[0;32m----> 1\u001b[0;31m \u001b[0ml1\u001b[0m\u001b[0;34m*\u001b[0m\u001b[0ml2\u001b[0m\u001b[0;34m\u001b[0m\u001b[0m\n\u001b[0m",
      "\u001b[0;31mTypeError\u001b[0m: can't multiply sequence by non-int of type 'list'"
     ]
    }
   ],
   "source": [
    "l1*l2"
   ]
  },
  {
   "cell_type": "code",
   "execution_count": 16,
   "metadata": {},
   "outputs": [
    {
     "ename": "TypeError",
     "evalue": "unsupported operand type(s) for /: 'list' and 'list'",
     "output_type": "error",
     "traceback": [
      "\u001b[0;31m---------------------------------------------------------------------------\u001b[0m",
      "\u001b[0;31mTypeError\u001b[0m                                 Traceback (most recent call last)",
      "\u001b[0;32m<ipython-input-16-a9138b80a66e>\u001b[0m in \u001b[0;36m<module>\u001b[0;34m()\u001b[0m\n\u001b[0;32m----> 1\u001b[0;31m \u001b[0ml1\u001b[0m\u001b[0;34m/\u001b[0m\u001b[0ml2\u001b[0m\u001b[0;34m\u001b[0m\u001b[0m\n\u001b[0m",
      "\u001b[0;31mTypeError\u001b[0m: unsupported operand type(s) for /: 'list' and 'list'"
     ]
    }
   ],
   "source": [
    "l1/l2"
   ]
  },
  {
   "cell_type": "code",
   "execution_count": 18,
   "metadata": {},
   "outputs": [
    {
     "data": {
      "text/plain": [
       "False"
      ]
     },
     "execution_count": 18,
     "metadata": {},
     "output_type": "execute_result"
    }
   ],
   "source": [
    "l1=[1,2,3,4]\n",
    "l2=[5,6,7,8]\n",
    "l1>l2"
   ]
  },
  {
   "cell_type": "code",
   "execution_count": 19,
   "metadata": {},
   "outputs": [
    {
     "ename": "AttributeError",
     "evalue": "'list' object has no attribute 'add'",
     "output_type": "error",
     "traceback": [
      "\u001b[0;31m---------------------------------------------------------------------------\u001b[0m",
      "\u001b[0;31mAttributeError\u001b[0m                            Traceback (most recent call last)",
      "\u001b[0;32m<ipython-input-19-7e10fe061812>\u001b[0m in \u001b[0;36m<module>\u001b[0;34m()\u001b[0m\n\u001b[1;32m      1\u001b[0m \u001b[0mlanguahes\u001b[0m\u001b[0;34m=\u001b[0m\u001b[0;34m[\u001b[0m\u001b[0;34m\"c\"\u001b[0m\u001b[0;34m,\u001b[0m\u001b[0;34m\"cpp\"\u001b[0m\u001b[0;34m,\u001b[0m\u001b[0;34m\"java\"\u001b[0m\u001b[0;34m,\u001b[0m\u001b[0;34m\"php\"\u001b[0m\u001b[0;34m]\u001b[0m\u001b[0;34m\u001b[0m\u001b[0m\n\u001b[0;32m----> 2\u001b[0;31m \u001b[0mlanguahes\u001b[0m\u001b[0;34m.\u001b[0m\u001b[0madd\u001b[0m\u001b[0;34m(\u001b[0m\u001b[0;34m\"python\"\u001b[0m\u001b[0;34m)\u001b[0m\u001b[0;34m\u001b[0m\u001b[0m\n\u001b[0m",
      "\u001b[0;31mAttributeError\u001b[0m: 'list' object has no attribute 'add'"
     ]
    }
   ],
   "source": [
    "languahes=[\"c\",\"cpp\",\"java\",\"php\"]\n",
    "languahes.add(\"python\")"
   ]
  },
  {
   "cell_type": "code",
   "execution_count": 20,
   "metadata": {},
   "outputs": [
    {
     "data": {
      "text/plain": [
       "['c', 'cpp', 'java', 'php', 'python']"
      ]
     },
     "execution_count": 20,
     "metadata": {},
     "output_type": "execute_result"
    }
   ],
   "source": [
    "languahes=[\"c\",\"cpp\",\"java\",\"php\"]\n",
    "languahes+[\"python\"]"
   ]
  },
  {
   "cell_type": "code",
   "execution_count": 21,
   "metadata": {},
   "outputs": [
    {
     "ename": "TypeError",
     "evalue": "can only concatenate list (not \"str\") to list",
     "output_type": "error",
     "traceback": [
      "\u001b[0;31m---------------------------------------------------------------------------\u001b[0m",
      "\u001b[0;31mTypeError\u001b[0m                                 Traceback (most recent call last)",
      "\u001b[0;32m<ipython-input-21-ec2f47d29336>\u001b[0m in \u001b[0;36m<module>\u001b[0;34m()\u001b[0m\n\u001b[1;32m      1\u001b[0m \u001b[0mlanguahes\u001b[0m\u001b[0;34m=\u001b[0m\u001b[0;34m[\u001b[0m\u001b[0;34m\"c\"\u001b[0m\u001b[0;34m,\u001b[0m\u001b[0;34m\"cpp\"\u001b[0m\u001b[0;34m,\u001b[0m\u001b[0;34m\"java\"\u001b[0m\u001b[0;34m,\u001b[0m\u001b[0;34m\"php\"\u001b[0m\u001b[0;34m]\u001b[0m\u001b[0;34m\u001b[0m\u001b[0m\n\u001b[0;32m----> 2\u001b[0;31m \u001b[0mlanguahes\u001b[0m\u001b[0;34m+\u001b[0m\u001b[0;34m\"python\"\u001b[0m\u001b[0;34m\u001b[0m\u001b[0m\n\u001b[0m",
      "\u001b[0;31mTypeError\u001b[0m: can only concatenate list (not \"str\") to list"
     ]
    }
   ],
   "source": [
    "languahes=[\"c\",\"cpp\",\"java\",\"php\"]\n",
    "languahes+\"python\""
   ]
  },
  {
   "cell_type": "code",
   "execution_count": 22,
   "metadata": {},
   "outputs": [
    {
     "name": "stdout",
     "output_type": "stream",
     "text": [
      "None\n"
     ]
    }
   ],
   "source": [
    "k=[\"c\",\"cpp\",\"java\",\"php\"]\n",
    "k1=k.append(\"python\")\n",
    "print(k1)"
   ]
  },
  {
   "cell_type": "code",
   "execution_count": 23,
   "metadata": {},
   "outputs": [
    {
     "name": "stdout",
     "output_type": "stream",
     "text": [
      "k= ['c', 'cpp', 'java', 'php']\n",
      "k1= ['c', 'cpp', 'java', 'php', 'python']\n"
     ]
    }
   ],
   "source": [
    "k=[\"c\",\"cpp\",\"java\",\"php\"]\n",
    "k1=k+[\"python\"]\n",
    "print(\"k=\",k)\n",
    "print(\"k1=\",k1)"
   ]
  },
  {
   "cell_type": "code",
   "execution_count": 24,
   "metadata": {},
   "outputs": [
    {
     "name": "stdout",
     "output_type": "stream",
     "text": [
      "k= ['c', 'cpp', 'java', 'php', 'python']\n",
      "k1= None\n"
     ]
    }
   ],
   "source": [
    "k=[\"c\",\"cpp\",\"java\",\"php\"]\n",
    "k1=k.append(\"python\")\n",
    "print(\"k=\",k)\n",
    "print(\"k1=\",k1)"
   ]
  },
  {
   "cell_type": "code",
   "execution_count": 25,
   "metadata": {},
   "outputs": [
    {
     "name": "stdout",
     "output_type": "stream",
     "text": [
      "k= ['c', 'cpp', 'java', 'php', 'p', 'y', 't', 'h', 'o', 'n']\n",
      "k1= None\n"
     ]
    }
   ],
   "source": [
    "k=[\"c\",\"cpp\",\"java\",\"php\"]\n",
    "k1=k.extend(\"python\")\n",
    "print(\"k=\",k)\n",
    "print(\"k1=\",k1)"
   ]
  },
  {
   "cell_type": "code",
   "execution_count": 26,
   "metadata": {},
   "outputs": [
    {
     "name": "stdout",
     "output_type": "stream",
     "text": [
      "k= ['c', 'cpp', 'java', 'php', 10, 20, 30, 40]\n",
      "k1= None\n"
     ]
    }
   ],
   "source": [
    "k=[\"c\",\"cpp\",\"java\",\"php\"]\n",
    "k1=k.extend([10,20,30,40])\n",
    "print(\"k=\",k)\n",
    "print(\"k1=\",k1)"
   ]
  },
  {
   "cell_type": "code",
   "execution_count": 27,
   "metadata": {},
   "outputs": [
    {
     "name": "stdout",
     "output_type": "stream",
     "text": [
      "k= ['c', 'cpp', 'java', 'php', [10, 20, 30, 40]]\n",
      "k1= None\n"
     ]
    }
   ],
   "source": [
    "k=[\"c\",\"cpp\",\"java\",\"php\"]\n",
    "k1=k.append([10,20,30,40])\n",
    "print(\"k=\",k)\n",
    "print(\"k1=\",k1)"
   ]
  },
  {
   "cell_type": "code",
   "execution_count": 28,
   "metadata": {},
   "outputs": [
    {
     "name": "stdout",
     "output_type": "stream",
     "text": [
      "k= ['c', 'cpp', 'java', 'php', 100]\n",
      "k1= None\n"
     ]
    }
   ],
   "source": [
    "k=[\"c\",\"cpp\",\"java\",\"php\"]\n",
    "k1=k.append(100)\n",
    "print(\"k=\",k)\n",
    "print(\"k1=\",k1)"
   ]
  },
  {
   "cell_type": "code",
   "execution_count": 29,
   "metadata": {},
   "outputs": [
    {
     "ename": "TypeError",
     "evalue": "'int' object is not iterable",
     "output_type": "error",
     "traceback": [
      "\u001b[0;31m---------------------------------------------------------------------------\u001b[0m",
      "\u001b[0;31mTypeError\u001b[0m                                 Traceback (most recent call last)",
      "\u001b[0;32m<ipython-input-29-e84d1a0ff717>\u001b[0m in \u001b[0;36m<module>\u001b[0;34m()\u001b[0m\n\u001b[1;32m      1\u001b[0m \u001b[0mk\u001b[0m\u001b[0;34m=\u001b[0m\u001b[0;34m[\u001b[0m\u001b[0;34m\"c\"\u001b[0m\u001b[0;34m,\u001b[0m\u001b[0;34m\"cpp\"\u001b[0m\u001b[0;34m,\u001b[0m\u001b[0;34m\"java\"\u001b[0m\u001b[0;34m,\u001b[0m\u001b[0;34m\"php\"\u001b[0m\u001b[0;34m]\u001b[0m\u001b[0;34m\u001b[0m\u001b[0m\n\u001b[0;32m----> 2\u001b[0;31m \u001b[0mk1\u001b[0m\u001b[0;34m=\u001b[0m\u001b[0mk\u001b[0m\u001b[0;34m.\u001b[0m\u001b[0mextend\u001b[0m\u001b[0;34m(\u001b[0m\u001b[0;36m100\u001b[0m\u001b[0;34m)\u001b[0m\u001b[0;34m\u001b[0m\u001b[0m\n\u001b[0m\u001b[1;32m      3\u001b[0m \u001b[0mprint\u001b[0m\u001b[0;34m(\u001b[0m\u001b[0;34m\"k=\"\u001b[0m\u001b[0;34m,\u001b[0m\u001b[0mk\u001b[0m\u001b[0;34m)\u001b[0m\u001b[0;34m\u001b[0m\u001b[0m\n\u001b[1;32m      4\u001b[0m \u001b[0mprint\u001b[0m\u001b[0;34m(\u001b[0m\u001b[0;34m\"k1=\"\u001b[0m\u001b[0;34m,\u001b[0m\u001b[0mk1\u001b[0m\u001b[0;34m)\u001b[0m\u001b[0;34m\u001b[0m\u001b[0m\n",
      "\u001b[0;31mTypeError\u001b[0m: 'int' object is not iterable"
     ]
    }
   ],
   "source": [
    "k=[\"c\",\"cpp\",\"java\",\"php\"]\n",
    "k1=k.extend(100)\n",
    "print(\"k=\",k)\n",
    "print(\"k1=\",k1)"
   ]
  },
  {
   "cell_type": "code",
   "execution_count": 30,
   "metadata": {},
   "outputs": [
    {
     "name": "stdout",
     "output_type": "stream",
     "text": [
      "k= ['c', 'cpp', 'java', 'php', 'name', 'age']\n",
      "k1= None\n"
     ]
    }
   ],
   "source": [
    "k=[\"c\",\"cpp\",\"java\",\"php\"]\n",
    "k1=k.extend({\"name\":\"jay\",\"age\":2.3})\n",
    "print(\"k=\",k)\n",
    "print(\"k1=\",k1)"
   ]
  },
  {
   "cell_type": "code",
   "execution_count": 31,
   "metadata": {},
   "outputs": [
    {
     "name": "stdout",
     "output_type": "stream",
     "text": [
      "k= ['c', 'cpp', 'java', 'php', {'name': 'jay', 'age': 2.3}]\n",
      "k1= None\n"
     ]
    }
   ],
   "source": [
    "k=[\"c\",\"cpp\",\"java\",\"php\"]\n",
    "k1=k.append({\"name\":\"jay\",\"age\":2.3})\n",
    "print(\"k=\",k)\n",
    "print(\"k1=\",k1)"
   ]
  },
  {
   "cell_type": "code",
   "execution_count": 32,
   "metadata": {},
   "outputs": [
    {
     "name": "stdout",
     "output_type": "stream",
     "text": [
      "k= ['c', 'cpp', 'python', 'java', 'php']\n",
      "k1= None\n"
     ]
    }
   ],
   "source": [
    "k=[\"c\",\"cpp\",\"java\",\"php\"]\n",
    "k1=k.insert(2,\"python\")\n",
    "print(\"k=\",k)\n",
    "print(\"k1=\",k1)"
   ]
  },
  {
   "cell_type": "code",
   "execution_count": 33,
   "metadata": {},
   "outputs": [
    {
     "name": "stdout",
     "output_type": "stream",
     "text": [
      "k= ['c', 'cpp', 'java', 'php', 'python']\n",
      "k1= None\n"
     ]
    }
   ],
   "source": [
    "k=[\"c\",\"cpp\",\"java\",\"php\"]\n",
    "k1=k.insert(20,\"python\")\n",
    "print(\"k=\",k)\n",
    "print(\"k1=\",k1)"
   ]
  },
  {
   "cell_type": "code",
   "execution_count": 34,
   "metadata": {},
   "outputs": [
    {
     "name": "stdout",
     "output_type": "stream",
     "text": [
      "k= ['python', 'c', 'java', 'php']\n",
      "k1= None\n"
     ]
    }
   ],
   "source": [
    "k= ['python','c', 'cpp', 'java', 'php']\n",
    "k1 = k.remove(\"cpp\")\n",
    "print(\"k=\",k)\n",
    "print(\"k1=\",k1)"
   ]
  },
  {
   "cell_type": "code",
   "execution_count": 35,
   "metadata": {},
   "outputs": [
    {
     "name": "stdout",
     "output_type": "stream",
     "text": [
      "k= ['python', 'c', 'java', 'php', 'cpp', 'cpp', 'cpp']\n",
      "k1= None\n"
     ]
    }
   ],
   "source": [
    "k= ['python','c', 'cpp', 'java', 'php',\"cpp\",\"cpp\",\"cpp\"]\n",
    "k1 = k.remove(\"cpp\")\n",
    "print(\"k=\",k)\n",
    "print(\"k1=\",k1)"
   ]
  },
  {
   "cell_type": "code",
   "execution_count": 36,
   "metadata": {},
   "outputs": [],
   "source": [
    "k= ['python','c', 'cpp', 'java', 'php',\"cpp\",\"cpp\",\"cpp\"]\n",
    "k1 = k.remove?"
   ]
  },
  {
   "cell_type": "code",
   "execution_count": null,
   "metadata": {},
   "outputs": [],
   "source": [
    "k1 = k.remove"
   ]
  },
  {
   "cell_type": "code",
   "execution_count": 37,
   "metadata": {},
   "outputs": [
    {
     "name": "stdout",
     "output_type": "stream",
     "text": [
      "python\n",
      "c\n",
      "cpp\n",
      "java\n",
      "php\n",
      "cpp\n",
      "cpp\n",
      "cpp\n"
     ]
    }
   ],
   "source": [
    "k= ['python','c', 'cpp', 'java', 'php',\"cpp\",\"cpp\",\"cpp\"]\n",
    "for i in k:\n",
    "    print(i)"
   ]
  },
  {
   "cell_type": "code",
   "execution_count": 39,
   "metadata": {},
   "outputs": [
    {
     "name": "stdout",
     "output_type": "stream",
     "text": [
      "['python', 'c', 'java', 'php', 'cpp']\n"
     ]
    }
   ],
   "source": [
    "k= ['python','c', 'cpp', 'java', 'php',\"cpp\",\"cpp\",\"cpp\"]\n",
    "for i in k:\n",
    "    if i==\"cpp\":\n",
    "       k.remove(i)\n",
    "print(k)"
   ]
  },
  {
   "cell_type": "code",
   "execution_count": null,
   "metadata": {},
   "outputs": [],
   "source": [
    "k= ['python','c', 'cpp', 'java', 'php',\"cpp\",\"cpp\",\"cpp\"]\n",
    "for i in k:\n",
    "    if i==\"cpp\":\n",
    "        k.remove(i)# \n",
    "    print(k)"
   ]
  },
  {
   "cell_type": "code",
   "execution_count": null,
   "metadata": {},
   "outputs": [],
   "source": [
    "k= ['python','c', 'cpp', 'java', 'php',\"cpp\",\"cpp\",\"cpp\"]\n",
    "k1=k\n",
    "k2=k[:]\n",
    "k3=k.copy()\n",
    "# draw memory organization diagram for above copies"
   ]
  },
  {
   "cell_type": "code",
   "execution_count": 40,
   "metadata": {},
   "outputs": [
    {
     "name": "stdout",
     "output_type": "stream",
     "text": [
      "['python', 'c', 'cpp', 'java', 'php']\n"
     ]
    }
   ],
   "source": [
    "k= ['python','c', 'cpp', 'java', 'php',]\n",
    "print(k)"
   ]
  },
  {
   "cell_type": "code",
   "execution_count": 41,
   "metadata": {},
   "outputs": [
    {
     "name": "stdout",
     "output_type": "stream",
     "text": [
      "['python', 'c', 'cpp', 'java', 'php', 'JS']\n"
     ]
    }
   ],
   "source": [
    "k= ['python','c', 'cpp', 'java', 'php',]\n",
    "k1=k\n",
    "k1.append(\"JS\")\n",
    "print(k)"
   ]
  },
  {
   "cell_type": "code",
   "execution_count": 42,
   "metadata": {},
   "outputs": [
    {
     "name": "stdout",
     "output_type": "stream",
     "text": [
      "['python', 'c', 'java', 'php', 'cpp']\n"
     ]
    }
   ],
   "source": [
    "k= ['python','c', 'cpp', 'java', 'php',\"cpp\",\"cpp\",\"cpp\"]\n",
    "for i in k:\n",
    "    if i==\"cpp\":\n",
    "       k.remove(i)\n",
    "print(k)"
   ]
  },
  {
   "cell_type": "code",
   "execution_count": 43,
   "metadata": {},
   "outputs": [
    {
     "name": "stdout",
     "output_type": "stream",
     "text": [
      "['python', 'c', 'java', 'php']\n"
     ]
    }
   ],
   "source": [
    "k= ['python','c', 'cpp', 'java', 'php',\"cpp\",\"cpp\",\"cpp\"]\n",
    "k2=k[:]\n",
    "for i in k2:\n",
    "    if i==\"cpp\":\n",
    "       k.remove(i)\n",
    "print(k)"
   ]
  },
  {
   "cell_type": "code",
   "execution_count": 44,
   "metadata": {},
   "outputs": [
    {
     "name": "stdout",
     "output_type": "stream",
     "text": [
      "['python', 'c', 'java', 'php', 'cpp']\n"
     ]
    }
   ],
   "source": [
    "k= ['python','c', 'cpp', 'java', 'php',\"cpp\",\"cpp\",\"cpp\"]\n",
    "k2=k\n",
    "for i in k2:\n",
    "    if i==\"cpp\":\n",
    "       k.remove(i)\n",
    "print(k)"
   ]
  },
  {
   "cell_type": "code",
   "execution_count": 45,
   "metadata": {},
   "outputs": [
    {
     "name": "stdout",
     "output_type": "stream",
     "text": [
      "['python', 'c', 'java', 'php']\n"
     ]
    }
   ],
   "source": [
    "k= ['python','c', 'cpp', 'java', 'php',\"cpp\",\"cpp\",\"cpp\"]\n",
    "k2=k.copy()\n",
    "for i in k2:\n",
    "    if i==\"cpp\":\n",
    "       k.remove(i)\n",
    "print(k)"
   ]
  },
  {
   "cell_type": "code",
   "execution_count": 46,
   "metadata": {},
   "outputs": [
    {
     "name": "stdout",
     "output_type": "stream",
     "text": [
      "['python', 'c', 'java', 'php', 'cpp']\n"
     ]
    }
   ],
   "source": [
    "k= ['python','c', 'cpp', 'java', 'php',\"cpp\",\"cpp\",\"cpp\"]\n",
    "for i in k:\n",
    "    if i==\"cpp\":\n",
    "       k.remove(i)\n",
    "print(k)"
   ]
  },
  {
   "cell_type": "code",
   "execution_count": 47,
   "metadata": {},
   "outputs": [
    {
     "name": "stdout",
     "output_type": "stream",
     "text": [
      "['python', 'c', 'java', 'php']\n"
     ]
    }
   ],
   "source": [
    "k= ['python','c', 'cpp', 'java', 'php',\"cpp\",\"cpp\",\"cpp\"]\n",
    "for i in k[::-1]:\n",
    "    if i==\"cpp\":\n",
    "       k.remove(i)\n",
    "print(k)"
   ]
  },
  {
   "cell_type": "code",
   "execution_count": null,
   "metadata": {},
   "outputs": [],
   "source": [
    "# WAP to remove duplicate elements from the list."
   ]
  }
 ],
 "metadata": {
  "kernelspec": {
   "display_name": "Python 3",
   "language": "python",
   "name": "python3"
  },
  "language_info": {
   "codemirror_mode": {
    "name": "ipython",
    "version": 3
   },
   "file_extension": ".py",
   "mimetype": "text/x-python",
   "name": "python",
   "nbconvert_exporter": "python",
   "pygments_lexer": "ipython3",
   "version": "3.7.0"
  }
 },
 "nbformat": 4,
 "nbformat_minor": 2
}
