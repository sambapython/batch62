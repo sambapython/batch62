{
 "cells": [
  {
   "cell_type": "code",
   "execution_count": 1,
   "metadata": {},
   "outputs": [
    {
     "name": "stdout",
     "output_type": "stream",
     "text": [
      "welcome\n",
      "thanks\n"
     ]
    }
   ],
   "source": [
    "print(\"welcome\")\n",
    "def add():\n",
    "    print(\"this is function\")\n",
    "print(\"thanks\")"
   ]
  },
  {
   "cell_type": "code",
   "execution_count": 2,
   "metadata": {},
   "outputs": [
    {
     "name": "stdout",
     "output_type": "stream",
     "text": [
      "welcome\n",
      "thanks\n",
      "this is function\n"
     ]
    }
   ],
   "source": [
    "print(\"welcome\")\n",
    "def add():\n",
    "    print(\"this is function\")\n",
    "print(\"thanks\")\n",
    "add()"
   ]
  },
  {
   "cell_type": "code",
   "execution_count": 3,
   "metadata": {},
   "outputs": [
    {
     "name": "stdout",
     "output_type": "stream",
     "text": [
      "welcome\n",
      "thanks\n",
      "this is function\n",
      "this is function\n",
      "this is function\n"
     ]
    }
   ],
   "source": [
    "print(\"welcome\")\n",
    "def add():\n",
    "    print(\"this is function\")\n",
    "print(\"thanks\")\n",
    "add()\n",
    "add()\n",
    "add()"
   ]
  },
  {
   "cell_type": "code",
   "execution_count": 4,
   "metadata": {},
   "outputs": [
    {
     "name": "stdout",
     "output_type": "stream",
     "text": [
      "welcome\n",
      "thanks\n",
      "30 -10 200 0.5\n"
     ]
    }
   ],
   "source": [
    "print(\"welcome\")\n",
    "def add(x,y): # x,y parameters\n",
    "    a=x+y\n",
    "    b=x-y\n",
    "    c=x*y\n",
    "    d=x/y\n",
    "    print(a,b,c,d)\n",
    "print(\"thanks\")\n",
    "add(10,20) # 10,20 arguments"
   ]
  },
  {
   "cell_type": "code",
   "execution_count": 5,
   "metadata": {},
   "outputs": [
    {
     "name": "stdout",
     "output_type": "stream",
     "text": [
      "welcome\n",
      "thanks\n",
      "30 -10 200 0.5\n",
      "32 -10 231 0.5238095238095238\n",
      "300 -100 20000 0.5\n",
      "302 -100 20301 0.5024875621890548\n"
     ]
    }
   ],
   "source": [
    "print(\"welcome\")\n",
    "def add(x,y): # x,y parameters\n",
    "    a=x+y\n",
    "    b=x-y\n",
    "    c=x*y\n",
    "    d=x/y\n",
    "    print(a,b,c,d)\n",
    "print(\"thanks\")\n",
    "add(10,20) # 10,20 arguments\n",
    "add(11,21) \n",
    "add(100,200) \n",
    "add(101,201) "
   ]
  },
  {
   "cell_type": "code",
   "execution_count": 6,
   "metadata": {},
   "outputs": [
    {
     "name": "stdout",
     "output_type": "stream",
     "text": [
      "The sales price: 8\n"
     ]
    }
   ],
   "source": [
    "\"\"\"\n",
    "define three functions 1. sales price calculation with costprice and discount\n",
    "                      2. costprice calculation with purchase cost and delivery charges\n",
    "                      3. profit calculation with sales and cost price\n",
    "\"\"\"\n",
    "def sales_price_calc(cp, dis):\n",
    "    print(\"The sales price:\",cp-dis)\n",
    "def cost_price_calc(pc,dc):\n",
    "    print(\"The cost price:\",pc+dc)\n",
    "def profit_calc(sp,cp):\n",
    "    print(\"The profit:\",sp-cp)\n",
    "sales_price_calc(10,2)"
   ]
  },
  {
   "cell_type": "code",
   "execution_count": 7,
   "metadata": {},
   "outputs": [
    {
     "name": "stdout",
     "output_type": "stream",
     "text": [
      "The sales price: 8\n",
      "The cost price: 8\n"
     ]
    }
   ],
   "source": [
    "\"\"\"\n",
    "define three functions 1. sales price calculation with costprice and discount\n",
    "                      2. costprice calculation with purchase cost and delivery charges\n",
    "                      3. profit calculation with sales and cost price\n",
    "\"\"\"\n",
    "def sales_price_calc(cp, dis):\n",
    "    print(\"The sales price:\",cp-dis)\n",
    "def cost_price_calc(pc,dc):\n",
    "    print(\"The cost price:\",pc+dc)\n",
    "def profit_calc(sp,cp):\n",
    "    print(\"The profit:\",sp-cp)\n",
    "sales_price_calc(10,2)\n",
    "cost_price_calc(6,2)"
   ]
  },
  {
   "cell_type": "code",
   "execution_count": 8,
   "metadata": {},
   "outputs": [
    {
     "name": "stdout",
     "output_type": "stream",
     "text": [
      "The sales price: 8\n",
      "The cost price: 7\n",
      "The profit: 2\n"
     ]
    }
   ],
   "source": [
    "\"\"\"\n",
    "define three functions 1. sales price calculation with costprice and discount\n",
    "                      2. costprice calculation with purchase cost and delivery charges\n",
    "                      3. profit calculation with sales and cost price\n",
    "\"\"\"\n",
    "def sales_price_calc(mrp, dis):\n",
    "    print(\"The sales price:\",mrp-dis)\n",
    "def cost_price_calc(pc,dc):\n",
    "    print(\"The cost price:\",pc+dc)\n",
    "def profit_calc(sp,cp):\n",
    "    print(\"The profit:\",sp-cp)\n",
    "sales_price_calc(10,2)\n",
    "cost_price_calc(6,1)\n",
    "profit_calc(8,6)"
   ]
  },
  {
   "cell_type": "code",
   "execution_count": 10,
   "metadata": {},
   "outputs": [
    {
     "name": "stdout",
     "output_type": "stream",
     "text": [
      "The Grocerry calculations.\n",
      "\t1.Sales price calculation\n",
      "\t2.cost price calculation\n",
      "\t3.profit calculation\n"
     ]
    }
   ],
   "source": [
    "print(\"The Grocerry calculations.\\n\\t1.Sales price calculation\\n\\t2.cost price calculation\\n\\t3.profit calculation\")"
   ]
  },
  {
   "cell_type": "code",
   "execution_count": 11,
   "metadata": {},
   "outputs": [
    {
     "name": "stdout",
     "output_type": "stream",
     "text": [
      "The Grocerry calculations.\n",
      "\t1.Sales price calculation\n",
      "\t2.cost price calculation\n",
      "\t3.profit calculation\n",
      "enter an option:1\n",
      "enter MRP:1200\n",
      "Enter discount:200\n",
      "The sales price: 1000.0\n"
     ]
    }
   ],
   "source": [
    "def sales_price_calc(mrp, dis):\n",
    "    print(\"The sales price:\",mrp-dis)\n",
    "def cost_price_calc(pc,dc):\n",
    "    print(\"The cost price:\",pc+dc)\n",
    "def profit_calc(sp,cp):\n",
    "    print(\"The profit:\",sp-cp)\n",
    "print(\"The Grocerry calculations.\\n\\t1.Sales price calculation\\n\\t2.cost price calculation\\n\\t3.profit calculation\")\n",
    "opt=input(\"enter an option:\")\n",
    "if opt==\"1\":\n",
    "    mrp = float(input(\"enter MRP:\"))\n",
    "    dis = float(input(\"Enter discount:\"))\n",
    "    sales_price_calc(mrp,dis)\n",
    "elif opt==\"2\":\n",
    "    pc = float(input(\"enter purchase cost:\"))\n",
    "    dc = float(input(\"Enter delivery charges:\"))\n",
    "    cost_price_calc(pc,dc)\n",
    "elif opt==\"3\":\n",
    "    sp=float(input(\"enter sales price:\"))\n",
    "    cp=float(input(\"Enter cost price:\"))\n",
    "    profit_calc(sp,cp)\n",
    "else:\n",
    "    print(\"wrong option..\")\n",
    "    "
   ]
  },
  {
   "cell_type": "code",
   "execution_count": 14,
   "metadata": {},
   "outputs": [
    {
     "name": "stdout",
     "output_type": "stream",
     "text": [
      "The Grocerry calculations.\n",
      "\t1.Sales price calculation\n",
      "\t2.cost price calculation\n",
      "\t3.profit calculation    \n",
      "\tq. quit\n",
      "enter an option:1\n",
      "enter MRP:1200\n",
      "Enter discount:300\n",
      "The sales price: 900.0\n",
      "The Grocerry calculations.\n",
      "\t1.Sales price calculation\n",
      "\t2.cost price calculation\n",
      "\t3.profit calculation    \n",
      "\tq. quit\n",
      "enter an option:2\n",
      "enter purchase cost:12\n",
      "Enter delivery charges:34\n",
      "The cost price: 46.0\n",
      "The Grocerry calculations.\n",
      "\t1.Sales price calculation\n",
      "\t2.cost price calculation\n",
      "\t3.profit calculation    \n",
      "\tq. quit\n",
      "enter an option:3\n",
      "enter sales price:24\n",
      "Enter cost price:56\n",
      "The profit: -32.0\n",
      "The Grocerry calculations.\n",
      "\t1.Sales price calculation\n",
      "\t2.cost price calculation\n",
      "\t3.profit calculation    \n",
      "\tq. quit\n",
      "enter an option:q\n",
      "thank you..\n"
     ]
    }
   ],
   "source": [
    "def sales_price_calc(mrp, dis):\n",
    "    print(\"The sales price:\",mrp-dis)\n",
    "def cost_price_calc(pc,dc):\n",
    "    print(\"The cost price:\",pc+dc)\n",
    "def profit_calc(sp,cp):\n",
    "    print(\"The profit:\",sp-cp)\n",
    "    \n",
    "while True:\n",
    "    print(\"The Grocerry calculations.\\n\\t1.Sales price calculation\\n\\t2.cost price calculation\\n\\t3.profit calculation\\\n",
    "    \\n\\tq. quit\")\n",
    "    opt=input(\"enter an option:\")\n",
    "    if opt==\"q\":\n",
    "        print(\"thank you..\")\n",
    "        break\n",
    "    if opt==\"1\":\n",
    "        mrp = float(input(\"enter MRP:\"))\n",
    "        dis = float(input(\"Enter discount:\"))\n",
    "        sales_price_calc(mrp,dis)\n",
    "    elif opt==\"2\":\n",
    "        pc = float(input(\"enter purchase cost:\"))\n",
    "        dc = float(input(\"Enter delivery charges:\"))\n",
    "        cost_price_calc(pc,dc)\n",
    "    elif opt==\"3\":\n",
    "        sp=float(input(\"enter sales price:\"))\n",
    "        cp=float(input(\"Enter cost price:\"))\n",
    "        profit_calc(sp,cp)\n",
    "    else:\n",
    "        print(\"wrong option..\")\n"
   ]
  },
  {
   "cell_type": "code",
   "execution_count": 15,
   "metadata": {},
   "outputs": [
    {
     "name": "stdout",
     "output_type": "stream",
     "text": [
      "10 20\n"
     ]
    }
   ],
   "source": [
    "def fun(x,y):\n",
    "    print(x,y)\n",
    "fun(10,20)"
   ]
  },
  {
   "cell_type": "code",
   "execution_count": 16,
   "metadata": {},
   "outputs": [
    {
     "ename": "TypeError",
     "evalue": "fun() missing 1 required positional argument: 'y'",
     "output_type": "error",
     "traceback": [
      "\u001b[0;31m---------------------------------------------------------------------------\u001b[0m",
      "\u001b[0;31mTypeError\u001b[0m                                 Traceback (most recent call last)",
      "\u001b[0;32m<ipython-input-16-ab68ba923335>\u001b[0m in \u001b[0;36m<module>\u001b[0;34m()\u001b[0m\n\u001b[1;32m      1\u001b[0m \u001b[0;32mdef\u001b[0m \u001b[0mfun\u001b[0m\u001b[0;34m(\u001b[0m\u001b[0mx\u001b[0m\u001b[0;34m,\u001b[0m\u001b[0my\u001b[0m\u001b[0;34m)\u001b[0m\u001b[0;34m:\u001b[0m\u001b[0;34m\u001b[0m\u001b[0m\n\u001b[1;32m      2\u001b[0m     \u001b[0mprint\u001b[0m\u001b[0;34m(\u001b[0m\u001b[0mx\u001b[0m\u001b[0;34m,\u001b[0m\u001b[0my\u001b[0m\u001b[0;34m)\u001b[0m\u001b[0;34m\u001b[0m\u001b[0m\n\u001b[0;32m----> 3\u001b[0;31m \u001b[0mfun\u001b[0m\u001b[0;34m(\u001b[0m\u001b[0;36m10\u001b[0m\u001b[0;34m)\u001b[0m\u001b[0;34m\u001b[0m\u001b[0m\n\u001b[0m",
      "\u001b[0;31mTypeError\u001b[0m: fun() missing 1 required positional argument: 'y'"
     ]
    }
   ],
   "source": [
    "def fun(x,y):\n",
    "    print(x,y)\n",
    "fun(10)"
   ]
  },
  {
   "cell_type": "code",
   "execution_count": 17,
   "metadata": {},
   "outputs": [
    {
     "name": "stdout",
     "output_type": "stream",
     "text": [
      "a=10,b=20,c=30,d=40,e=50\n",
      "150\n"
     ]
    }
   ],
   "source": [
    "def add(a,b,c,d,e):\n",
    "    print(f\"a={a},b={b},c={c},d={d},e={e}\")\n",
    "    res=a+b+c+d+e\n",
    "    print(res)\n",
    "add(10,20,30,40,50)\n",
    "    "
   ]
  },
  {
   "cell_type": "code",
   "execution_count": 18,
   "metadata": {},
   "outputs": [
    {
     "name": "stdout",
     "output_type": "stream",
     "text": [
      "a=10,b=20,c=30,d=40,e=50\n",
      "150\n"
     ]
    },
    {
     "ename": "TypeError",
     "evalue": "add() missing 3 required positional arguments: 'c', 'd', and 'e'",
     "output_type": "error",
     "traceback": [
      "\u001b[0;31m---------------------------------------------------------------------------\u001b[0m",
      "\u001b[0;31mTypeError\u001b[0m                                 Traceback (most recent call last)",
      "\u001b[0;32m<ipython-input-18-78b850104286>\u001b[0m in \u001b[0;36m<module>\u001b[0;34m()\u001b[0m\n\u001b[1;32m      4\u001b[0m     \u001b[0mprint\u001b[0m\u001b[0;34m(\u001b[0m\u001b[0mres\u001b[0m\u001b[0;34m)\u001b[0m\u001b[0;34m\u001b[0m\u001b[0m\n\u001b[1;32m      5\u001b[0m \u001b[0madd\u001b[0m\u001b[0;34m(\u001b[0m\u001b[0;36m10\u001b[0m\u001b[0;34m,\u001b[0m\u001b[0;36m20\u001b[0m\u001b[0;34m,\u001b[0m\u001b[0;36m30\u001b[0m\u001b[0;34m,\u001b[0m\u001b[0;36m40\u001b[0m\u001b[0;34m,\u001b[0m\u001b[0;36m50\u001b[0m\u001b[0;34m)\u001b[0m\u001b[0;34m\u001b[0m\u001b[0m\n\u001b[0;32m----> 6\u001b[0;31m \u001b[0madd\u001b[0m\u001b[0;34m(\u001b[0m\u001b[0;36m10\u001b[0m\u001b[0;34m,\u001b[0m\u001b[0;36m20\u001b[0m\u001b[0;34m)\u001b[0m\u001b[0;34m\u001b[0m\u001b[0m\n\u001b[0m\u001b[1;32m      7\u001b[0m \u001b[0madd\u001b[0m\u001b[0;34m(\u001b[0m\u001b[0;36m10\u001b[0m\u001b[0;34m,\u001b[0m\u001b[0;36m20\u001b[0m\u001b[0;34m,\u001b[0m\u001b[0;36m30\u001b[0m\u001b[0;34m)\u001b[0m\u001b[0;34m\u001b[0m\u001b[0m\n\u001b[1;32m      8\u001b[0m \u001b[0madd\u001b[0m\u001b[0;34m(\u001b[0m\u001b[0;36m10\u001b[0m\u001b[0;34m,\u001b[0m\u001b[0;36m200\u001b[0m\u001b[0;34m,\u001b[0m\u001b[0;36m30\u001b[0m\u001b[0;34m,\u001b[0m\u001b[0;36m40\u001b[0m\u001b[0;34m)\u001b[0m\u001b[0;34m\u001b[0m\u001b[0m\n",
      "\u001b[0;31mTypeError\u001b[0m: add() missing 3 required positional arguments: 'c', 'd', and 'e'"
     ]
    }
   ],
   "source": [
    "def add(a,b,c,d,e):\n",
    "    print(f\"a={a},b={b},c={c},d={d},e={e}\")\n",
    "    res=a+b+c+d+e\n",
    "    print(res)\n",
    "add(10,20,30,40,50)\n",
    "add(10,20)\n",
    "add(10,20,30)\n",
    "add(10,200,30,40)"
   ]
  },
  {
   "cell_type": "code",
   "execution_count": 20,
   "metadata": {},
   "outputs": [
    {
     "name": "stdout",
     "output_type": "stream",
     "text": [
      "a=10,b=20,c=0,d=0,e=0\n",
      "30\n",
      "a=10,b=20,c=30,d=0,e=0\n",
      "60\n",
      "a=10,b=200,c=30,d=40,e=0\n",
      "280\n",
      "a=1,b=2,c=3,d=4,e=5\n",
      "15\n"
     ]
    }
   ],
   "source": [
    "def add(a,b,c=0,d=0,e=0): # default argumetns\n",
    "    \"\"\"\n",
    "    a,b: int: mandatory parameters\n",
    "    c,d,e: int: optional parameters: default value : 0\n",
    "    this function prints adition of given values\n",
    "    examples: add(10,20), add(10,20,30)\n",
    "    \"\"\"\n",
    "    print(f\"a={a},b={b},c={c},d={d},e={e}\")\n",
    "    res=a+b+c+d+e\n",
    "    print(res)\n",
    "add(10,20)\n",
    "add(10,20,30)\n",
    "add(10,200,30,40)\n",
    "add(1,2,3,4,5)"
   ]
  },
  {
   "cell_type": "code",
   "execution_count": 21,
   "metadata": {},
   "outputs": [
    {
     "name": "stdout",
     "output_type": "stream",
     "text": [
      "a=0,b=0,c=0,d=0,e=0\n",
      "0\n"
     ]
    }
   ],
   "source": [
    "def add(a=0,b=0,c=0,d=0,e=0):\n",
    "    print(f\"a={a},b={b},c={c},d={d},e={e}\")\n",
    "    res=a+b+c+d+e\n",
    "    print(res)\n",
    "add()\n"
   ]
  },
  {
   "cell_type": "code",
   "execution_count": 23,
   "metadata": {},
   "outputs": [
    {
     "name": "stdout",
     "output_type": "stream",
     "text": [
      "id:1,name:sai,gender:None,age:None\n",
      "id:2,name:jay,gender:M,age:None\n",
      "id:3,name:vedha,gender:M,age:1.2\n"
     ]
    }
   ],
   "source": [
    "# define person function name id mandatory params age gender are optional parameters. print the given details in function\n",
    "def person(p_id,name,gender=None,age=None):\n",
    "    print(f\"id:{p_id},name:{name},gender:{gender},age:{age}\")\n",
    "person(1,\"sai\")\n",
    "person(2,\"jay\",\"M\")\n",
    "person(3,\"vedha\",\"M\",1.2)"
   ]
  },
  {
   "cell_type": "code",
   "execution_count": 24,
   "metadata": {},
   "outputs": [
    {
     "name": "stdout",
     "output_type": "stream",
     "text": [
      "id:1,name:sai,gender:29,age:None\n"
     ]
    }
   ],
   "source": [
    "# define person function name id mandatory params age gender are optional parameters. print the given details in function\n",
    "def person(p_id,name,gender=None,age=None):\n",
    "    print(f\"id:{p_id},name:{name},gender:{gender},age:{age}\")\n",
    "person(1,\"sai\",29)"
   ]
  },
  {
   "cell_type": "code",
   "execution_count": 25,
   "metadata": {},
   "outputs": [
    {
     "ename": "SyntaxError",
     "evalue": "invalid syntax (<ipython-input-25-120ec3c73ec3>, line 4)",
     "output_type": "error",
     "traceback": [
      "\u001b[0;36m  File \u001b[0;32m\"<ipython-input-25-120ec3c73ec3>\"\u001b[0;36m, line \u001b[0;32m4\u001b[0m\n\u001b[0;31m    person(1,\"sai\",,29)\u001b[0m\n\u001b[0m                   ^\u001b[0m\n\u001b[0;31mSyntaxError\u001b[0m\u001b[0;31m:\u001b[0m invalid syntax\n"
     ]
    }
   ],
   "source": [
    "# define person function name id mandatory params age gender are optional parameters. print the given details in function\n",
    "def person(p_id,name,gender=None,age=None):\n",
    "    print(f\"id:{p_id},name:{name},gender:{gender},age:{age}\")\n",
    "person(1,\"sai\",,29)"
   ]
  },
  {
   "cell_type": "code",
   "execution_count": 26,
   "metadata": {},
   "outputs": [
    {
     "name": "stdout",
     "output_type": "stream",
     "text": [
      "id:1,name:sai,gender:None,age:29\n"
     ]
    }
   ],
   "source": [
    "# define person function name id mandatory params age gender are optional parameters. print the given details in function\n",
    "def person(p_id,name,gender=None,age=None):\n",
    "    print(f\"id:{p_id},name:{name},gender:{gender},age:{age}\")\n",
    "person(1,\"sai\",age=29)# 1, sai positional arguments. age=29 keyword arguments"
   ]
  },
  {
   "cell_type": "code",
   "execution_count": 27,
   "metadata": {},
   "outputs": [
    {
     "name": "stdout",
     "output_type": "stream",
     "text": [
      "id:1,name:sai,gender:None,age:29\n"
     ]
    }
   ],
   "source": [
    "# define person function name id mandatory params age gender are optional parameters. print the given details in function\n",
    "def person(p_id,name,gender=None,age=None):\n",
    "    print(f\"id:{p_id},name:{name},gender:{gender},age:{age}\")\n",
    "person(name=\"sai\",p_id=1,age=29)# 1, sai positional arguments. age=29 keyword arguments"
   ]
  },
  {
   "cell_type": "code",
   "execution_count": 28,
   "metadata": {},
   "outputs": [
    {
     "name": "stdout",
     "output_type": "stream",
     "text": [
      "id:1,name:sai,gender:None,age:29\n"
     ]
    }
   ],
   "source": [
    "# define person function name id mandatory params age gender are optional parameters. print the given details in function\n",
    "def person(p_id,name,gender=None,age=None):\n",
    "    print(f\"id:{p_id},name:{name},gender:{gender},age:{age}\")\n",
    "person(1,\"sai\",None,29)"
   ]
  },
  {
   "cell_type": "code",
   "execution_count": 29,
   "metadata": {},
   "outputs": [],
   "source": [
    "import pandas as pd"
   ]
  },
  {
   "cell_type": "code",
   "execution_count": 32,
   "metadata": {},
   "outputs": [],
   "source": [
    "pd.read_csv?"
   ]
  },
  {
   "cell_type": "code",
   "execution_count": 31,
   "metadata": {},
   "outputs": [
    {
     "ename": "SyntaxError",
     "evalue": "non-default argument follows default argument (<ipython-input-31-8c908c73164f>, line 1)",
     "output_type": "error",
     "traceback": [
      "\u001b[0;36m  File \u001b[0;32m\"<ipython-input-31-8c908c73164f>\"\u001b[0;36m, line \u001b[0;32m1\u001b[0m\n\u001b[0;31m    def fun(a,b=20,c):\u001b[0m\n\u001b[0m           ^\u001b[0m\n\u001b[0;31mSyntaxError\u001b[0m\u001b[0;31m:\u001b[0m non-default argument follows default argument\n"
     ]
    }
   ],
   "source": [
    "def fun(a,b=20,c):\n",
    "    print(a,b,c)"
   ]
  },
  {
   "cell_type": "code",
   "execution_count": 33,
   "metadata": {},
   "outputs": [
    {
     "ename": "TypeError",
     "evalue": "person() missing 1 required positional argument: 'name'",
     "output_type": "error",
     "traceback": [
      "\u001b[0;31m---------------------------------------------------------------------------\u001b[0m",
      "\u001b[0;31mTypeError\u001b[0m                                 Traceback (most recent call last)",
      "\u001b[0;32m<ipython-input-33-1695e0ea75e0>\u001b[0m in \u001b[0;36m<module>\u001b[0;34m()\u001b[0m\n\u001b[1;32m      1\u001b[0m \u001b[0;32mdef\u001b[0m \u001b[0mperson\u001b[0m\u001b[0;34m(\u001b[0m\u001b[0mp_id\u001b[0m\u001b[0;34m,\u001b[0m\u001b[0mname\u001b[0m\u001b[0;34m,\u001b[0m\u001b[0mgender\u001b[0m\u001b[0;34m=\u001b[0m\u001b[0;32mNone\u001b[0m\u001b[0;34m,\u001b[0m\u001b[0mage\u001b[0m\u001b[0;34m=\u001b[0m\u001b[0;32mNone\u001b[0m\u001b[0;34m)\u001b[0m\u001b[0;34m:\u001b[0m\u001b[0;34m\u001b[0m\u001b[0m\n\u001b[1;32m      2\u001b[0m     \u001b[0mprint\u001b[0m\u001b[0;34m(\u001b[0m\u001b[0;34mf\"id:{p_id},name:{name},gender:{gender},age:{age}\"\u001b[0m\u001b[0;34m)\u001b[0m\u001b[0;34m\u001b[0m\u001b[0m\n\u001b[0;32m----> 3\u001b[0;31m \u001b[0mperson\u001b[0m\u001b[0;34m(\u001b[0m\u001b[0mp_id\u001b[0m\u001b[0;34m=\u001b[0m\u001b[0;36m1\u001b[0m\u001b[0;34m,\u001b[0m\u001b[0mage\u001b[0m\u001b[0;34m=\u001b[0m\u001b[0;36m29\u001b[0m\u001b[0;34m)\u001b[0m\u001b[0;34m\u001b[0m\u001b[0m\n\u001b[0m",
      "\u001b[0;31mTypeError\u001b[0m: person() missing 1 required positional argument: 'name'"
     ]
    }
   ],
   "source": [
    "def person(p_id,name,gender=None,age=None):\n",
    "    print(f\"id:{p_id},name:{name},gender:{gender},age:{age}\")\n",
    "person(p_id=1,age=29)"
   ]
  },
  {
   "cell_type": "code",
   "execution_count": 34,
   "metadata": {},
   "outputs": [
    {
     "ename": "TypeError",
     "evalue": "person() got multiple values for argument 'name'",
     "output_type": "error",
     "traceback": [
      "\u001b[0;31m---------------------------------------------------------------------------\u001b[0m",
      "\u001b[0;31mTypeError\u001b[0m                                 Traceback (most recent call last)",
      "\u001b[0;32m<ipython-input-34-e360dae0ef66>\u001b[0m in \u001b[0;36m<module>\u001b[0;34m()\u001b[0m\n\u001b[1;32m      1\u001b[0m \u001b[0;32mdef\u001b[0m \u001b[0mperson\u001b[0m\u001b[0;34m(\u001b[0m\u001b[0mp_id\u001b[0m\u001b[0;34m,\u001b[0m\u001b[0mname\u001b[0m\u001b[0;34m,\u001b[0m\u001b[0mgender\u001b[0m\u001b[0;34m=\u001b[0m\u001b[0;32mNone\u001b[0m\u001b[0;34m,\u001b[0m\u001b[0mage\u001b[0m\u001b[0;34m=\u001b[0m\u001b[0;32mNone\u001b[0m\u001b[0;34m)\u001b[0m\u001b[0;34m:\u001b[0m\u001b[0;34m\u001b[0m\u001b[0m\n\u001b[1;32m      2\u001b[0m     \u001b[0mprint\u001b[0m\u001b[0;34m(\u001b[0m\u001b[0;34mf\"id:{p_id},name:{name},gender:{gender},age:{age}\"\u001b[0m\u001b[0;34m)\u001b[0m\u001b[0;34m\u001b[0m\u001b[0m\n\u001b[0;32m----> 3\u001b[0;31m \u001b[0mperson\u001b[0m\u001b[0;34m(\u001b[0m\u001b[0;36m1\u001b[0m\u001b[0;34m,\u001b[0m\u001b[0;34m\"sai\"\u001b[0m\u001b[0;34m,\u001b[0m\u001b[0mname\u001b[0m\u001b[0;34m=\u001b[0m\u001b[0;34m\"jay\"\u001b[0m\u001b[0;34m)\u001b[0m\u001b[0;34m\u001b[0m\u001b[0m\n\u001b[0m",
      "\u001b[0;31mTypeError\u001b[0m: person() got multiple values for argument 'name'"
     ]
    }
   ],
   "source": [
    "def person(p_id,name,gender=None,age=None):\n",
    "    print(f\"id:{p_id},name:{name},gender:{gender},age:{age}\")\n",
    "person(1,\"sai\",name=\"jay\")"
   ]
  },
  {
   "cell_type": "code",
   "execution_count": 35,
   "metadata": {},
   "outputs": [],
   "source": [
    "person?"
   ]
  },
  {
   "cell_type": "code",
   "execution_count": 36,
   "metadata": {},
   "outputs": [],
   "source": [
    "person.__doc__"
   ]
  },
  {
   "cell_type": "code",
   "execution_count": 38,
   "metadata": {},
   "outputs": [
    {
     "name": "stdout",
     "output_type": "stream",
     "text": [
      "id:1,name:sai,gender:None,age:None\n"
     ]
    }
   ],
   "source": [
    "def person(p_id,name,gender=None,age=None):\n",
    "    \"\"\"\n",
    "    person(p_id,name,gender=None,age=None)\n",
    "    \"\"\"\n",
    "    print(f\"id:{p_id},name:{name},gender:{gender},age:{age}\")\n",
    "person(1,\"sai\")"
   ]
  },
  {
   "cell_type": "code",
   "execution_count": 39,
   "metadata": {},
   "outputs": [],
   "source": [
    "person?"
   ]
  },
  {
   "cell_type": "code",
   "execution_count": 40,
   "metadata": {},
   "outputs": [
    {
     "data": {
      "text/plain": [
       "'\\n    person(p_id,name,gender=None,age=None)\\n    '"
      ]
     },
     "execution_count": 40,
     "metadata": {},
     "output_type": "execute_result"
    }
   ],
   "source": [
    "person.__doc__"
   ]
  },
  {
   "cell_type": "code",
   "execution_count": 41,
   "metadata": {},
   "outputs": [
    {
     "name": "stdout",
     "output_type": "stream",
     "text": [
      "() <class 'tuple'>\n",
      "(10,) <class 'tuple'>\n",
      "(1, 2, 3, 4, 5, 6, 7, 8, 9) <class 'tuple'>\n",
      "(1, 2) <class 'tuple'>\n",
      "(1, 2, 3, 4, 5, 5, 4, 5, 5, 45, 5, 5, 654, 6, 5, 54, 4, 3, 354, 4) <class 'tuple'>\n"
     ]
    }
   ],
   "source": [
    "def fun(*k):\n",
    "    print(k,type(k))\n",
    "fun()\n",
    "fun(10)\n",
    "fun(1,2,3,4,5,6,7,8,9)\n",
    "fun(1,2)\n",
    "fun(1,2,3,4,5,5,4,5,5,45,5,5,654,6,5,54,4,3,354,4,)"
   ]
  },
  {
   "cell_type": "code",
   "execution_count": 42,
   "metadata": {},
   "outputs": [
    {
     "ename": "TypeError",
     "evalue": "fun() got an unexpected keyword argument 'x'",
     "output_type": "error",
     "traceback": [
      "\u001b[0;31m---------------------------------------------------------------------------\u001b[0m",
      "\u001b[0;31mTypeError\u001b[0m                                 Traceback (most recent call last)",
      "\u001b[0;32m<ipython-input-42-037b3f716d7f>\u001b[0m in \u001b[0;36m<module>\u001b[0;34m()\u001b[0m\n\u001b[1;32m      1\u001b[0m \u001b[0;32mdef\u001b[0m \u001b[0mfun\u001b[0m\u001b[0;34m(\u001b[0m\u001b[0;34m*\u001b[0m\u001b[0mk\u001b[0m\u001b[0;34m)\u001b[0m\u001b[0;34m:\u001b[0m\u001b[0;34m\u001b[0m\u001b[0m\n\u001b[1;32m      2\u001b[0m     \u001b[0mprint\u001b[0m\u001b[0;34m(\u001b[0m\u001b[0mk\u001b[0m\u001b[0;34m,\u001b[0m\u001b[0mtype\u001b[0m\u001b[0;34m(\u001b[0m\u001b[0mk\u001b[0m\u001b[0;34m)\u001b[0m\u001b[0;34m)\u001b[0m\u001b[0;34m\u001b[0m\u001b[0m\n\u001b[0;32m----> 3\u001b[0;31m \u001b[0mfun\u001b[0m\u001b[0;34m(\u001b[0m\u001b[0mx\u001b[0m\u001b[0;34m=\u001b[0m\u001b[0;36m10\u001b[0m\u001b[0;34m,\u001b[0m\u001b[0my\u001b[0m\u001b[0;34m=\u001b[0m\u001b[0;36m20\u001b[0m\u001b[0;34m,\u001b[0m\u001b[0mz\u001b[0m\u001b[0;34m=\u001b[0m\u001b[0;36m30\u001b[0m\u001b[0;34m)\u001b[0m\u001b[0;34m\u001b[0m\u001b[0m\n\u001b[0m",
      "\u001b[0;31mTypeError\u001b[0m: fun() got an unexpected keyword argument 'x'"
     ]
    }
   ],
   "source": [
    "def fun(*k):\n",
    "    print(k,type(k))\n",
    "fun(x=10,y=20,z=30)"
   ]
  },
  {
   "cell_type": "code",
   "execution_count": 43,
   "metadata": {},
   "outputs": [
    {
     "name": "stdout",
     "output_type": "stream",
     "text": [
      "{'x': 10, 'y': 20, 'z': 30} <class 'dict'>\n"
     ]
    }
   ],
   "source": [
    "def fun(**k):\n",
    "    print(k,type(k))\n",
    "fun(x=10,y=20,z=30)"
   ]
  },
  {
   "cell_type": "code",
   "execution_count": null,
   "metadata": {},
   "outputs": [],
   "source": [
    "# call this function with different arguments make some notes.\n",
    "def fun(a,b=10,c=20,*k,**m):\n",
    "    print(f\"a={a},b={b},c={c},k={k},m={m}\")"
   ]
  }
 ],
 "metadata": {
  "kernelspec": {
   "display_name": "Python 3",
   "language": "python",
   "name": "python3"
  },
  "language_info": {
   "codemirror_mode": {
    "name": "ipython",
    "version": 3
   },
   "file_extension": ".py",
   "mimetype": "text/x-python",
   "name": "python",
   "nbconvert_exporter": "python",
   "pygments_lexer": "ipython3",
   "version": "3.7.0"
  }
 },
 "nbformat": 4,
 "nbformat_minor": 2
}
