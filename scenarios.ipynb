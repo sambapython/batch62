{
 "cells": [
  {
   "cell_type": "code",
   "execution_count": 5,
   "metadata": {},
   "outputs": [
    {
     "name": "stdout",
     "output_type": "stream",
     "text": [
      "OK\n"
     ]
    }
   ],
   "source": [
    "required={\"name\":\"\",\"dob\":\"\",\"degree\":\"\"}\n",
    "optional= {\"address\":\"\",\"pan\":\"\",\"cell\":\"\",\"adhar\":\"\",\"voterid\":\"\"}\n",
    "def fun(params):\n",
    "    \"\"\"\n",
    "    params: dict\n",
    "    return the params which are missing from required fields, and return params which are not belongs to \n",
    "    required and optional fields.\n",
    "    \"\"\"\n",
    "    given_params = set(params)\n",
    "    all_params = set(required).union(set(optional))\n",
    "    required_params = set(required)\n",
    "    if given_params.issubset(all_params):\n",
    "        if required_params.issubset(given_params):\n",
    "            return \"OK\"\n",
    "        else:\n",
    "            req = required_params-given_params\n",
    "            return \"Missing params: %s\"%req\n",
    "    else:\n",
    "        extra = given_params-all_params\n",
    "        return \"Not expected: %s\"%extra\n",
    "print(fun({\"name\":\"sai\",\"dob\":\"23-45-67\",\"degree\":True}))  \n",
    "    "
   ]
  },
  {
   "cell_type": "code",
   "execution_count": 3,
   "metadata": {},
   "outputs": [
    {
     "data": {
      "text/plain": [
       "{'passport'}"
      ]
     },
     "execution_count": 3,
     "metadata": {},
     "output_type": "execute_result"
    }
   ],
   "source": [
    "all_params = {\"name\",\"dob\",\"degree\",\"address\",\"pan\",\"adhar\",\"cell\",\"voterid\"}\n",
    "s1={\"name\",\"passport\"}\n",
    "s1.difference(all_params)"
   ]
  },
  {
   "cell_type": "code",
   "execution_count": 4,
   "metadata": {},
   "outputs": [
    {
     "data": {
      "text/plain": [
       "False"
      ]
     },
     "execution_count": 4,
     "metadata": {},
     "output_type": "execute_result"
    }
   ],
   "source": [
    "all_params = {\"name\",\"dob\",\"degree\",\"address\",\"pan\",\"adhar\",\"cell\",\"voterid\"}\n",
    "s1={\"name\",\"passport\"}\n",
    "s1.issubset(all_params)"
   ]
  },
  {
   "cell_type": "code",
   "execution_count": 6,
   "metadata": {},
   "outputs": [
    {
     "name": "stdout",
     "output_type": "stream",
     "text": [
      "OK\n",
      "Missing params: {'dob'}\n"
     ]
    }
   ],
   "source": [
    "required={\"name\":\"\",\"dob\":\"\",\"degree\":\"\"}\n",
    "optional= {\"address\":\"\",\"pan\":\"\",\"cell\":\"\",\"adhar\":\"\",\"voterid\":\"\"}\n",
    "def fun(params):\n",
    "    \"\"\"\n",
    "    params: dict\n",
    "    return the params which are missing from required fields, and return params which are not belongs to \n",
    "    required and optional fields.\n",
    "    \"\"\"\n",
    "    given_params = set(params)\n",
    "    all_params = set(required).union(set(optional))\n",
    "    required_params = set(required)\n",
    "    if given_params.issubset(all_params):\n",
    "        if required_params.issubset(given_params):\n",
    "            return \"OK\"\n",
    "        else:\n",
    "            req = required_params-given_params\n",
    "            return \"Missing params: %s\"%req\n",
    "    else:\n",
    "        extra = given_params-all_params\n",
    "        return \"Not expected: %s\"%extra\n",
    "print(fun({\"name\":\"sai\",\"dob\":\"23-45-67\",\"degree\":True}))  \n",
    "print(fun({\"name\":\"jay\",\"degree\":False,\"pan\":\"dsrwe\"}))"
   ]
  },
  {
   "cell_type": "code",
   "execution_count": 7,
   "metadata": {},
   "outputs": [
    {
     "name": "stdout",
     "output_type": "stream",
     "text": [
      "OK\n",
      "Missing params: {'dob'}\n",
      "Not expected: {'passport'}\n"
     ]
    }
   ],
   "source": [
    "required={\"name\":\"\",\"dob\":\"\",\"degree\":\"\"}\n",
    "optional= {\"address\":\"\",\"pan\":\"\",\"cell\":\"\",\"adhar\":\"\",\"voterid\":\"\"}\n",
    "def fun(params):\n",
    "    \"\"\"\n",
    "    params: dict\n",
    "    return the params which are missing from required fields, and return params which are not belongs to \n",
    "    required and optional fields.\n",
    "    \"\"\"\n",
    "    given_params = set(params)\n",
    "    all_params = set(required).union(set(optional))\n",
    "    required_params = set(required)\n",
    "    if given_params.issubset(all_params):\n",
    "        if required_params.issubset(given_params):\n",
    "            return \"OK\"\n",
    "        else:\n",
    "            req = required_params-given_params\n",
    "            return \"Missing params: %s\"%req\n",
    "    else:\n",
    "        extra = given_params-all_params\n",
    "        return \"Not expected: %s\"%extra\n",
    "print(fun({\"name\":\"sai\",\"dob\":\"23-45-67\",\"degree\":True}))  \n",
    "print(fun({\"name\":\"jay\",\"degree\":False,\"pan\":\"dsrwe\"}))\n",
    "print(fun({\"name\":\"sai\",\"dob\":\"23-45-67\",\"degree\":True,\"passport\":\"sdfdsf\"}))  "
   ]
  },
  {
   "cell_type": "code",
   "execution_count": 8,
   "metadata": {},
   "outputs": [
    {
     "name": "stdout",
     "output_type": "stream",
     "text": [
      "s= python\n",
      "s1= PYThon\n"
     ]
    }
   ],
   "source": [
    "s=\"python\"\n",
    "s1=s.replace(\"pyt\",\"PYT\")\n",
    "print(\"s=\",s)\n",
    "print(\"s1=\",s1)"
   ]
  },
  {
   "cell_type": "code",
   "execution_count": 9,
   "metadata": {},
   "outputs": [
    {
     "name": "stdout",
     "output_type": "stream",
     "text": [
      "s= [1, 2, 3, 4, 10]\n",
      "s1= None\n"
     ]
    }
   ],
   "source": [
    "s=[1,2,3,4]\n",
    "s1=s.append(10)\n",
    "print(\"s=\",s)\n",
    "print(\"s1=\",s1)"
   ]
  },
  {
   "cell_type": "code",
   "execution_count": 10,
   "metadata": {},
   "outputs": [
    {
     "name": "stdout",
     "output_type": "stream",
     "text": [
      "[2, 3, 4, 10, 77, 90]\n"
     ]
    }
   ],
   "source": [
    "l=[10,2,3,4,90,77]\n",
    "l.sort()\n",
    "print(l)"
   ]
  },
  {
   "cell_type": "code",
   "execution_count": 11,
   "metadata": {},
   "outputs": [
    {
     "name": "stdout",
     "output_type": "stream",
     "text": [
      "[90, 77, 10, 4, 3, 2]\n"
     ]
    }
   ],
   "source": [
    "l=[10,2,3,4,90,77]\n",
    "l.sort(reverse=True)\n",
    "print(l)"
   ]
  },
  {
   "cell_type": "code",
   "execution_count": 12,
   "metadata": {},
   "outputs": [
    {
     "ename": "TypeError",
     "evalue": "'<' not supported between instances of 'int' and 'str'",
     "output_type": "error",
     "traceback": [
      "\u001b[0;31m---------------------------------------------------------------------------\u001b[0m",
      "\u001b[0;31mTypeError\u001b[0m                                 Traceback (most recent call last)",
      "\u001b[0;32m<ipython-input-12-70a6de8cc7fc>\u001b[0m in \u001b[0;36m<module>\u001b[0;34m()\u001b[0m\n\u001b[1;32m      1\u001b[0m \u001b[0ml\u001b[0m\u001b[0;34m=\u001b[0m\u001b[0;34m[\u001b[0m\u001b[0;36m10\u001b[0m\u001b[0;34m,\u001b[0m\u001b[0;36m2\u001b[0m\u001b[0;34m,\u001b[0m\u001b[0;36m3\u001b[0m\u001b[0;34m,\u001b[0m\u001b[0;36m4\u001b[0m\u001b[0;34m,\u001b[0m\u001b[0;36m90\u001b[0m\u001b[0;34m,\u001b[0m\u001b[0;36m77\u001b[0m\u001b[0;34m,\u001b[0m\u001b[0;34m\"23\"\u001b[0m\u001b[0;34m]\u001b[0m\u001b[0;34m\u001b[0m\u001b[0m\n\u001b[0;32m----> 2\u001b[0;31m \u001b[0ml\u001b[0m\u001b[0;34m.\u001b[0m\u001b[0msort\u001b[0m\u001b[0;34m(\u001b[0m\u001b[0mreverse\u001b[0m\u001b[0;34m=\u001b[0m\u001b[0;32mTrue\u001b[0m\u001b[0;34m)\u001b[0m\u001b[0;34m\u001b[0m\u001b[0m\n\u001b[0m\u001b[1;32m      3\u001b[0m \u001b[0mprint\u001b[0m\u001b[0;34m(\u001b[0m\u001b[0ml\u001b[0m\u001b[0;34m)\u001b[0m\u001b[0;34m\u001b[0m\u001b[0m\n",
      "\u001b[0;31mTypeError\u001b[0m: '<' not supported between instances of 'int' and 'str'"
     ]
    }
   ],
   "source": [
    "l=[10,2,3,4,90,77,\"23\"]\n",
    "l.sort(reverse=True)\n",
    "print(l)"
   ]
  },
  {
   "cell_type": "code",
   "execution_count": 13,
   "metadata": {},
   "outputs": [
    {
     "name": "stdout",
     "output_type": "stream",
     "text": [
      "[90, 77, 23, 10, 4, 3, 2]\n"
     ]
    }
   ],
   "source": [
    "l=[10,2,3,4,90,77,\"23\"]\n",
    "res=[]\n",
    "for i in l:\n",
    "    res.append(int(i))\n",
    "res.sort(reverse=True)\n",
    "print(res)\n"
   ]
  },
  {
   "cell_type": "code",
   "execution_count": 14,
   "metadata": {},
   "outputs": [
    {
     "name": "stdout",
     "output_type": "stream",
     "text": [
      "['BAT', 'CAT', 'ant', 'apple', 'banana', 'grape', 'orange']\n"
     ]
    }
   ],
   "source": [
    "l=[\"apple\",\"banana\",\"grape\",\"ant\",\"orange\",\"BAT\",\"CAT\"]\n",
    "l.sort()\n",
    "print(l)"
   ]
  },
  {
   "cell_type": "code",
   "execution_count": 15,
   "metadata": {},
   "outputs": [
    {
     "name": "stdout",
     "output_type": "stream",
     "text": [
      "['ant', 'apple', 'banana', 'bat', 'cat', 'grape', 'orange']\n"
     ]
    }
   ],
   "source": [
    "l=[\"apple\",\"banana\",\"grape\",\"ant\",\"orange\",\"BAT\",\"CAT\"]\n",
    "res=[]\n",
    "for i in l:\n",
    "    res.append(i.casefold())\n",
    "res.sort()\n",
    "print(res)"
   ]
  },
  {
   "cell_type": "code",
   "execution_count": 16,
   "metadata": {},
   "outputs": [],
   "source": [
    "l.sort?"
   ]
  },
  {
   "cell_type": "code",
   "execution_count": 17,
   "metadata": {},
   "outputs": [
    {
     "name": "stdout",
     "output_type": "stream",
     "text": [
      "['ant', 'apple', 'banana', 'BAT', 'CAT', 'grape', 'orange']\n"
     ]
    }
   ],
   "source": [
    "l=[\"apple\",\"banana\",\"grape\",\"ant\",\"orange\",\"BAT\",\"CAT\"]\n",
    "def fun(x):\n",
    "    return x.casefold()\n",
    "l.sort(key=fun)\n",
    "print(l)"
   ]
  },
  {
   "cell_type": "code",
   "execution_count": 18,
   "metadata": {},
   "outputs": [
    {
     "name": "stdout",
     "output_type": "stream",
     "text": [
      "[90, 77, '23', 10, 4, 3, 2]\n"
     ]
    }
   ],
   "source": [
    "l=[10,2,3,4,90,77,\"23\"]\n",
    "def fun(x):\n",
    "    return int(x)\n",
    "l.sort(reverse=True,key=fun)\n",
    "print(l)"
   ]
  },
  {
   "cell_type": "code",
   "execution_count": 19,
   "metadata": {},
   "outputs": [
    {
     "ename": "TypeError",
     "evalue": "'>' not supported between instances of 'str' and 'int'",
     "output_type": "error",
     "traceback": [
      "\u001b[0;31m---------------------------------------------------------------------------\u001b[0m",
      "\u001b[0;31mTypeError\u001b[0m                                 Traceback (most recent call last)",
      "\u001b[0;32m<ipython-input-19-d007fa670a64>\u001b[0m in \u001b[0;36m<module>\u001b[0;34m()\u001b[0m\n\u001b[1;32m      1\u001b[0m \u001b[0ml\u001b[0m\u001b[0;34m=\u001b[0m\u001b[0;34m[\u001b[0m\u001b[0;36m10\u001b[0m\u001b[0;34m,\u001b[0m\u001b[0;36m2\u001b[0m\u001b[0;34m,\u001b[0m\u001b[0;36m3\u001b[0m\u001b[0;34m,\u001b[0m\u001b[0;36m4\u001b[0m\u001b[0;34m,\u001b[0m\u001b[0;36m90\u001b[0m\u001b[0;34m,\u001b[0m\u001b[0;36m77\u001b[0m\u001b[0;34m,\u001b[0m\u001b[0;34m\"23\"\u001b[0m\u001b[0;34m]\u001b[0m\u001b[0;34m\u001b[0m\u001b[0m\n\u001b[0;32m----> 2\u001b[0;31m \u001b[0mmax\u001b[0m\u001b[0;34m(\u001b[0m\u001b[0ml\u001b[0m\u001b[0;34m)\u001b[0m\u001b[0;34m\u001b[0m\u001b[0m\n\u001b[0m",
      "\u001b[0;31mTypeError\u001b[0m: '>' not supported between instances of 'str' and 'int'"
     ]
    }
   ],
   "source": [
    "l=[10,2,3,4,90,77,\"23\"]\n",
    "max(l)"
   ]
  },
  {
   "cell_type": "code",
   "execution_count": 22,
   "metadata": {},
   "outputs": [
    {
     "data": {
      "text/plain": [
       "90"
      ]
     },
     "execution_count": 22,
     "metadata": {},
     "output_type": "execute_result"
    }
   ],
   "source": [
    "l=[10,2,3,4,90,77,\"23\"]\n",
    "def fun(x):\n",
    "    return int(x)\n",
    "max(l,key=fun)"
   ]
  },
  {
   "cell_type": "code",
   "execution_count": 23,
   "metadata": {},
   "outputs": [
    {
     "name": "stdout",
     "output_type": "stream",
     "text": [
      "['apple', 'cat', 'bat', 'MAT', 'orange', 'Mango']\n"
     ]
    }
   ],
   "source": [
    "s=\"apple cat bat MAT orange Mango\"\n",
    "s1=s.split()\n",
    "print(s1)"
   ]
  },
  {
   "cell_type": "code",
   "execution_count": 26,
   "metadata": {},
   "outputs": [
    {
     "name": "stdout",
     "output_type": "stream",
     "text": [
      "['apple', 'bat', 'cat', 'Mango', 'MAT', 'orange']\n"
     ]
    }
   ],
   "source": [
    "s=\"apple cat bat MAT orange Mango\"\n",
    "s1=s.split()\n",
    "def fun(x):\n",
    "    return x.casefold()\n",
    "s1.sort(key=fun)\n",
    "print(s1)"
   ]
  },
  {
   "cell_type": "code",
   "execution_count": 28,
   "metadata": {},
   "outputs": [
    {
     "name": "stdout",
     "output_type": "stream",
     "text": [
      "apple bat cat Mango MAT orange\n"
     ]
    }
   ],
   "source": [
    "s=\"apple cat bat MAT orange Mango\"\n",
    "s1=s.split()\n",
    "def fun(x):\n",
    "    return x.casefold()\n",
    "s1.sort(key=fun)\n",
    "s=\" \".join(s1)\n",
    "print(s)"
   ]
  },
  {
   "cell_type": "code",
   "execution_count": 30,
   "metadata": {},
   "outputs": [
    {
     "name": "stdout",
     "output_type": "stream",
     "text": [
      "3\n",
      "4\n"
     ]
    }
   ],
   "source": [
    "l1=[1,2,3,4]\n",
    "l2=[3,4,5,6]\n",
    "for i in l1:\n",
    "    if i in l2:\n",
    "        print(i)"
   ]
  },
  {
   "cell_type": "code",
   "execution_count": 32,
   "metadata": {},
   "outputs": [
    {
     "data": {
      "text/plain": [
       "{3, 4}"
      ]
     },
     "execution_count": 32,
     "metadata": {},
     "output_type": "execute_result"
    }
   ],
   "source": [
    "l1=[1,2,3,4]\n",
    "l2=[3,4,5,6]\n",
    "set(l1).intersection(l2)"
   ]
  },
  {
   "cell_type": "code",
   "execution_count": null,
   "metadata": {},
   "outputs": [],
   "source": []
  }
 ],
 "metadata": {
  "kernelspec": {
   "display_name": "Python 3",
   "language": "python",
   "name": "python3"
  },
  "language_info": {
   "codemirror_mode": {
    "name": "ipython",
    "version": 3
   },
   "file_extension": ".py",
   "mimetype": "text/x-python",
   "name": "python",
   "nbconvert_exporter": "python",
   "pygments_lexer": "ipython3",
   "version": "3.7.0"
  }
 },
 "nbformat": 4,
 "nbformat_minor": 2
}
