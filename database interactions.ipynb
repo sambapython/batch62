{
 "cells": [
  {
   "cell_type": "code",
   "execution_count": 1,
   "metadata": {},
   "outputs": [],
   "source": [
    "import sqlite3"
   ]
  },
  {
   "cell_type": "code",
   "execution_count": 2,
   "metadata": {},
   "outputs": [],
   "source": [
    "con = sqlite3.connect(\"db1.sqlite3\")"
   ]
  },
  {
   "cell_type": "code",
   "execution_count": 3,
   "metadata": {},
   "outputs": [
    {
     "data": {
      "text/plain": [
       "'/home/khyaathipython/batch62'"
      ]
     },
     "execution_count": 3,
     "metadata": {},
     "output_type": "execute_result"
    }
   ],
   "source": [
    "pwd"
   ]
  },
  {
   "cell_type": "code",
   "execution_count": 4,
   "metadata": {},
   "outputs": [],
   "source": [
    "cur = con.cursor()"
   ]
  },
  {
   "cell_type": "code",
   "execution_count": 5,
   "metadata": {},
   "outputs": [
    {
     "data": {
      "text/plain": [
       "<sqlite3.Cursor at 0x7fab645889d0>"
      ]
     },
     "execution_count": 5,
     "metadata": {},
     "output_type": "execute_result"
    }
   ],
   "source": [
    "cur.execute(\"create table customer(id int, name varchar(250))\")"
   ]
  },
  {
   "cell_type": "code",
   "execution_count": 6,
   "metadata": {},
   "outputs": [
    {
     "data": {
      "text/plain": [
       "<sqlite3.Cursor at 0x7fab645889d0>"
      ]
     },
     "execution_count": 6,
     "metadata": {},
     "output_type": "execute_result"
    }
   ],
   "source": [
    "q=\"insert into customer(id,name) values(1,'JAYARAM')\"\n",
    "cur.execute(q)"
   ]
  },
  {
   "cell_type": "code",
   "execution_count": 7,
   "metadata": {},
   "outputs": [],
   "source": [
    "con.commit()"
   ]
  },
  {
   "cell_type": "code",
   "execution_count": 17,
   "metadata": {},
   "outputs": [
    {
     "data": {
      "text/plain": [
       "'shiva'"
      ]
     },
     "execution_count": 17,
     "metadata": {},
     "output_type": "execute_result"
    }
   ],
   "source": [
    "names=[\"samba\",\"shiva\",\"nikil\",\"prashanth\",\"kumar\",\"akshitha\",\"thapaswi\",\"nabiha\"]\n",
    "import random\n",
    "random.choice(names)"
   ]
  },
  {
   "cell_type": "code",
   "execution_count": 18,
   "metadata": {},
   "outputs": [
    {
     "name": "stdout",
     "output_type": "stream",
     "text": [
      "insert into customer(id,name) values(2,'prashanth')\n"
     ]
    }
   ],
   "source": [
    "names=[\"samba\",\"shiva\",\"nikil\",\"prashanth\",\"kumar\",\"akshitha\",\"thapaswi\",\"nabiha\"]\n",
    "import random\n",
    "for i in range(2,102):\n",
    "    q=\"insert into customer(id,name) values(%s,'%s')\"%(i,random.choice(names))\n",
    "    print(q)\n",
    "    break"
   ]
  },
  {
   "cell_type": "code",
   "execution_count": 19,
   "metadata": {},
   "outputs": [],
   "source": [
    "names=[\"samba\",\"shiva\",\"nikil\",\"prashanth\",\"kumar\",\"akshitha\",\"thapaswi\",\"nabiha\"]\n",
    "import random\n",
    "for i in range(2,102):\n",
    "    q=\"insert into customer(id,name) values(%s,'%s')\"%(i,random.choice(names))\n",
    "    cur.execute(q)\n",
    "    con.commit()"
   ]
  },
  {
   "cell_type": "code",
   "execution_count": 20,
   "metadata": {},
   "outputs": [
    {
     "data": {
      "text/plain": [
       "<sqlite3.Cursor at 0x7fab645889d0>"
      ]
     },
     "execution_count": 20,
     "metadata": {},
     "output_type": "execute_result"
    }
   ],
   "source": [
    "q=\"select * from customer\"\n",
    "cur.execute(q)"
   ]
  },
  {
   "cell_type": "code",
   "execution_count": 21,
   "metadata": {},
   "outputs": [
    {
     "name": "stdout",
     "output_type": "stream",
     "text": [
      "[(1, 'JAYARAM'), (2, 'kumar'), (3, 'shiva'), (4, 'kumar'), (5, 'nikil'), (6, 'nabiha'), (7, 'nabiha'), (8, 'shiva'), (9, 'shiva'), (10, 'nikil'), (11, 'nabiha'), (12, 'akshitha'), (13, 'shiva'), (14, 'prashanth'), (15, 'prashanth'), (16, 'nabiha'), (17, 'nikil'), (18, 'samba'), (19, 'kumar'), (20, 'prashanth'), (21, 'samba'), (22, 'shiva'), (23, 'nikil'), (24, 'thapaswi'), (25, 'samba'), (26, 'nikil'), (27, 'kumar'), (28, 'samba'), (29, 'nikil'), (30, 'kumar'), (31, 'kumar'), (32, 'nabiha'), (33, 'akshitha'), (34, 'nikil'), (35, 'samba'), (36, 'akshitha'), (37, 'prashanth'), (38, 'thapaswi'), (39, 'prashanth'), (40, 'kumar'), (41, 'thapaswi'), (42, 'nikil'), (43, 'kumar'), (44, 'prashanth'), (45, 'prashanth'), (46, 'thapaswi'), (47, 'nabiha'), (48, 'thapaswi'), (49, 'nikil'), (50, 'akshitha'), (51, 'thapaswi'), (52, 'kumar'), (53, 'thapaswi'), (54, 'nikil'), (55, 'prashanth'), (56, 'samba'), (57, 'shiva'), (58, 'prashanth'), (59, 'shiva'), (60, 'thapaswi'), (61, 'kumar'), (62, 'prashanth'), (63, 'nikil'), (64, 'akshitha'), (65, 'thapaswi'), (66, 'akshitha'), (67, 'akshitha'), (68, 'nabiha'), (69, 'nikil'), (70, 'thapaswi'), (71, 'samba'), (72, 'kumar'), (73, 'akshitha'), (74, 'nabiha'), (75, 'akshitha'), (76, 'nabiha'), (77, 'samba'), (78, 'samba'), (79, 'akshitha'), (80, 'samba'), (81, 'thapaswi'), (82, 'kumar'), (83, 'samba'), (84, 'samba'), (85, 'nikil'), (86, 'prashanth'), (87, 'akshitha'), (88, 'nabiha'), (89, 'thapaswi'), (90, 'prashanth'), (91, 'samba'), (92, 'nabiha'), (93, 'kumar'), (94, 'thapaswi'), (95, 'nabiha'), (96, 'shiva'), (97, 'thapaswi'), (98, 'shiva'), (99, 'shiva'), (100, 'shiva'), (101, 'shiva')]\n"
     ]
    }
   ],
   "source": [
    "data = cur.fetchall()\n",
    "print(data)"
   ]
  },
  {
   "cell_type": "code",
   "execution_count": 22,
   "metadata": {},
   "outputs": [
    {
     "name": "stdout",
     "output_type": "stream",
     "text": [
      "[(101,)]\n"
     ]
    }
   ],
   "source": [
    "q=\"select count(*) from customer\"\n",
    "cur.execute(q)\n",
    "print(cur.fetchall())"
   ]
  },
  {
   "cell_type": "code",
   "execution_count": 23,
   "metadata": {},
   "outputs": [
    {
     "name": "stdout",
     "output_type": "stream",
     "text": [
      "[(1, 'JAYARAM'), (11, 'akshitha'), (13, 'kumar'), (12, 'nabiha'), (13, 'nikil'), (12, 'prashanth'), (13, 'samba'), (12, 'shiva'), (14, 'thapaswi')]\n"
     ]
    }
   ],
   "source": [
    "q=\"select count(*),name from customer group by(name)\"\n",
    "cur.execute(q)\n",
    "print(cur.fetchall())"
   ]
  },
  {
   "cell_type": "code",
   "execution_count": 24,
   "metadata": {},
   "outputs": [
    {
     "name": "stdout",
     "output_type": "stream",
     "text": [
      "[(1, 'JAYARAM'), (11, 'akshitha'), (12, 'nabiha'), (12, 'prashanth'), (12, 'shiva'), (13, 'kumar'), (13, 'nikil'), (13, 'samba'), (14, 'thapaswi')]\n"
     ]
    }
   ],
   "source": [
    "q=\"select count(*) as c,name from customer group by(name) order by(c)\"\n",
    "cur.execute(q)\n",
    "print(cur.fetchall())"
   ]
  },
  {
   "cell_type": "code",
   "execution_count": 25,
   "metadata": {},
   "outputs": [],
   "source": [
    "q=\"update customer set name='jayaram' where id=1\"\n",
    "cur.execute(q)\n",
    "con.commit()"
   ]
  },
  {
   "cell_type": "code",
   "execution_count": 26,
   "metadata": {},
   "outputs": [
    {
     "name": "stdout",
     "output_type": "stream",
     "text": [
      "[(1, 'jayaram'), (11, 'akshitha'), (12, 'nabiha'), (12, 'prashanth'), (12, 'shiva'), (13, 'kumar'), (13, 'nikil'), (13, 'samba'), (14, 'thapaswi')]\n"
     ]
    }
   ],
   "source": [
    "q=\"select count(*) as c,name from customer group by(name) order by(c)\"\n",
    "cur.execute(q)\n",
    "print(cur.fetchall())"
   ]
  },
  {
   "cell_type": "code",
   "execution_count": 28,
   "metadata": {},
   "outputs": [],
   "source": [
    "q=\"delete from customer where name='samba'\"\n",
    "cur.execute(q)\n",
    "con.commit()"
   ]
  },
  {
   "cell_type": "code",
   "execution_count": 29,
   "metadata": {},
   "outputs": [
    {
     "name": "stdout",
     "output_type": "stream",
     "text": [
      "[(1, 'jayaram'), (11, 'akshitha'), (12, 'nabiha'), (12, 'prashanth'), (12, 'shiva'), (13, 'kumar'), (13, 'nikil'), (14, 'thapaswi')]\n"
     ]
    }
   ],
   "source": [
    "q=\"select count(*) as c,name from customer group by(name) order by(c)\"\n",
    "cur.execute(q)\n",
    "print(cur.fetchall())"
   ]
  },
  {
   "cell_type": "code",
   "execution_count": null,
   "metadata": {},
   "outputs": [],
   "source": []
  }
 ],
 "metadata": {
  "kernelspec": {
   "display_name": "Python 3",
   "language": "python",
   "name": "python3"
  },
  "language_info": {
   "codemirror_mode": {
    "name": "ipython",
    "version": 3
   },
   "file_extension": ".py",
   "mimetype": "text/x-python",
   "name": "python",
   "nbconvert_exporter": "python",
   "pygments_lexer": "ipython3",
   "version": "3.7.0"
  }
 },
 "nbformat": 4,
 "nbformat_minor": 2
}
